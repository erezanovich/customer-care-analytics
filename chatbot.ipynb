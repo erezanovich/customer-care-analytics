{
 "cells": [
  {
   "cell_type": "code",
   "execution_count": null,
   "metadata": {},
   "outputs": [],
   "source": [
    "import pandas as pd\n",
    "import numpy as np\n",
    "import matplotlib.pyplot as plt\n",
    "import seaborn as sns\n",
    "import datetime as dt\n",
    "import itertools\n",
    "import re\n",
    "from itertools import product\n",
    "import operator\n",
    "from functools import reduce\n",
    "#from pandas import option_context\n",
    "#%pip install openpyxl\n",
    "%config InlineBackend.figure_format = 'retina'\n",
    "plt.style.use('seaborn-pastel')\n",
    "plt.style.use('seaborn-dark')"
   ]
  },
  {
   "cell_type": "code",
   "execution_count": null,
   "metadata": {},
   "outputs": [],
   "source": [
    "import matplotlib\n",
    "from matplotlib.colors import ListedColormap\n",
    "from matplotlib.colors import LinearSegmentedColormap\n",
    "matplotlib.style.use('dark_background')\n",
    "color_list = ['white','skyblue','pink', 'tomato', 'slateblue', 'wheat', 'lightgrey', 'limegreen', 'royalblue', 'yellowgreen', 'lightseagreen', 'orchid', 'orange']\n",
    "cmap = LinearSegmentedColormap.from_list(\"\",color_list)"
   ]
  },
  {
   "cell_type": "code",
   "execution_count": null,
   "metadata": {},
   "outputs": [],
   "source": [
    "# Import all the google connexion packages\n",
    "import os\n",
    "import google.auth\n",
    "from google.cloud import bigquery\n",
    "from google.auth import impersonated_credentials\n",
    "\n",
    "os.environ['GOOGLE_APPLICATION_CREDENTIALS'] = \"/Users/a20015173/.config/gcloud/legacy_credentials/ekaterina.rezanovich@adeo.com/adc.json\"\n",
    "client_1 = bigquery.Client(project = 'ccdp-transverse-data-dev')"
   ]
  },
  {
   "cell_type": "code",
   "execution_count": null,
   "metadata": {},
   "outputs": [],
   "source": [
    "filepath_1 = \"./datasets/questions.parquet\"\n",
    "if not os.path.isfile(filepath_1):\n",
    "\n",
    "    query = \"\"\"\n",
    "    select t1.survey_id, t1.name , t2.question_id, t2.name, t2.content\n",
    "    from `dfdp-customer-exp-mt-prod.customer_experience_measure_bu001.client_experience_survey` as t1\n",
    "    left join `dfdp-customer-exp-mt-prod.customer_experience_measure_bu001.client_experience_question` as t2 on t2.survey_id = t1.survey_id\n",
    "    where t2.question_id in ('SV_81jKyfOtepO6Weq__QID1_NPS_GROUP', 'SV_4OUB8z9FwEgBiU6__QID1_NPS_GROUP', 'SV_5nFeSHRTsx1yxWC__QID1_NPS_GROUP', 'SV_77FLHcnyIyMM07Q__QID1_NPS_GROUP', 'SV_bj9J6UgbM2yIATQ__QID13_NPS_GROUP',\n",
    "    'SV_2fA21joHLvPEZoi__QID1_NPS_GROUP', 'SV_5nVqXD824PZXj14__QID1_NPS_GROUP')\"\"\"\n",
    "\n",
    "    dl_data = pd.read_gbq(query=query, project_id=\"ccdp-transverse-data-dev\")\n",
    "    dl_data.to_parquet(filepath_1)\n",
    "\n",
    "df_q = pd.read_parquet(filepath_1)"
   ]
  },
  {
   "cell_type": "code",
   "execution_count": null,
   "metadata": {},
   "outputs": [],
   "source": []
  },
  {
   "cell_type": "code",
   "execution_count": null,
   "metadata": {},
   "outputs": [],
   "source": []
  },
  {
   "cell_type": "code",
   "execution_count": null,
   "metadata": {},
   "outputs": [],
   "source": []
  },
  {
   "cell_type": "code",
   "execution_count": null,
   "metadata": {},
   "outputs": [],
   "source": []
  },
  {
   "cell_type": "code",
   "execution_count": null,
   "metadata": {},
   "outputs": [],
   "source": []
  },
  {
   "cell_type": "code",
   "execution_count": null,
   "metadata": {},
   "outputs": [],
   "source": []
  },
  {
   "cell_type": "code",
   "execution_count": null,
   "metadata": {},
   "outputs": [],
   "source": []
  },
  {
   "cell_type": "code",
   "execution_count": null,
   "metadata": {},
   "outputs": [],
   "source": []
  },
  {
   "cell_type": "code",
   "execution_count": null,
   "metadata": {},
   "outputs": [],
   "source": []
  },
  {
   "cell_type": "code",
   "execution_count": null,
   "metadata": {},
   "outputs": [],
   "source": []
  },
  {
   "cell_type": "code",
   "execution_count": null,
   "metadata": {},
   "outputs": [],
   "source": []
  },
  {
   "cell_type": "code",
   "execution_count": null,
   "metadata": {},
   "outputs": [],
   "source": []
  }
 ],
 "metadata": {
  "kernelspec": {
   "display_name": "cashing-scoring-env",
   "language": "python",
   "name": "python3"
  },
  "language_info": {
   "name": "python",
   "version": "3.10.9 (main, Jan 26 2023, 14:03:48) [Clang 14.0.0 (clang-1400.0.29.202)]"
  },
  "orig_nbformat": 4,
  "vscode": {
   "interpreter": {
    "hash": "5932c71fae83f54b051fd5cdef704798997082f1902f53297518df8c2923f49d"
   }
  }
 },
 "nbformat": 4,
 "nbformat_minor": 2
}
