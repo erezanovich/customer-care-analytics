{
 "cells": [
  {
   "cell_type": "code",
   "execution_count": null,
   "metadata": {},
   "outputs": [
    {
     "name": "stderr",
     "output_type": "stream",
     "text": [
      "/var/folders/t5/84slq0fn2gx51rghrcgxpjt80000gn/T/ipykernel_40592/1792471945.py:14: MatplotlibDeprecationWarning: The seaborn styles shipped by Matplotlib are deprecated since 3.6, as they no longer correspond to the styles shipped by seaborn. However, they will remain available as 'seaborn-v0_8-<style>'. Alternatively, directly use the seaborn API instead.\n",
      "  plt.style.use('seaborn-pastel')\n",
      "/var/folders/t5/84slq0fn2gx51rghrcgxpjt80000gn/T/ipykernel_40592/1792471945.py:15: MatplotlibDeprecationWarning: The seaborn styles shipped by Matplotlib are deprecated since 3.6, as they no longer correspond to the styles shipped by seaborn. However, they will remain available as 'seaborn-v0_8-<style>'. Alternatively, directly use the seaborn API instead.\n",
      "  plt.style.use('seaborn-dark')\n"
     ]
    }
   ],
   "source": [
    "import pandas as pd\n",
    "import numpy as np\n",
    "import matplotlib.pyplot as plt\n",
    "import seaborn as sns\n",
    "import datetime as dt\n",
    "import itertools\n",
    "import re\n",
    "from itertools import product\n",
    "import operator\n",
    "from functools import reduce\n",
    "#from pandas import option_context\n",
    "#%pip install openpyxl\n",
    "%config InlineBackend.figure_format = 'retina'\n",
    "plt.style.use('seaborn-pastel')\n",
    "plt.style.use('seaborn-dark')"
   ]
  },
  {
   "cell_type": "code",
   "execution_count": 1,
   "metadata": {},
   "outputs": [],
   "source": [
    "import matplotlib\n",
    "from matplotlib.colors import ListedColormap\n",
    "from matplotlib.colors import LinearSegmentedColormap\n",
    "matplotlib.style.use('dark_background')\n",
    "color_list = ['white','skyblue','pink', 'tomato', 'slateblue', 'wheat', 'lightgrey', 'limegreen', 'royalblue', 'yellowgreen', 'lightseagreen', 'orchid', 'orange']\n",
    "cmap = LinearSegmentedColormap.from_list(\"\",color_list)"
   ]
  },
  {
   "cell_type": "code",
   "execution_count": 2,
   "metadata": {},
   "outputs": [],
   "source": [
    "# Import all the google connexion packages\n",
    "import os\n",
    "import google.auth\n",
    "from google.cloud import bigquery\n",
    "from google.auth import impersonated_credentials\n",
    "\n",
    "os.environ['GOOGLE_APPLICATION_CREDENTIALS'] = \"/Users/a20015173/.config/gcloud/legacy_credentials/ekaterina.rezanovich@adeo.com/adc.json\"\n",
    "client_1 = bigquery.Client(project = 'ccdp-transverse-data-dev')"
   ]
  },
  {
   "cell_type": "code",
   "execution_count": 4,
   "metadata": {},
   "outputs": [],
   "source": [
    "filepath_1 = \"./datasets/questions.parquet\"\n",
    "if not os.path.isfile(filepath_1):\n",
    "\n",
    "    query = \"\"\"\n",
    "    select t1.survey_id, t1.name , t2.question_id, t2.name, t2.content\n",
    "    from `dfdp-customer-exp-mt-prod.customer_experience_measure_bu001.client_experience_survey` as t1\n",
    "    left join `dfdp-customer-exp-mt-prod.customer_experience_measure_bu001.client_experience_question` as t2 on t2.survey_id = t1.survey_id\n",
    "    where t2.question_id in ('SV_81jKyfOtepO6Weq__QID1_NPS_GROUP', 'SV_4OUB8z9FwEgBiU6__QID1_NPS_GROUP', 'SV_5nFeSHRTsx1yxWC__QID1_NPS_GROUP', 'SV_77FLHcnyIyMM07Q__QID1_NPS_GROUP', 'SV_bj9J6UgbM2yIATQ__QID13_NPS_GROUP',\n",
    "    'SV_2fA21joHLvPEZoi__QID1_NPS_GROUP', 'SV_5nVqXD824PZXj14__QID1_NPS_GROUP')\"\"\"\n",
    "\n",
    "    dl_data = pd.read_gbq(query=query, project_id=\"ccdp-transverse-data-dev\")\n",
    "    dl_data.to_parquet(filepath_1)\n",
    "\n",
    "df_q = pd.read_parquet(filepath_1)"
   ]
  },
  {
   "cell_type": "code",
   "execution_count": 5,
   "metadata": {},
   "outputs": [
    {
     "data": {
      "text/html": [
       "<div>\n",
       "<style scoped>\n",
       "    .dataframe tbody tr th:only-of-type {\n",
       "        vertical-align: middle;\n",
       "    }\n",
       "\n",
       "    .dataframe tbody tr th {\n",
       "        vertical-align: top;\n",
       "    }\n",
       "\n",
       "    .dataframe thead th {\n",
       "        text-align: right;\n",
       "    }\n",
       "</style>\n",
       "<table border=\"1\" class=\"dataframe\">\n",
       "  <thead>\n",
       "    <tr style=\"text-align: right;\">\n",
       "      <th></th>\n",
       "      <th>survey_id</th>\n",
       "      <th>name</th>\n",
       "      <th>question_id</th>\n",
       "      <th>name_1</th>\n",
       "      <th>content</th>\n",
       "    </tr>\n",
       "  </thead>\n",
       "  <tbody>\n",
       "    <tr>\n",
       "      <th>0</th>\n",
       "      <td>SV_77FLHcnyIyMM07Q</td>\n",
       "      <td>LMFR - CLICK &amp; COLLECT - PROD</td>\n",
       "      <td>SV_77FLHcnyIyMM07Q__QID1_NPS_GROUP</td>\n",
       "      <td>QID1_NPS_GROUP</td>\n",
       "      <td>Suite à votre retrait marchandise, recommander...</td>\n",
       "    </tr>\n",
       "    <tr>\n",
       "      <th>1</th>\n",
       "      <td>SV_bj9J6UgbM2yIATQ</td>\n",
       "      <td>LMFR - CUSTOMER CARE - PROD</td>\n",
       "      <td>SV_bj9J6UgbM2yIATQ__QID13_NPS_GROUP</td>\n",
       "      <td>QID13_NPS_GROUP</td>\n",
       "      <td>Vous avez contacté notre service client, suite...</td>\n",
       "    </tr>\n",
       "  </tbody>\n",
       "</table>\n",
       "</div>"
      ],
      "text/plain": [
       "            survey_id                           name  \\\n",
       "0  SV_77FLHcnyIyMM07Q  LMFR - CLICK & COLLECT - PROD   \n",
       "1  SV_bj9J6UgbM2yIATQ    LMFR - CUSTOMER CARE - PROD   \n",
       "\n",
       "                           question_id           name_1  \\\n",
       "0   SV_77FLHcnyIyMM07Q__QID1_NPS_GROUP   QID1_NPS_GROUP   \n",
       "1  SV_bj9J6UgbM2yIATQ__QID13_NPS_GROUP  QID13_NPS_GROUP   \n",
       "\n",
       "                                             content  \n",
       "0  Suite à votre retrait marchandise, recommander...  \n",
       "1  Vous avez contacté notre service client, suite...  "
      ]
     },
     "execution_count": 5,
     "metadata": {},
     "output_type": "execute_result"
    }
   ],
   "source": [
    "df_q.head(2)"
   ]
  },
  {
   "cell_type": "code",
   "execution_count": 3,
   "metadata": {},
   "outputs": [],
   "source": [
    "filepath_2 = \"./datasets/answers.parquet\"\n",
    "if not os.path.isfile(filepath_2):\n",
    "\n",
    "    query = \"\"\"\n",
    "select t3.answer_id, t3.feedback_id, t3.question_id, t3.score, t3.score_category, t3.comment,\n",
    "t4.touchpoint_id, t4.store_code, t4.user_id, t4.user_id_type, cast(t4.date as date) as answer_date\n",
    "from `dfdp-customer-exp-mt-prod.customer_experience_measure_bu001.client_experience_answer` as t3\n",
    "left join `dfdp-customer-exp-mt-prod.customer_experience_measure_bu001.client_experience_feedback` as t4 on t4.feedback_id = t3.feedback_id\n",
    "where t3.question_id in ('SV_81jKyfOtepO6Weq__QID1_NPS_GROUP', 'SV_4OUB8z9FwEgBiU6__QID1_NPS_GROUP', 'SV_5nFeSHRTsx1yxWC__QID1_NPS_GROUP', 'SV_77FLHcnyIyMM07Q__QID1_NPS_GROUP', 'SV_bj9J6UgbM2yIATQ__QID13_NPS_GROUP',\n",
    "'SV_2fA21joHLvPEZoi__QID1_NPS_GROUP', 'SV_5nVqXD824PZXj14__QID1_NPS_GROUP')\n",
    "    \"\"\"\n",
    "\n",
    "    dl_data = pd.read_gbq(query=query, project_id=\"ccdp-transverse-data-dev\")\n",
    "    dl_data.to_parquet(filepath_2)\n",
    "\n",
    "df_a = pd.read_parquet(filepath_2)"
   ]
  },
  {
   "cell_type": "code",
   "execution_count": 4,
   "metadata": {},
   "outputs": [
    {
     "data": {
      "text/html": [
       "<div>\n",
       "<style scoped>\n",
       "    .dataframe tbody tr th:only-of-type {\n",
       "        vertical-align: middle;\n",
       "    }\n",
       "\n",
       "    .dataframe tbody tr th {\n",
       "        vertical-align: top;\n",
       "    }\n",
       "\n",
       "    .dataframe thead th {\n",
       "        text-align: right;\n",
       "    }\n",
       "</style>\n",
       "<table border=\"1\" class=\"dataframe\">\n",
       "  <thead>\n",
       "    <tr style=\"text-align: right;\">\n",
       "      <th></th>\n",
       "      <th>answer_id</th>\n",
       "      <th>feedback_id</th>\n",
       "      <th>question_id</th>\n",
       "      <th>score</th>\n",
       "      <th>score_category</th>\n",
       "      <th>comment</th>\n",
       "      <th>touchpoint_id</th>\n",
       "      <th>store_code</th>\n",
       "      <th>user_id</th>\n",
       "      <th>user_id_type</th>\n",
       "      <th>answer_date</th>\n",
       "    </tr>\n",
       "  </thead>\n",
       "  <tbody>\n",
       "    <tr>\n",
       "      <th>0</th>\n",
       "      <td>R_111w3BVzUYwknmY__QID1_NPS_GROUP</td>\n",
       "      <td>R_111w3BVzUYwknmY</td>\n",
       "      <td>SV_81jKyfOtepO6Weq__QID1_NPS_GROUP</td>\n",
       "      <td>8</td>\n",
       "      <td>Passif</td>\n",
       "      <td>Bonjour, \\nJe suis entièrement satisfait de ...</td>\n",
       "      <td>SV_81jKyfOtepO6Weq</td>\n",
       "      <td>&lt;NA&gt;</td>\n",
       "      <td>10217876</td>\n",
       "      <td>externaldatareference</td>\n",
       "      <td>2023-08-20</td>\n",
       "    </tr>\n",
       "    <tr>\n",
       "      <th>1</th>\n",
       "      <td>R_3htf0IgZ0ecDb8u__QID1_NPS_GROUP</td>\n",
       "      <td>R_3htf0IgZ0ecDb8u</td>\n",
       "      <td>SV_81jKyfOtepO6Weq__QID1_NPS_GROUP</td>\n",
       "      <td>10</td>\n",
       "      <td>Promoteur</td>\n",
       "      <td>None</td>\n",
       "      <td>SV_81jKyfOtepO6Weq</td>\n",
       "      <td>&lt;NA&gt;</td>\n",
       "      <td>54974624</td>\n",
       "      <td>externaldatareference</td>\n",
       "      <td>2023-08-16</td>\n",
       "    </tr>\n",
       "  </tbody>\n",
       "</table>\n",
       "</div>"
      ],
      "text/plain": [
       "                           answer_id        feedback_id  \\\n",
       "0  R_111w3BVzUYwknmY__QID1_NPS_GROUP  R_111w3BVzUYwknmY   \n",
       "1  R_3htf0IgZ0ecDb8u__QID1_NPS_GROUP  R_3htf0IgZ0ecDb8u   \n",
       "\n",
       "                          question_id  score score_category  \\\n",
       "0  SV_81jKyfOtepO6Weq__QID1_NPS_GROUP      8         Passif   \n",
       "1  SV_81jKyfOtepO6Weq__QID1_NPS_GROUP     10      Promoteur   \n",
       "\n",
       "                                             comment       touchpoint_id  \\\n",
       "0    Bonjour, \\nJe suis entièrement satisfait de ...  SV_81jKyfOtepO6Weq   \n",
       "1                                               None  SV_81jKyfOtepO6Weq   \n",
       "\n",
       "   store_code   user_id           user_id_type answer_date  \n",
       "0        <NA>  10217876  externaldatareference  2023-08-20  \n",
       "1        <NA>  54974624  externaldatareference  2023-08-16  "
      ]
     },
     "execution_count": 4,
     "metadata": {},
     "output_type": "execute_result"
    }
   ],
   "source": [
    "df_a.head(2)"
   ]
  },
  {
   "cell_type": "code",
   "execution_count": 8,
   "metadata": {},
   "outputs": [],
   "source": [
    "df = df_a.merge(df_q, left_on = 'question_id', right_on = 'question_id', how='left')"
   ]
  },
  {
   "cell_type": "code",
   "execution_count": 9,
   "metadata": {},
   "outputs": [
    {
     "name": "stdout",
     "output_type": "stream",
     "text": [
      "from  2022-01-26\n",
      "to  2023-08-17\n"
     ]
    }
   ],
   "source": [
    "print(\"from \", df['answer_date'].min())\n",
    "print(\"to \", df['answer_date'].max())"
   ]
  },
  {
   "cell_type": "code",
   "execution_count": 10,
   "metadata": {},
   "outputs": [
    {
     "data": {
      "text/plain": [
       "0"
      ]
     },
     "execution_count": 10,
     "metadata": {},
     "output_type": "execute_result"
    }
   ],
   "source": [
    "df.duplicated().sum()"
   ]
  },
  {
   "cell_type": "code",
   "execution_count": 11,
   "metadata": {},
   "outputs": [
    {
     "name": "stdout",
     "output_type": "stream",
     "text": [
      "unique nb feedback_id =  2504758\n",
      "unique nb answer_id =  2504758\n",
      "df size =  2504758\n"
     ]
    }
   ],
   "source": [
    "print('unique nb feedback_id = ', df['feedback_id'].nunique())\n",
    "print('unique nb answer_id = ', df['answer_id'].nunique())\n",
    "print('df size = ', df.shape[0])"
   ]
  },
  {
   "attachments": {},
   "cell_type": "markdown",
   "metadata": {},
   "source": [
    "Piano Analytics Data for analysis"
   ]
  },
  {
   "attachments": {},
   "cell_type": "markdown",
   "metadata": {},
   "source": [
    "### !!! read excel file "
   ]
  },
  {
   "cell_type": "raw",
   "metadata": {},
   "source": [
    "df_pa = pd.read_excel('df_pa_sh.xlsx', index_col=0) "
   ]
  },
  {
   "cell_type": "raw",
   "metadata": {},
   "source": [
    "# test for the query 2022-10\n",
    "query_global_1 = \"\"\"\n",
    "select \n",
    "SITE_ID, VISIT_ID, VISIT_DATE, VISIT_CONVERTED, VISIT_DURATION, VISIT_PAGE_VIEWS, \n",
    "EVENT_ID, EVENT_NAME, EVENT_CATEGORY, EVENT_POSITION, EVENT_DURATION, \n",
    "VISITOR_ID, USER_ID, CART_ID,\n",
    "VISIT_SALES, CART_AMOUNT_ATI_WITH_SF, CART_TURNOVERTAXINCLUDED, CART_NBDISTINCTPRODUCT, CART_QUANTITY\n",
    "from `dfdp-customer-experience-prod.PianoAnalytics_BU001.events`\n",
    "WHERE DATE(visit_date) between \"2022-10-01\" and \"2022-10-31\"\n",
    "and EVENT_NAME in ('transaction.confirmation', 'product.add_to_cart')\n",
    "\"\"\"\n",
    "pa_22_10 = client_1.query(query=query_global_1)"
   ]
  },
  {
   "cell_type": "code",
   "execution_count": 47,
   "metadata": {},
   "outputs": [],
   "source": [
    "# test for the query 2022-10\n",
    "query_global_1 =\"\"\"\n",
    "select\n",
    "SITE_ID as site_id,  VISIT_DATE as visit_date, EVENT_NAME as event_name,\n",
    "count (distinct VISIT_ID) as nb_visit_id, avg(VISIT_DURATION) as avg_visit_dur, max(VISIT_DURATION) as max_visit_dur, min(VISIT_DURATION) as min_visit_dur, \n",
    "avg(VISIT_PAGE_VIEWS) as avg_nb_page_views, max(VISIT_PAGE_VIEWS) as max_nb_page_views, min(VISIT_PAGE_VIEWS) as min_nb_page_views,\n",
    "avg(CART_AMOUNT_ATI_WITH_SF) as avg_cart_todel, max(CART_AMOUNT_ATI_WITH_SF) as max_cart_todel, min(CART_AMOUNT_ATI_WITH_SF) as min_cart_todel,\n",
    "avg(CART_TURNOVERTAXINCLUDED) as avg_cart_to, max(CART_TURNOVERTAXINCLUDED) as max_cart_to, min(CART_TURNOVERTAXINCLUDED) as min_cart_to,\n",
    "avg(CART_NBDISTINCTPRODUCT) as avg_nb_dis_pr, max(CART_NBDISTINCTPRODUCT) as max_nb_dis_pr, min(CART_NBDISTINCTPRODUCT) as min_nb_dis_pr, \n",
    "avg(CART_QUANTITY) as avg_nb_pr, max(CART_QUANTITY) as max_nb_pr, min(CART_QUANTITY) as min_nb_pr\n",
    "from `dfdp-customer-experience-prod.PianoAnalytics_BU001.events`\n",
    "WHERE DATE(visit_date) between \"2022-10-01\" and \"2022-10-31\"\n",
    "and EVENT_NAME in ('transaction.confirmation', 'product.add_to_cart')\n",
    "group by site_id, visit_date,  event_name\n",
    "\"\"\"\n",
    "pa_22_10 = client_1.query(query=query_global_1)"
   ]
  },
  {
   "cell_type": "code",
   "execution_count": 48,
   "metadata": {},
   "outputs": [],
   "source": [
    "df_pa_22_10 = pa_22_10.to_dataframe()"
   ]
  },
  {
   "cell_type": "raw",
   "metadata": {},
   "source": [
    "# test for the query 2022-11\n",
    "query_global_2 = \"\"\"\n",
    "select \n",
    "SITE_ID, VISIT_ID, VISIT_DATE, VISIT_CONVERTED, VISIT_DURATION, VISIT_PAGE_VIEWS, \n",
    "EVENT_ID, EVENT_NAME, EVENT_CATEGORY, EVENT_POSITION, EVENT_DURATION, \n",
    "VISITOR_ID, USER_ID, CART_ID,\n",
    "VISIT_SALES, CART_AMOUNT_ATI_WITH_SF, CART_TURNOVERTAXINCLUDED, CART_NBDISTINCTPRODUCT, CART_QUANTITY\n",
    "from `dfdp-customer-experience-prod.PianoAnalytics_BU001.events`\n",
    "WHERE DATE(visit_date) between \"2022-11-01\" and \"2022-11-30\"\n",
    "and EVENT_NAME in ('transaction.confirmation', 'product.add_to_cart')\n",
    "\"\"\"\n",
    "pa_22_11 = client_1.query(query=query_global_2)\n",
    "df_pa_22_11 = pa_22_11.to_dataframe()"
   ]
  },
  {
   "cell_type": "code",
   "execution_count": 49,
   "metadata": {},
   "outputs": [],
   "source": [
    "# test for the query 2022-11\n",
    "query_global_2 = \"\"\"\n",
    "select\n",
    "SITE_ID as site_id,  VISIT_DATE as visit_date, EVENT_NAME as event_name,\n",
    "count (distinct VISIT_ID) as nb_visit_id, avg(VISIT_DURATION) as avg_visit_dur, max(VISIT_DURATION) as max_visit_dur, min(VISIT_DURATION) as min_visit_dur, \n",
    "avg(VISIT_PAGE_VIEWS) as avg_nb_page_views, max(VISIT_PAGE_VIEWS) as max_nb_page_views, min(VISIT_PAGE_VIEWS) as min_nb_page_views,\n",
    "avg(CART_AMOUNT_ATI_WITH_SF) as avg_cart_todel, max(CART_AMOUNT_ATI_WITH_SF) as max_cart_todel, min(CART_AMOUNT_ATI_WITH_SF) as min_cart_todel,\n",
    "avg(CART_TURNOVERTAXINCLUDED) as avg_cart_to, max(CART_TURNOVERTAXINCLUDED) as max_cart_to, min(CART_TURNOVERTAXINCLUDED) as min_cart_to,\n",
    "avg(CART_NBDISTINCTPRODUCT) as avg_nb_dis_pr, max(CART_NBDISTINCTPRODUCT) as max_nb_dis_pr, min(CART_NBDISTINCTPRODUCT) as min_nb_dis_pr, \n",
    "avg(CART_QUANTITY) as avg_nb_pr, max(CART_QUANTITY) as max_nb_pr, min(CART_QUANTITY) as min_nb_pr\n",
    "from `dfdp-customer-experience-prod.PianoAnalytics_BU001.events`\n",
    "WHERE DATE(visit_date) between \"2022-11-01\" and \"2022-11-30\"\n",
    "and EVENT_NAME in ('transaction.confirmation', 'product.add_to_cart')\n",
    "group by site_id, visit_date,  event_name\n",
    "\"\"\"\n",
    "pa_22_11 = client_1.query(query=query_global_2)\n",
    "df_pa_22_11 = pa_22_11.to_dataframe()"
   ]
  },
  {
   "cell_type": "raw",
   "metadata": {},
   "source": [
    "# test for the query 2022-12\n",
    "query_global_3 = \"\"\"\n",
    "select \n",
    "SITE_ID, VISIT_ID, VISIT_DATE, VISIT_CONVERTED, VISIT_DURATION, VISIT_PAGE_VIEWS, \n",
    "EVENT_ID, EVENT_NAME, EVENT_CATEGORY, EVENT_POSITION, EVENT_DURATION, \n",
    "VISITOR_ID, USER_ID, CART_ID,\n",
    "VISIT_SALES, CART_AMOUNT_ATI_WITH_SF, CART_TURNOVERTAXINCLUDED, CART_NBDISTINCTPRODUCT, CART_QUANTITY\n",
    "from `dfdp-customer-experience-prod.PianoAnalytics_BU001.events`\n",
    "WHERE DATE(visit_date) between \"2022-12-01\" and \"2022-12-31\"\n",
    "and EVENT_NAME in ('transaction.confirmation', 'product.add_to_cart')\n",
    "\"\"\"\n",
    "pa_22_12 = client_1.query(query=query_global_3)\n",
    "df_pa_22_12 = pa_22_12.to_dataframe()"
   ]
  },
  {
   "cell_type": "code",
   "execution_count": 51,
   "metadata": {},
   "outputs": [],
   "source": [
    "# test for the query 2022-12\n",
    "query_global_3 = \"\"\"\n",
    "select\n",
    "SITE_ID as site_id,  VISIT_DATE as visit_date, EVENT_NAME as event_name,\n",
    "count (distinct VISIT_ID) as nb_visit_id, avg(VISIT_DURATION) as avg_visit_dur, max(VISIT_DURATION) as max_visit_dur, min(VISIT_DURATION) as min_visit_dur, \n",
    "avg(VISIT_PAGE_VIEWS) as avg_nb_page_views, max(VISIT_PAGE_VIEWS) as max_nb_page_views, min(VISIT_PAGE_VIEWS) as min_nb_page_views,\n",
    "avg(CART_AMOUNT_ATI_WITH_SF) as avg_cart_todel, max(CART_AMOUNT_ATI_WITH_SF) as max_cart_todel, min(CART_AMOUNT_ATI_WITH_SF) as min_cart_todel,\n",
    "avg(CART_TURNOVERTAXINCLUDED) as avg_cart_to, max(CART_TURNOVERTAXINCLUDED) as max_cart_to, min(CART_TURNOVERTAXINCLUDED) as min_cart_to,\n",
    "avg(CART_NBDISTINCTPRODUCT) as avg_nb_dis_pr, max(CART_NBDISTINCTPRODUCT) as max_nb_dis_pr, min(CART_NBDISTINCTPRODUCT) as min_nb_dis_pr, \n",
    "avg(CART_QUANTITY) as avg_nb_pr, max(CART_QUANTITY) as max_nb_pr, min(CART_QUANTITY) as min_nb_pr\n",
    "from `dfdp-customer-experience-prod.PianoAnalytics_BU001.events`\n",
    "WHERE DATE(visit_date) between \"2022-12-01\" and \"2022-12-31\"\n",
    "and EVENT_NAME in ('transaction.confirmation', 'product.add_to_cart')\n",
    "group by site_id, visit_date,  event_name\n",
    "\"\"\"\n",
    "pa_22_12 = client_1.query(query=query_global_3)\n",
    "df_pa_22_12 = pa_22_12.to_dataframe()"
   ]
  },
  {
   "cell_type": "raw",
   "metadata": {},
   "source": [
    "# test for the query 2023-01\n",
    "query_global_4 = \"\"\"\n",
    "select \n",
    "SITE_ID, VISIT_ID, VISIT_DATE, VISIT_CONVERTED, VISIT_DURATION, VISIT_PAGE_VIEWS, \n",
    "EVENT_ID, EVENT_NAME, EVENT_CATEGORY, EVENT_POSITION, EVENT_DURATION, \n",
    "VISITOR_ID, USER_ID, CART_ID,\n",
    "VISIT_SALES, CART_AMOUNT_ATI_WITH_SF, CART_TURNOVERTAXINCLUDED, CART_NBDISTINCTPRODUCT, CART_QUANTITY\n",
    "from `dfdp-customer-experience-prod.PianoAnalytics_BU001.events`\n",
    "WHERE DATE(visit_date) between \"2023-01-01\" and \"2023-01-31\"\n",
    "and EVENT_NAME in ('transaction.confirmation', 'product.add_to_cart')\n",
    "\"\"\"\n",
    "pa_23_01 = client_1.query(query=query_global_4)\n",
    "df_pa_23_01 = pa_23_01.to_dataframe()"
   ]
  },
  {
   "cell_type": "code",
   "execution_count": 52,
   "metadata": {},
   "outputs": [],
   "source": [
    "# test for the query 2023-01\n",
    "query_global_4 = \"\"\"\n",
    "select\n",
    "SITE_ID as site_id,  VISIT_DATE as visit_date, EVENT_NAME as event_name,\n",
    "count (distinct VISIT_ID) as nb_visit_id, avg(VISIT_DURATION) as avg_visit_dur, max(VISIT_DURATION) as max_visit_dur, min(VISIT_DURATION) as min_visit_dur, \n",
    "avg(VISIT_PAGE_VIEWS) as avg_nb_page_views, max(VISIT_PAGE_VIEWS) as max_nb_page_views, min(VISIT_PAGE_VIEWS) as min_nb_page_views,\n",
    "avg(CART_AMOUNT_ATI_WITH_SF) as avg_cart_todel, max(CART_AMOUNT_ATI_WITH_SF) as max_cart_todel, min(CART_AMOUNT_ATI_WITH_SF) as min_cart_todel,\n",
    "avg(CART_TURNOVERTAXINCLUDED) as avg_cart_to, max(CART_TURNOVERTAXINCLUDED) as max_cart_to, min(CART_TURNOVERTAXINCLUDED) as min_cart_to,\n",
    "avg(CART_NBDISTINCTPRODUCT) as avg_nb_dis_pr, max(CART_NBDISTINCTPRODUCT) as max_nb_dis_pr, min(CART_NBDISTINCTPRODUCT) as min_nb_dis_pr, \n",
    "avg(CART_QUANTITY) as avg_nb_pr, max(CART_QUANTITY) as max_nb_pr, min(CART_QUANTITY) as min_nb_pr\n",
    "from `dfdp-customer-experience-prod.PianoAnalytics_BU001.events`\n",
    "WHERE DATE(visit_date) between \"2023-01-01\" and \"2023-01-31\"\n",
    "and EVENT_NAME in ('transaction.confirmation', 'product.add_to_cart')\n",
    "group by site_id, visit_date,  event_name\n",
    "\"\"\"\n",
    "pa_23_01 = client_1.query(query=query_global_4)\n",
    "df_pa_23_01 = pa_23_01.to_dataframe()"
   ]
  },
  {
   "cell_type": "raw",
   "metadata": {},
   "source": [
    "# test for the query 2023-02\n",
    "query_global_5 = \"\"\"\n",
    "select \n",
    "SITE_ID, VISIT_ID, VISIT_DATE, VISIT_CONVERTED, VISIT_DURATION, VISIT_PAGE_VIEWS, \n",
    "EVENT_ID, EVENT_NAME, EVENT_CATEGORY, EVENT_POSITION, EVENT_DURATION, \n",
    "VISITOR_ID, USER_ID, CART_ID,\n",
    "VISIT_SALES, CART_AMOUNT_ATI_WITH_SF, CART_TURNOVERTAXINCLUDED, CART_NBDISTINCTPRODUCT, CART_QUANTITY\n",
    "from `dfdp-customer-experience-prod.PianoAnalytics_BU001.events`\n",
    "WHERE DATE(visit_date) between \"2023-02-01\" and \"2023-02-28\"\n",
    "and EVENT_NAME in ('transaction.confirmation', 'product.add_to_cart')\n",
    "\"\"\"\n",
    "pa_23_02 = client_1.query(query=query_global_5)\n",
    "df_pa_23_02 = pa_23_02.to_dataframe()"
   ]
  },
  {
   "cell_type": "code",
   "execution_count": 53,
   "metadata": {},
   "outputs": [],
   "source": [
    "# test for the query 2023-02\n",
    "query_global_5 = \"\"\"\n",
    "select\n",
    "SITE_ID as site_id,  VISIT_DATE as visit_date, EVENT_NAME as event_name,\n",
    "count (distinct VISIT_ID) as nb_visit_id, avg(VISIT_DURATION) as avg_visit_dur, max(VISIT_DURATION) as max_visit_dur, min(VISIT_DURATION) as min_visit_dur, \n",
    "avg(VISIT_PAGE_VIEWS) as avg_nb_page_views, max(VISIT_PAGE_VIEWS) as max_nb_page_views, min(VISIT_PAGE_VIEWS) as min_nb_page_views,\n",
    "avg(CART_AMOUNT_ATI_WITH_SF) as avg_cart_todel, max(CART_AMOUNT_ATI_WITH_SF) as max_cart_todel, min(CART_AMOUNT_ATI_WITH_SF) as min_cart_todel,\n",
    "avg(CART_TURNOVERTAXINCLUDED) as avg_cart_to, max(CART_TURNOVERTAXINCLUDED) as max_cart_to, min(CART_TURNOVERTAXINCLUDED) as min_cart_to,\n",
    "avg(CART_NBDISTINCTPRODUCT) as avg_nb_dis_pr, max(CART_NBDISTINCTPRODUCT) as max_nb_dis_pr, min(CART_NBDISTINCTPRODUCT) as min_nb_dis_pr, \n",
    "avg(CART_QUANTITY) as avg_nb_pr, max(CART_QUANTITY) as max_nb_pr, min(CART_QUANTITY) as min_nb_pr\n",
    "from `dfdp-customer-experience-prod.PianoAnalytics_BU001.events`\n",
    "WHERE DATE(visit_date) between \"2023-02-01\" and \"2023-02-28\"\n",
    "and EVENT_NAME in ('transaction.confirmation', 'product.add_to_cart')\n",
    "group by site_id, visit_date,  event_name\n",
    "\"\"\"\n",
    "pa_23_02 = client_1.query(query=query_global_5)\n",
    "df_pa_23_02 = pa_23_02.to_dataframe()"
   ]
  },
  {
   "cell_type": "raw",
   "metadata": {},
   "source": [
    "# test for the query 2023-03\n",
    "query_global_6 = \"\"\"\n",
    "select \n",
    "SITE_ID, VISIT_ID, VISIT_DATE, VISIT_CONVERTED, VISIT_DURATION, VISIT_PAGE_VIEWS, \n",
    "EVENT_ID, EVENT_NAME, EVENT_CATEGORY, EVENT_POSITION, EVENT_DURATION, \n",
    "VISITOR_ID, USER_ID, CART_ID,\n",
    "VISIT_SALES, CART_AMOUNT_ATI_WITH_SF, CART_TURNOVERTAXINCLUDED, CART_NBDISTINCTPRODUCT, CART_QUANTITY\n",
    "from `dfdp-customer-experience-prod.PianoAnalytics_BU001.events`\n",
    "WHERE DATE(visit_date) between \"2023-03-01\" and \"2023-03-31\"\n",
    "and EVENT_NAME in ('transaction.confirmation', 'product.add_to_cart')\n",
    "\"\"\"\n",
    "pa_23_03 = client_1.query(query=query_global_6)\n",
    "df_pa_23_03 = pa_23_03.to_dataframe()"
   ]
  },
  {
   "cell_type": "code",
   "execution_count": 54,
   "metadata": {},
   "outputs": [],
   "source": [
    "# test for the query 2023-03\n",
    "query_global_6 = \"\"\"\n",
    "select\n",
    "SITE_ID as site_id,  VISIT_DATE as visit_date, EVENT_NAME as event_name,\n",
    "count (distinct VISIT_ID) as nb_visit_id, avg(VISIT_DURATION) as avg_visit_dur, max(VISIT_DURATION) as max_visit_dur, min(VISIT_DURATION) as min_visit_dur, \n",
    "avg(VISIT_PAGE_VIEWS) as avg_nb_page_views, max(VISIT_PAGE_VIEWS) as max_nb_page_views, min(VISIT_PAGE_VIEWS) as min_nb_page_views,\n",
    "avg(CART_AMOUNT_ATI_WITH_SF) as avg_cart_todel, max(CART_AMOUNT_ATI_WITH_SF) as max_cart_todel, min(CART_AMOUNT_ATI_WITH_SF) as min_cart_todel,\n",
    "avg(CART_TURNOVERTAXINCLUDED) as avg_cart_to, max(CART_TURNOVERTAXINCLUDED) as max_cart_to, min(CART_TURNOVERTAXINCLUDED) as min_cart_to,\n",
    "avg(CART_NBDISTINCTPRODUCT) as avg_nb_dis_pr, max(CART_NBDISTINCTPRODUCT) as max_nb_dis_pr, min(CART_NBDISTINCTPRODUCT) as min_nb_dis_pr, \n",
    "avg(CART_QUANTITY) as avg_nb_pr, max(CART_QUANTITY) as max_nb_pr, min(CART_QUANTITY) as min_nb_pr\n",
    "from `dfdp-customer-experience-prod.PianoAnalytics_BU001.events`\n",
    "WHERE DATE(visit_date) between \"2023-03-01\" and \"2023-03-31\"\n",
    "and EVENT_NAME in ('transaction.confirmation', 'product.add_to_cart')\n",
    "group by site_id, visit_date,  event_name\n",
    "\"\"\"\n",
    "pa_23_03 = client_1.query(query=query_global_6)\n",
    "df_pa_23_03 = pa_23_03.to_dataframe()"
   ]
  },
  {
   "cell_type": "code",
   "execution_count": 55,
   "metadata": {},
   "outputs": [
    {
     "name": "stderr",
     "output_type": "stream",
     "text": [
      "/var/folders/t5/84slq0fn2gx51rghrcgxpjt80000gn/T/ipykernel_94170/3515860163.py:1: FutureWarning: The frame.append method is deprecated and will be removed from pandas in a future version. Use pandas.concat instead.\n",
      "  df_pa_2022 = df_pa_22_10.append([df_pa_22_11,df_pa_22_12])\n"
     ]
    }
   ],
   "source": [
    "df_pa_2022 = df_pa_22_10.append([df_pa_22_11,df_pa_22_12]) "
   ]
  },
  {
   "cell_type": "code",
   "execution_count": 56,
   "metadata": {},
   "outputs": [
    {
     "name": "stderr",
     "output_type": "stream",
     "text": [
      "/var/folders/t5/84slq0fn2gx51rghrcgxpjt80000gn/T/ipykernel_94170/3621163260.py:1: FutureWarning: The frame.append method is deprecated and will be removed from pandas in a future version. Use pandas.concat instead.\n",
      "  df_pa_2023_1 = df_pa_23_01.append([df_pa_23_02,df_pa_23_03])\n"
     ]
    }
   ],
   "source": [
    "df_pa_2023_1 = df_pa_23_01.append([df_pa_23_02,df_pa_23_03]) "
   ]
  },
  {
   "cell_type": "code",
   "execution_count": 60,
   "metadata": {},
   "outputs": [],
   "source": [
    "df_pa_2022 = df_pa_2022.fillna('0')"
   ]
  },
  {
   "cell_type": "code",
   "execution_count": 61,
   "metadata": {},
   "outputs": [],
   "source": [
    "df_pa_2023_1 = df_pa_2023_1.fillna('0')"
   ]
  },
  {
   "cell_type": "raw",
   "metadata": {},
   "source": [
    "# test for the query 2023-04\n",
    "query_global_7 = \"\"\"\n",
    "select \n",
    "SITE_ID, VISIT_ID, VISIT_DATE, VISIT_CONVERTED, VISIT_DURATION, VISIT_PAGE_VIEWS, \n",
    "EVENT_ID, EVENT_NAME, EVENT_CATEGORY, EVENT_POSITION, EVENT_DURATION, \n",
    "VISITOR_ID, USER_ID, CART_ID,\n",
    "VISIT_SALES, CART_AMOUNT_ATI_WITH_SF, CART_TURNOVERTAXINCLUDED, CART_NBDISTINCTPRODUCT, CART_QUANTITY\n",
    "from `dfdp-customer-experience-prod.PianoAnalytics_BU001.events`\n",
    "WHERE DATE(visit_date) between \"2023-04-01\" and \"2023-04-30\"\n",
    "and EVENT_NAME in ('transaction.confirmation', 'product.add_to_cart')\n",
    "\"\"\"\n",
    "pa_23_04 = client_1.query(query=query_global_7)\n",
    "df_pa_23_04 = pa_23_04.to_dataframe()"
   ]
  },
  {
   "cell_type": "code",
   "execution_count": 62,
   "metadata": {},
   "outputs": [],
   "source": [
    "# test for the query 2023-04\n",
    "query_global_7 = \"\"\"\n",
    "select\n",
    "SITE_ID as site_id,  VISIT_DATE as visit_date, EVENT_NAME as event_name,\n",
    "count (distinct VISIT_ID) as nb_visit_id, avg(VISIT_DURATION) as avg_visit_dur, max(VISIT_DURATION) as max_visit_dur, min(VISIT_DURATION) as min_visit_dur, \n",
    "avg(VISIT_PAGE_VIEWS) as avg_nb_page_views, max(VISIT_PAGE_VIEWS) as max_nb_page_views, min(VISIT_PAGE_VIEWS) as min_nb_page_views,\n",
    "avg(CART_AMOUNT_ATI_WITH_SF) as avg_cart_todel, max(CART_AMOUNT_ATI_WITH_SF) as max_cart_todel, min(CART_AMOUNT_ATI_WITH_SF) as min_cart_todel,\n",
    "avg(CART_TURNOVERTAXINCLUDED) as avg_cart_to, max(CART_TURNOVERTAXINCLUDED) as max_cart_to, min(CART_TURNOVERTAXINCLUDED) as min_cart_to,\n",
    "avg(CART_NBDISTINCTPRODUCT) as avg_nb_dis_pr, max(CART_NBDISTINCTPRODUCT) as max_nb_dis_pr, min(CART_NBDISTINCTPRODUCT) as min_nb_dis_pr, \n",
    "avg(CART_QUANTITY) as avg_nb_pr, max(CART_QUANTITY) as max_nb_pr, min(CART_QUANTITY) as min_nb_pr\n",
    "from `dfdp-customer-experience-prod.PianoAnalytics_BU001.events`\n",
    "WHERE DATE(visit_date) between \"2023-04-01\" and \"2023-04-30\"\n",
    "and EVENT_NAME in ('transaction.confirmation', 'product.add_to_cart')\n",
    "group by site_id, visit_date,  event_name\n",
    "\"\"\"\n",
    "pa_23_04 = client_1.query(query=query_global_7)\n",
    "df_pa_23_04 = pa_23_04.to_dataframe()"
   ]
  },
  {
   "cell_type": "raw",
   "metadata": {},
   "source": [
    "# test for the query 2023-05\n",
    "query_global_8 = \"\"\"\n",
    "select \n",
    "SITE_ID, VISIT_ID, VISIT_DATE, VISIT_CONVERTED, VISIT_DURATION, VISIT_PAGE_VIEWS, \n",
    "EVENT_ID, EVENT_NAME, EVENT_CATEGORY, EVENT_POSITION, EVENT_DURATION, \n",
    "VISITOR_ID, USER_ID, CART_ID,\n",
    "VISIT_SALES, CART_AMOUNT_ATI_WITH_SF, CART_TURNOVERTAXINCLUDED, CART_NBDISTINCTPRODUCT, CART_QUANTITY\n",
    "from `dfdp-customer-experience-prod.PianoAnalytics_BU001.events`\n",
    "WHERE DATE(visit_date) between \"2023-05-01\" and \"2023-05-31\"\n",
    "and EVENT_NAME in ('transaction.confirmation', 'product.add_to_cart')\n",
    "\"\"\"\n",
    "pa_23_05 = client_1.query(query=query_global_8)\n",
    "df_pa_23_05 = pa_23_05.to_dataframe()"
   ]
  },
  {
   "cell_type": "code",
   "execution_count": 63,
   "metadata": {},
   "outputs": [],
   "source": [
    "# test for the query 2023-05\n",
    "query_global_8 = \"\"\"\n",
    "select\n",
    "SITE_ID as site_id,  VISIT_DATE as visit_date, EVENT_NAME as event_name,\n",
    "count (distinct VISIT_ID) as nb_visit_id, avg(VISIT_DURATION) as avg_visit_dur, max(VISIT_DURATION) as max_visit_dur, min(VISIT_DURATION) as min_visit_dur, \n",
    "avg(VISIT_PAGE_VIEWS) as avg_nb_page_views, max(VISIT_PAGE_VIEWS) as max_nb_page_views, min(VISIT_PAGE_VIEWS) as min_nb_page_views,\n",
    "avg(CART_AMOUNT_ATI_WITH_SF) as avg_cart_todel, max(CART_AMOUNT_ATI_WITH_SF) as max_cart_todel, min(CART_AMOUNT_ATI_WITH_SF) as min_cart_todel,\n",
    "avg(CART_TURNOVERTAXINCLUDED) as avg_cart_to, max(CART_TURNOVERTAXINCLUDED) as max_cart_to, min(CART_TURNOVERTAXINCLUDED) as min_cart_to,\n",
    "avg(CART_NBDISTINCTPRODUCT) as avg_nb_dis_pr, max(CART_NBDISTINCTPRODUCT) as max_nb_dis_pr, min(CART_NBDISTINCTPRODUCT) as min_nb_dis_pr, \n",
    "avg(CART_QUANTITY) as avg_nb_pr, max(CART_QUANTITY) as max_nb_pr, min(CART_QUANTITY) as min_nb_pr\n",
    "from `dfdp-customer-experience-prod.PianoAnalytics_BU001.events`\n",
    "WHERE DATE(visit_date) between \"2023-05-01\" and \"2023-05-31\"\n",
    "and EVENT_NAME in ('transaction.confirmation', 'product.add_to_cart')\n",
    "group by site_id, visit_date,  event_name\n",
    "\"\"\"\n",
    "pa_23_05 = client_1.query(query=query_global_8)\n",
    "df_pa_23_05 = pa_23_05.to_dataframe()"
   ]
  },
  {
   "cell_type": "raw",
   "metadata": {},
   "source": [
    "# test for the query 2023-06\n",
    "query_global_9 = \"\"\"\n",
    "select \n",
    "SITE_ID, VISIT_ID, VISIT_DATE, VISIT_CONVERTED, VISIT_DURATION, VISIT_PAGE_VIEWS, \n",
    "EVENT_ID, EVENT_NAME, EVENT_CATEGORY, EVENT_POSITION, EVENT_DURATION, \n",
    "VISITOR_ID, USER_ID, CART_ID,\n",
    "VISIT_SALES, CART_AMOUNT_ATI_WITH_SF, CART_TURNOVERTAXINCLUDED, CART_NBDISTINCTPRODUCT, CART_QUANTITY\n",
    "from `dfdp-customer-experience-prod.PianoAnalytics_BU001.events`\n",
    "WHERE DATE(visit_date) between \"2023-06-01\" and \"2023-06-30\"\n",
    "and EVENT_NAME in ('transaction.confirmation', 'product.add_to_cart')\n",
    "\"\"\"\n",
    "pa_23_06 = client_1.query(query=query_global_9)\n",
    "df_pa_23_06 = pa_23_06.to_dataframe()"
   ]
  },
  {
   "cell_type": "code",
   "execution_count": 64,
   "metadata": {},
   "outputs": [],
   "source": [
    "# test for the query 2023-06\n",
    "query_global_9 = \"\"\"\n",
    "select\n",
    "SITE_ID as site_id,  VISIT_DATE as visit_date, EVENT_NAME as event_name,\n",
    "count (distinct VISIT_ID) as nb_visit_id, avg(VISIT_DURATION) as avg_visit_dur, max(VISIT_DURATION) as max_visit_dur, min(VISIT_DURATION) as min_visit_dur, \n",
    "avg(VISIT_PAGE_VIEWS) as avg_nb_page_views, max(VISIT_PAGE_VIEWS) as max_nb_page_views, min(VISIT_PAGE_VIEWS) as min_nb_page_views,\n",
    "avg(CART_AMOUNT_ATI_WITH_SF) as avg_cart_todel, max(CART_AMOUNT_ATI_WITH_SF) as max_cart_todel, min(CART_AMOUNT_ATI_WITH_SF) as min_cart_todel,\n",
    "avg(CART_TURNOVERTAXINCLUDED) as avg_cart_to, max(CART_TURNOVERTAXINCLUDED) as max_cart_to, min(CART_TURNOVERTAXINCLUDED) as min_cart_to,\n",
    "avg(CART_NBDISTINCTPRODUCT) as avg_nb_dis_pr, max(CART_NBDISTINCTPRODUCT) as max_nb_dis_pr, min(CART_NBDISTINCTPRODUCT) as min_nb_dis_pr, \n",
    "avg(CART_QUANTITY) as avg_nb_pr, max(CART_QUANTITY) as max_nb_pr, min(CART_QUANTITY) as min_nb_pr\n",
    "from `dfdp-customer-experience-prod.PianoAnalytics_BU001.events`\n",
    "WHERE DATE(visit_date) between \"2023-06-01\" and \"2023-06-30\"\n",
    "and EVENT_NAME in ('transaction.confirmation', 'product.add_to_cart')\n",
    "group by site_id, visit_date,  event_name\n",
    "\"\"\"\n",
    "pa_23_06 = client_1.query(query=query_global_9)\n",
    "df_pa_23_06 = pa_23_06.to_dataframe()"
   ]
  },
  {
   "cell_type": "raw",
   "metadata": {},
   "source": [
    "# test for the query 2023-07\n",
    "query_global_10 = \"\"\"\n",
    "select \n",
    "SITE_ID, VISIT_ID, VISIT_DATE, VISIT_CONVERTED, VISIT_DURATION, VISIT_PAGE_VIEWS, \n",
    "EVENT_ID, EVENT_NAME, EVENT_CATEGORY, EVENT_POSITION, EVENT_DURATION, \n",
    "VISITOR_ID, USER_ID, CART_ID,\n",
    "VISIT_SALES, CART_AMOUNT_ATI_WITH_SF, CART_TURNOVERTAXINCLUDED, CART_NBDISTINCTPRODUCT, CART_QUANTITY\n",
    "from `dfdp-customer-experience-prod.PianoAnalytics_BU001.events`\n",
    "WHERE DATE(visit_date) between \"2023-07-01\" and \"2023-07-31\"\n",
    "and EVENT_NAME in ('transaction.confirmation', 'product.add_to_cart')\n",
    "\"\"\"\n",
    "pa_23_07 = client_1.query(query=query_global_10)\n",
    "df_pa_23_07 = pa_23_07.to_dataframe()"
   ]
  },
  {
   "cell_type": "code",
   "execution_count": 65,
   "metadata": {},
   "outputs": [],
   "source": [
    "# test for the query 2023-07\n",
    "query_global_10 = \"\"\"\n",
    "select\n",
    "SITE_ID as site_id,  VISIT_DATE as visit_date, EVENT_NAME as event_name,\n",
    "count (distinct VISIT_ID) as nb_visit_id, avg(VISIT_DURATION) as avg_visit_dur, max(VISIT_DURATION) as max_visit_dur, min(VISIT_DURATION) as min_visit_dur, \n",
    "avg(VISIT_PAGE_VIEWS) as avg_nb_page_views, max(VISIT_PAGE_VIEWS) as max_nb_page_views, min(VISIT_PAGE_VIEWS) as min_nb_page_views,\n",
    "avg(CART_AMOUNT_ATI_WITH_SF) as avg_cart_todel, max(CART_AMOUNT_ATI_WITH_SF) as max_cart_todel, min(CART_AMOUNT_ATI_WITH_SF) as min_cart_todel,\n",
    "avg(CART_TURNOVERTAXINCLUDED) as avg_cart_to, max(CART_TURNOVERTAXINCLUDED) as max_cart_to, min(CART_TURNOVERTAXINCLUDED) as min_cart_to,\n",
    "avg(CART_NBDISTINCTPRODUCT) as avg_nb_dis_pr, max(CART_NBDISTINCTPRODUCT) as max_nb_dis_pr, min(CART_NBDISTINCTPRODUCT) as min_nb_dis_pr, \n",
    "avg(CART_QUANTITY) as avg_nb_pr, max(CART_QUANTITY) as max_nb_pr, min(CART_QUANTITY) as min_nb_pr\n",
    "from `dfdp-customer-experience-prod.PianoAnalytics_BU001.events`\n",
    "WHERE DATE(visit_date) between \"2023-07-01\" and \"2023-07-31\"\n",
    "and EVENT_NAME in ('transaction.confirmation', 'product.add_to_cart')\n",
    "group by site_id, visit_date,  event_name\n",
    "\"\"\"\n",
    "pa_23_07 = client_1.query(query=query_global_10)\n",
    "df_pa_23_07 = pa_23_07.to_dataframe()"
   ]
  },
  {
   "cell_type": "raw",
   "metadata": {},
   "source": [
    "# test for the query 2023-08\n",
    "query_global_11 = \"\"\"\n",
    "select \n",
    "SITE_ID, VISIT_ID, VISIT_DATE, VISIT_CONVERTED, VISIT_DURATION, VISIT_PAGE_VIEWS, \n",
    "EVENT_ID, EVENT_NAME, EVENT_CATEGORY, EVENT_POSITION, EVENT_DURATION, \n",
    "VISITOR_ID, USER_ID, CART_ID,\n",
    "VISIT_SALES, CART_AMOUNT_ATI_WITH_SF, CART_TURNOVERTAXINCLUDED, CART_NBDISTINCTPRODUCT, CART_QUANTITY\n",
    "from `dfdp-customer-experience-prod.PianoAnalytics_BU001.events`\n",
    "WHERE DATE(visit_date) between \"2023-08-01\" and \"2023-08-31\"\n",
    "and EVENT_NAME in ('transaction.confirmation', 'product.add_to_cart')\n",
    "\"\"\"\n",
    "pa_23_08 = client_1.query(query=query_global_11)\n",
    "df_pa_23_08 = pa_23_08.to_dataframe()"
   ]
  },
  {
   "cell_type": "raw",
   "metadata": {},
   "source": [
    "# change types\n",
    "df_pa['site_id'] = df_pa['site_id'].astype('int')\n",
    "df_pa['visit_date'] = pd.to_datetime(df_pa['visit_date'], format = \"%Y-%m-%d\")\n",
    "df_pa['visit_duration'] = df_pa['visit_duration'].astype('int')\n",
    "df_pa['visit_page_views'] = df_pa['visit_page_views'].astype('int')\n",
    "df_pa['event_position'] = df_pa['event_position'].astype('int')\n",
    "df_pa['event_duration'] = df_pa['event_duration'].astype('int')\n",
    "df_pa['visit_sales'] = df_pa['visit_sales'].astype('float')\n",
    "df_pa['cart_amount_ati_with_sf'] = df_pa['cart_amount_ati_with_sf'].astype('float')\n",
    "df_pa['cart_turnovertaxincluded'] = df_pa['cart_turnovertaxincluded'].astype('float')\n",
    "df_pa['cart_nbdistinctproduct'] = df_pa['cart_nbdistinctproduct'].astype('int')\n",
    "df_pa['cart_quantity'] = df_pa['cart_quantity'].astype('float')"
   ]
  },
  {
   "cell_type": "code",
   "execution_count": 66,
   "metadata": {},
   "outputs": [],
   "source": [
    "# test for the query 2023-08\n",
    "query_global_11 = \"\"\"\n",
    "select\n",
    "SITE_ID as site_id,  VISIT_DATE as visit_date, EVENT_NAME as event_name,\n",
    "count (distinct VISIT_ID) as nb_visit_id, avg(VISIT_DURATION) as avg_visit_dur, max(VISIT_DURATION) as max_visit_dur, min(VISIT_DURATION) as min_visit_dur, \n",
    "avg(VISIT_PAGE_VIEWS) as avg_nb_page_views, max(VISIT_PAGE_VIEWS) as max_nb_page_views, min(VISIT_PAGE_VIEWS) as min_nb_page_views,\n",
    "avg(CART_AMOUNT_ATI_WITH_SF) as avg_cart_todel, max(CART_AMOUNT_ATI_WITH_SF) as max_cart_todel, min(CART_AMOUNT_ATI_WITH_SF) as min_cart_todel,\n",
    "avg(CART_TURNOVERTAXINCLUDED) as avg_cart_to, max(CART_TURNOVERTAXINCLUDED) as max_cart_to, min(CART_TURNOVERTAXINCLUDED) as min_cart_to,\n",
    "avg(CART_NBDISTINCTPRODUCT) as avg_nb_dis_pr, max(CART_NBDISTINCTPRODUCT) as max_nb_dis_pr, min(CART_NBDISTINCTPRODUCT) as min_nb_dis_pr, \n",
    "avg(CART_QUANTITY) as avg_nb_pr, max(CART_QUANTITY) as max_nb_pr, min(CART_QUANTITY) as min_nb_pr\n",
    "from `dfdp-customer-experience-prod.PianoAnalytics_BU001.events`\n",
    "WHERE DATE(visit_date) between \"2023-08-01\" and \"2023-08-31\"\n",
    "and EVENT_NAME in ('transaction.confirmation', 'product.add_to_cart')\n",
    "group by site_id, visit_date,  event_name\n",
    "\"\"\"\n",
    "pa_23_08 = client_1.query(query=query_global_11)\n",
    "df_pa_23_08 = pa_23_08.to_dataframe()"
   ]
  },
  {
   "cell_type": "code",
   "execution_count": 67,
   "metadata": {},
   "outputs": [
    {
     "name": "stderr",
     "output_type": "stream",
     "text": [
      "/var/folders/t5/84slq0fn2gx51rghrcgxpjt80000gn/T/ipykernel_94170/463507110.py:1: FutureWarning: The frame.append method is deprecated and will be removed from pandas in a future version. Use pandas.concat instead.\n",
      "  df_pa_2023_2 = df_pa_23_04.append([df_pa_23_05,df_pa_23_06])\n"
     ]
    }
   ],
   "source": [
    "df_pa_2023_2 = df_pa_23_04.append([df_pa_23_05,df_pa_23_06]) "
   ]
  },
  {
   "cell_type": "code",
   "execution_count": 68,
   "metadata": {},
   "outputs": [
    {
     "name": "stderr",
     "output_type": "stream",
     "text": [
      "/var/folders/t5/84slq0fn2gx51rghrcgxpjt80000gn/T/ipykernel_94170/76881553.py:1: FutureWarning: The frame.append method is deprecated and will be removed from pandas in a future version. Use pandas.concat instead.\n",
      "  df_pa_2023_3 = df_pa_23_07.append(df_pa_23_08)\n"
     ]
    }
   ],
   "source": [
    "df_pa_2023_3 = df_pa_23_07.append(df_pa_23_08) "
   ]
  },
  {
   "cell_type": "code",
   "execution_count": 69,
   "metadata": {},
   "outputs": [],
   "source": [
    "df_pa_2023_2 = df_pa_2023_2.fillna('0')"
   ]
  },
  {
   "cell_type": "code",
   "execution_count": 70,
   "metadata": {},
   "outputs": [],
   "source": [
    "df_pa_2023_3 = df_pa_2023_3.fillna('0')"
   ]
  },
  {
   "attachments": {},
   "cell_type": "markdown",
   "metadata": {},
   "source": [
    "apeend all dfs together"
   ]
  },
  {
   "cell_type": "code",
   "execution_count": 71,
   "metadata": {},
   "outputs": [
    {
     "name": "stderr",
     "output_type": "stream",
     "text": [
      "/var/folders/t5/84slq0fn2gx51rghrcgxpjt80000gn/T/ipykernel_94170/241771213.py:1: FutureWarning: The frame.append method is deprecated and will be removed from pandas in a future version. Use pandas.concat instead.\n",
      "  df_pa_1 = df_pa_2022.append(df_pa_2023_1)\n"
     ]
    }
   ],
   "source": [
    "df_pa_1 = df_pa_2022.append(df_pa_2023_1) "
   ]
  },
  {
   "cell_type": "code",
   "execution_count": 72,
   "metadata": {},
   "outputs": [
    {
     "name": "stderr",
     "output_type": "stream",
     "text": [
      "/var/folders/t5/84slq0fn2gx51rghrcgxpjt80000gn/T/ipykernel_94170/2293322120.py:1: FutureWarning: The frame.append method is deprecated and will be removed from pandas in a future version. Use pandas.concat instead.\n",
      "  df_pa_2 = df_pa_2023_2.append(df_pa_2023_3)\n"
     ]
    }
   ],
   "source": [
    "df_pa_2 = df_pa_2023_2.append(df_pa_2023_3) "
   ]
  },
  {
   "cell_type": "code",
   "execution_count": 73,
   "metadata": {},
   "outputs": [
    {
     "name": "stderr",
     "output_type": "stream",
     "text": [
      "/var/folders/t5/84slq0fn2gx51rghrcgxpjt80000gn/T/ipykernel_94170/462755340.py:1: FutureWarning: The frame.append method is deprecated and will be removed from pandas in a future version. Use pandas.concat instead.\n",
      "  df_pa = df_pa_1.append(df_pa_2)\n"
     ]
    }
   ],
   "source": [
    "df_pa = df_pa_1.append(df_pa_2) "
   ]
  },
  {
   "cell_type": "raw",
   "metadata": {},
   "source": [
    "df_pa.to_excel(\"df_pa_sh.xlsx\")"
   ]
  },
  {
   "cell_type": "code",
   "execution_count": 74,
   "metadata": {},
   "outputs": [
    {
     "data": {
      "text/plain": [
       "1338"
      ]
     },
     "execution_count": 74,
     "metadata": {},
     "output_type": "execute_result"
    }
   ],
   "source": [
    "df_pa.shape[0]"
   ]
  },
  {
   "cell_type": "code",
   "execution_count": 76,
   "metadata": {},
   "outputs": [
    {
     "name": "stdout",
     "output_type": "stream",
     "text": [
      "<class 'pandas.core.frame.DataFrame'>\n",
      "Int64Index: 1338 entries, 0 to 123\n",
      "Data columns (total 22 columns):\n",
      " #   Column             Non-Null Count  Dtype \n",
      "---  ------             --------------  ----- \n",
      " 0   site_id            1338 non-null   object\n",
      " 1   visit_date         1338 non-null   dbdate\n",
      " 2   event_name         1338 non-null   object\n",
      " 3   nb_visit_id        1338 non-null   Int64 \n",
      " 4   avg_visit_dur      1338 non-null   object\n",
      " 5   max_visit_dur      1338 non-null   object\n",
      " 6   min_visit_dur      1338 non-null   object\n",
      " 7   avg_nb_page_views  1338 non-null   object\n",
      " 8   max_nb_page_views  1338 non-null   object\n",
      " 9   min_nb_page_views  1338 non-null   object\n",
      " 10  avg_cart_todel     1338 non-null   object\n",
      " 11  max_cart_todel     1338 non-null   object\n",
      " 12  min_cart_todel     1338 non-null   object\n",
      " 13  avg_cart_to        1338 non-null   object\n",
      " 14  max_cart_to        1338 non-null   object\n",
      " 15  min_cart_to        1338 non-null   object\n",
      " 16  avg_nb_dis_pr      1338 non-null   object\n",
      " 17  max_nb_dis_pr      1338 non-null   object\n",
      " 18  min_nb_dis_pr      1338 non-null   object\n",
      " 19  avg_nb_pr          1338 non-null   object\n",
      " 20  max_nb_pr          1338 non-null   object\n",
      " 21  min_nb_pr          1338 non-null   object\n",
      "dtypes: Int64(1), dbdate(1), object(20)\n",
      "memory usage: 241.7+ KB\n"
     ]
    }
   ],
   "source": [
    "df_pa.info()"
   ]
  },
  {
   "cell_type": "code",
   "execution_count": 75,
   "metadata": {},
   "outputs": [
    {
     "data": {
      "text/html": [
       "<div>\n",
       "<style scoped>\n",
       "    .dataframe tbody tr th:only-of-type {\n",
       "        vertical-align: middle;\n",
       "    }\n",
       "\n",
       "    .dataframe tbody tr th {\n",
       "        vertical-align: top;\n",
       "    }\n",
       "\n",
       "    .dataframe thead th {\n",
       "        text-align: right;\n",
       "    }\n",
       "</style>\n",
       "<table border=\"1\" class=\"dataframe\">\n",
       "  <thead>\n",
       "    <tr style=\"text-align: right;\">\n",
       "      <th></th>\n",
       "      <th>site_id</th>\n",
       "      <th>visit_date</th>\n",
       "      <th>event_name</th>\n",
       "      <th>nb_visit_id</th>\n",
       "      <th>avg_visit_dur</th>\n",
       "      <th>max_visit_dur</th>\n",
       "      <th>min_visit_dur</th>\n",
       "      <th>avg_nb_page_views</th>\n",
       "      <th>max_nb_page_views</th>\n",
       "      <th>min_nb_page_views</th>\n",
       "      <th>...</th>\n",
       "      <th>min_cart_todel</th>\n",
       "      <th>avg_cart_to</th>\n",
       "      <th>max_cart_to</th>\n",
       "      <th>min_cart_to</th>\n",
       "      <th>avg_nb_dis_pr</th>\n",
       "      <th>max_nb_dis_pr</th>\n",
       "      <th>min_nb_dis_pr</th>\n",
       "      <th>avg_nb_pr</th>\n",
       "      <th>max_nb_pr</th>\n",
       "      <th>min_nb_pr</th>\n",
       "    </tr>\n",
       "  </thead>\n",
       "  <tbody>\n",
       "    <tr>\n",
       "      <th>0</th>\n",
       "      <td>629890.000000000</td>\n",
       "      <td>2022-10-01</td>\n",
       "      <td>product.add_to_cart</td>\n",
       "      <td>52301</td>\n",
       "      <td>2030.843930780</td>\n",
       "      <td>36843.000000000</td>\n",
       "      <td>0E-9</td>\n",
       "      <td>83.656494340</td>\n",
       "      <td>1865.000000000</td>\n",
       "      <td>1.000000000</td>\n",
       "      <td>...</td>\n",
       "      <td>0</td>\n",
       "      <td>0</td>\n",
       "      <td>0</td>\n",
       "      <td>0</td>\n",
       "      <td>0</td>\n",
       "      <td>0</td>\n",
       "      <td>0</td>\n",
       "      <td>0</td>\n",
       "      <td>0</td>\n",
       "      <td>0</td>\n",
       "    </tr>\n",
       "    <tr>\n",
       "      <th>1</th>\n",
       "      <td>629569.000000000</td>\n",
       "      <td>2022-10-28</td>\n",
       "      <td>product.add_to_cart</td>\n",
       "      <td>5763</td>\n",
       "      <td>1667.367745366</td>\n",
       "      <td>14028.000000000</td>\n",
       "      <td>0E-9</td>\n",
       "      <td>39.752354907</td>\n",
       "      <td>460.000000000</td>\n",
       "      <td>0E-9</td>\n",
       "      <td>...</td>\n",
       "      <td>0</td>\n",
       "      <td>0</td>\n",
       "      <td>0</td>\n",
       "      <td>0</td>\n",
       "      <td>0</td>\n",
       "      <td>0</td>\n",
       "      <td>0</td>\n",
       "      <td>0</td>\n",
       "      <td>0</td>\n",
       "      <td>0</td>\n",
       "    </tr>\n",
       "  </tbody>\n",
       "</table>\n",
       "<p>2 rows × 22 columns</p>\n",
       "</div>"
      ],
      "text/plain": [
       "            site_id  visit_date           event_name  nb_visit_id  \\\n",
       "0  629890.000000000  2022-10-01  product.add_to_cart        52301   \n",
       "1  629569.000000000  2022-10-28  product.add_to_cart         5763   \n",
       "\n",
       "    avg_visit_dur    max_visit_dur min_visit_dur avg_nb_page_views  \\\n",
       "0  2030.843930780  36843.000000000          0E-9      83.656494340   \n",
       "1  1667.367745366  14028.000000000          0E-9      39.752354907   \n",
       "\n",
       "  max_nb_page_views min_nb_page_views  ... min_cart_todel avg_cart_to  \\\n",
       "0    1865.000000000       1.000000000  ...              0           0   \n",
       "1     460.000000000              0E-9  ...              0           0   \n",
       "\n",
       "  max_cart_to min_cart_to avg_nb_dis_pr max_nb_dis_pr min_nb_dis_pr avg_nb_pr  \\\n",
       "0           0           0             0             0             0         0   \n",
       "1           0           0             0             0             0         0   \n",
       "\n",
       "  max_nb_pr min_nb_pr  \n",
       "0         0         0  \n",
       "1         0         0  \n",
       "\n",
       "[2 rows x 22 columns]"
      ]
     },
     "execution_count": 75,
     "metadata": {},
     "output_type": "execute_result"
    }
   ],
   "source": [
    "df_pa.head(2)"
   ]
  },
  {
   "cell_type": "code",
   "execution_count": 78,
   "metadata": {},
   "outputs": [],
   "source": [
    "# change types \n",
    "df_pa['site_id'] = df_pa['site_id'].astype('int')"
   ]
  },
  {
   "cell_type": "code",
   "execution_count": 79,
   "metadata": {},
   "outputs": [],
   "source": [
    "df_pa['visit_date'] = pd.to_datetime(df_pa['visit_date'], format = \"%Y-%m-%d\")"
   ]
  },
  {
   "cell_type": "code",
   "execution_count": 80,
   "metadata": {},
   "outputs": [],
   "source": [
    "df_pa['avg_visit_dur'] = df_pa['avg_visit_dur'].astype('float').round(2)\n",
    "df_pa['max_visit_dur'] = df_pa['max_visit_dur'].astype('float').round(2)\n",
    "df_pa['min_visit_dur'] = df_pa['min_visit_dur'].astype('float').round(2)"
   ]
  },
  {
   "cell_type": "code",
   "execution_count": 81,
   "metadata": {},
   "outputs": [],
   "source": [
    "df_pa['avg_nb_page_views'] = df_pa['avg_nb_page_views'].astype('int')\n",
    "df_pa['max_nb_page_views'] = df_pa['max_nb_page_views'].astype('int')\n",
    "df_pa['min_nb_page_views'] = df_pa['min_nb_page_views'].astype('int')"
   ]
  },
  {
   "cell_type": "code",
   "execution_count": 82,
   "metadata": {},
   "outputs": [],
   "source": [
    "df_pa['avg_cart_todel'] = df_pa['avg_cart_todel'].astype('float').round(2)\n",
    "df_pa['max_cart_todel'] = df_pa['max_cart_todel'].astype('float').round(2)\n",
    "df_pa['min_cart_todel'] = df_pa['min_cart_todel'].astype('float').round(2)"
   ]
  },
  {
   "cell_type": "code",
   "execution_count": 83,
   "metadata": {},
   "outputs": [],
   "source": [
    "df_pa['avg_cart_to'] = df_pa['avg_cart_to'].astype('float').round(2)\n",
    "df_pa['max_cart_to'] = df_pa['max_cart_to'].astype('float').round(2)\n",
    "df_pa['min_cart_to'] = df_pa['min_cart_to'].astype('float').round(2)"
   ]
  },
  {
   "cell_type": "code",
   "execution_count": 84,
   "metadata": {},
   "outputs": [],
   "source": [
    "df_pa['avg_nb_dis_pr'] = df_pa['avg_nb_dis_pr'].astype('int')\n",
    "df_pa['max_nb_dis_pr'] = df_pa['max_nb_dis_pr'].astype('int')\n",
    "df_pa['min_nb_dis_pr'] = df_pa['min_nb_dis_pr'].astype('int')"
   ]
  },
  {
   "cell_type": "code",
   "execution_count": 85,
   "metadata": {},
   "outputs": [],
   "source": [
    "df_pa['avg_nb_pr'] = df_pa['avg_nb_pr'].astype('int')\n",
    "df_pa['max_nb_pr'] = df_pa['max_nb_pr'].astype('int')\n",
    "df_pa['min_nb_pr'] = df_pa['min_nb_pr'].astype('int')"
   ]
  },
  {
   "cell_type": "code",
   "execution_count": 88,
   "metadata": {},
   "outputs": [
    {
     "data": {
      "text/html": [
       "<div>\n",
       "<style scoped>\n",
       "    .dataframe tbody tr th:only-of-type {\n",
       "        vertical-align: middle;\n",
       "    }\n",
       "\n",
       "    .dataframe tbody tr th {\n",
       "        vertical-align: top;\n",
       "    }\n",
       "\n",
       "    .dataframe thead th {\n",
       "        text-align: right;\n",
       "    }\n",
       "</style>\n",
       "<table border=\"1\" class=\"dataframe\">\n",
       "  <thead>\n",
       "    <tr style=\"text-align: right;\">\n",
       "      <th></th>\n",
       "      <th>site_id</th>\n",
       "      <th>visit_date</th>\n",
       "      <th>event_name</th>\n",
       "      <th>nb_visit_id</th>\n",
       "      <th>avg_visit_dur</th>\n",
       "      <th>max_visit_dur</th>\n",
       "      <th>min_visit_dur</th>\n",
       "      <th>avg_nb_page_views</th>\n",
       "      <th>max_nb_page_views</th>\n",
       "      <th>min_nb_page_views</th>\n",
       "      <th>...</th>\n",
       "      <th>min_cart_todel</th>\n",
       "      <th>avg_cart_to</th>\n",
       "      <th>max_cart_to</th>\n",
       "      <th>min_cart_to</th>\n",
       "      <th>avg_nb_dis_pr</th>\n",
       "      <th>max_nb_dis_pr</th>\n",
       "      <th>min_nb_dis_pr</th>\n",
       "      <th>avg_nb_pr</th>\n",
       "      <th>max_nb_pr</th>\n",
       "      <th>min_nb_pr</th>\n",
       "    </tr>\n",
       "  </thead>\n",
       "  <tbody>\n",
       "    <tr>\n",
       "      <th>0</th>\n",
       "      <td>629890</td>\n",
       "      <td>2022-10-01</td>\n",
       "      <td>product.add_to_cart</td>\n",
       "      <td>52301</td>\n",
       "      <td>2030.84</td>\n",
       "      <td>36843.0</td>\n",
       "      <td>0.0</td>\n",
       "      <td>83</td>\n",
       "      <td>1865</td>\n",
       "      <td>1</td>\n",
       "      <td>...</td>\n",
       "      <td>0.0</td>\n",
       "      <td>0.0</td>\n",
       "      <td>0.0</td>\n",
       "      <td>0.0</td>\n",
       "      <td>0</td>\n",
       "      <td>0</td>\n",
       "      <td>0</td>\n",
       "      <td>0</td>\n",
       "      <td>0</td>\n",
       "      <td>0</td>\n",
       "    </tr>\n",
       "    <tr>\n",
       "      <th>1</th>\n",
       "      <td>629569</td>\n",
       "      <td>2022-10-28</td>\n",
       "      <td>product.add_to_cart</td>\n",
       "      <td>5763</td>\n",
       "      <td>1667.37</td>\n",
       "      <td>14028.0</td>\n",
       "      <td>0.0</td>\n",
       "      <td>39</td>\n",
       "      <td>460</td>\n",
       "      <td>0</td>\n",
       "      <td>...</td>\n",
       "      <td>0.0</td>\n",
       "      <td>0.0</td>\n",
       "      <td>0.0</td>\n",
       "      <td>0.0</td>\n",
       "      <td>0</td>\n",
       "      <td>0</td>\n",
       "      <td>0</td>\n",
       "      <td>0</td>\n",
       "      <td>0</td>\n",
       "      <td>0</td>\n",
       "    </tr>\n",
       "  </tbody>\n",
       "</table>\n",
       "<p>2 rows × 22 columns</p>\n",
       "</div>"
      ],
      "text/plain": [
       "   site_id visit_date           event_name  nb_visit_id  avg_visit_dur  \\\n",
       "0   629890 2022-10-01  product.add_to_cart        52301        2030.84   \n",
       "1   629569 2022-10-28  product.add_to_cart         5763        1667.37   \n",
       "\n",
       "   max_visit_dur  min_visit_dur  avg_nb_page_views  max_nb_page_views  \\\n",
       "0        36843.0            0.0                 83               1865   \n",
       "1        14028.0            0.0                 39                460   \n",
       "\n",
       "   min_nb_page_views  ...  min_cart_todel  avg_cart_to  max_cart_to  \\\n",
       "0                  1  ...             0.0          0.0          0.0   \n",
       "1                  0  ...             0.0          0.0          0.0   \n",
       "\n",
       "   min_cart_to  avg_nb_dis_pr  max_nb_dis_pr  min_nb_dis_pr  avg_nb_pr  \\\n",
       "0          0.0              0              0              0          0   \n",
       "1          0.0              0              0              0          0   \n",
       "\n",
       "   max_nb_pr  min_nb_pr  \n",
       "0          0          0  \n",
       "1          0          0  \n",
       "\n",
       "[2 rows x 22 columns]"
      ]
     },
     "execution_count": 88,
     "metadata": {},
     "output_type": "execute_result"
    }
   ],
   "source": [
    "df_pa.head(2)"
   ]
  },
  {
   "cell_type": "code",
   "execution_count": 89,
   "metadata": {},
   "outputs": [],
   "source": [
    "def site_name(df):\n",
    "    if df['site_id'] == 629890 :\n",
    "        return \"website\"\n",
    "    elif df['site_id'] == 629569 :\n",
    "        return \"mobile_app\"\n",
    "    else:\n",
    "        return \"other\""
   ]
  },
  {
   "cell_type": "code",
   "execution_count": 90,
   "metadata": {},
   "outputs": [],
   "source": [
    "df_pa['site_name'] = df_pa.apply(site_name, axis=1)"
   ]
  },
  {
   "cell_type": "code",
   "execution_count": 91,
   "metadata": {},
   "outputs": [],
   "source": [
    "df_pa['month'] = df_pa['visit_date'].dt.month"
   ]
  },
  {
   "cell_type": "code",
   "execution_count": 92,
   "metadata": {},
   "outputs": [],
   "source": [
    "df_pa['year'] = df_pa['visit_date'].dt.year\n",
    "df_pa['year_month'] = df_pa['year'].astype('str')+' '+df_pa['month'].astype('str')"
   ]
  },
  {
   "cell_type": "code",
   "execution_count": 94,
   "metadata": {},
   "outputs": [
    {
     "data": {
      "text/html": [
       "<div>\n",
       "<style scoped>\n",
       "    .dataframe tbody tr th:only-of-type {\n",
       "        vertical-align: middle;\n",
       "    }\n",
       "\n",
       "    .dataframe tbody tr th {\n",
       "        vertical-align: top;\n",
       "    }\n",
       "\n",
       "    .dataframe thead th {\n",
       "        text-align: right;\n",
       "    }\n",
       "</style>\n",
       "<table border=\"1\" class=\"dataframe\">\n",
       "  <thead>\n",
       "    <tr style=\"text-align: right;\">\n",
       "      <th></th>\n",
       "      <th>site_id</th>\n",
       "      <th>visit_date</th>\n",
       "      <th>event_name</th>\n",
       "      <th>nb_visit_id</th>\n",
       "      <th>avg_visit_dur</th>\n",
       "      <th>max_visit_dur</th>\n",
       "      <th>min_visit_dur</th>\n",
       "      <th>avg_nb_page_views</th>\n",
       "      <th>max_nb_page_views</th>\n",
       "      <th>min_nb_page_views</th>\n",
       "      <th>...</th>\n",
       "      <th>avg_nb_dis_pr</th>\n",
       "      <th>max_nb_dis_pr</th>\n",
       "      <th>min_nb_dis_pr</th>\n",
       "      <th>avg_nb_pr</th>\n",
       "      <th>max_nb_pr</th>\n",
       "      <th>min_nb_pr</th>\n",
       "      <th>site_name</th>\n",
       "      <th>month</th>\n",
       "      <th>year</th>\n",
       "      <th>year_month</th>\n",
       "    </tr>\n",
       "  </thead>\n",
       "  <tbody>\n",
       "    <tr>\n",
       "      <th>0</th>\n",
       "      <td>629890</td>\n",
       "      <td>2022-10-01</td>\n",
       "      <td>product.add_to_cart</td>\n",
       "      <td>52301</td>\n",
       "      <td>2030.84</td>\n",
       "      <td>36843.0</td>\n",
       "      <td>0.0</td>\n",
       "      <td>83</td>\n",
       "      <td>1865</td>\n",
       "      <td>1</td>\n",
       "      <td>...</td>\n",
       "      <td>0</td>\n",
       "      <td>0</td>\n",
       "      <td>0</td>\n",
       "      <td>0</td>\n",
       "      <td>0</td>\n",
       "      <td>0</td>\n",
       "      <td>website</td>\n",
       "      <td>10</td>\n",
       "      <td>2022</td>\n",
       "      <td>2022 10</td>\n",
       "    </tr>\n",
       "    <tr>\n",
       "      <th>1</th>\n",
       "      <td>629569</td>\n",
       "      <td>2022-10-28</td>\n",
       "      <td>product.add_to_cart</td>\n",
       "      <td>5763</td>\n",
       "      <td>1667.37</td>\n",
       "      <td>14028.0</td>\n",
       "      <td>0.0</td>\n",
       "      <td>39</td>\n",
       "      <td>460</td>\n",
       "      <td>0</td>\n",
       "      <td>...</td>\n",
       "      <td>0</td>\n",
       "      <td>0</td>\n",
       "      <td>0</td>\n",
       "      <td>0</td>\n",
       "      <td>0</td>\n",
       "      <td>0</td>\n",
       "      <td>mobile_app</td>\n",
       "      <td>10</td>\n",
       "      <td>2022</td>\n",
       "      <td>2022 10</td>\n",
       "    </tr>\n",
       "  </tbody>\n",
       "</table>\n",
       "<p>2 rows × 26 columns</p>\n",
       "</div>"
      ],
      "text/plain": [
       "   site_id visit_date           event_name  nb_visit_id  avg_visit_dur  \\\n",
       "0   629890 2022-10-01  product.add_to_cart        52301        2030.84   \n",
       "1   629569 2022-10-28  product.add_to_cart         5763        1667.37   \n",
       "\n",
       "   max_visit_dur  min_visit_dur  avg_nb_page_views  max_nb_page_views  \\\n",
       "0        36843.0            0.0                 83               1865   \n",
       "1        14028.0            0.0                 39                460   \n",
       "\n",
       "   min_nb_page_views  ...  avg_nb_dis_pr  max_nb_dis_pr  min_nb_dis_pr  \\\n",
       "0                  1  ...              0              0              0   \n",
       "1                  0  ...              0              0              0   \n",
       "\n",
       "   avg_nb_pr  max_nb_pr  min_nb_pr   site_name  month  year  year_month  \n",
       "0          0          0          0     website     10  2022     2022 10  \n",
       "1          0          0          0  mobile_app     10  2022     2022 10  \n",
       "\n",
       "[2 rows x 26 columns]"
      ]
     },
     "execution_count": 94,
     "metadata": {},
     "output_type": "execute_result"
    }
   ],
   "source": [
    "df_pa.head(2)"
   ]
  },
  {
   "cell_type": "code",
   "execution_count": 96,
   "metadata": {},
   "outputs": [
    {
     "data": {
      "text/html": [
       "<div>\n",
       "<style scoped>\n",
       "    .dataframe tbody tr th:only-of-type {\n",
       "        vertical-align: middle;\n",
       "    }\n",
       "\n",
       "    .dataframe tbody tr th {\n",
       "        vertical-align: top;\n",
       "    }\n",
       "\n",
       "    .dataframe thead th {\n",
       "        text-align: right;\n",
       "    }\n",
       "</style>\n",
       "<table border=\"1\" class=\"dataframe\">\n",
       "  <thead>\n",
       "    <tr style=\"text-align: right;\">\n",
       "      <th></th>\n",
       "      <th>year_month</th>\n",
       "      <th>event_name</th>\n",
       "      <th>nb_visit_id</th>\n",
       "    </tr>\n",
       "  </thead>\n",
       "  <tbody>\n",
       "    <tr>\n",
       "      <th>0</th>\n",
       "      <td>2022 10</td>\n",
       "      <td>product.add_to_cart</td>\n",
       "      <td>1797210</td>\n",
       "    </tr>\n",
       "    <tr>\n",
       "      <th>1</th>\n",
       "      <td>2022 10</td>\n",
       "      <td>transaction.confirmation</td>\n",
       "      <td>392479</td>\n",
       "    </tr>\n",
       "    <tr>\n",
       "      <th>2</th>\n",
       "      <td>2022 11</td>\n",
       "      <td>product.add_to_cart</td>\n",
       "      <td>1867632</td>\n",
       "    </tr>\n",
       "    <tr>\n",
       "      <th>3</th>\n",
       "      <td>2022 11</td>\n",
       "      <td>transaction.confirmation</td>\n",
       "      <td>429698</td>\n",
       "    </tr>\n",
       "    <tr>\n",
       "      <th>4</th>\n",
       "      <td>2022 12</td>\n",
       "      <td>product.add_to_cart</td>\n",
       "      <td>1569760</td>\n",
       "    </tr>\n",
       "  </tbody>\n",
       "</table>\n",
       "</div>"
      ],
      "text/plain": [
       "  year_month                event_name  nb_visit_id\n",
       "0    2022 10       product.add_to_cart      1797210\n",
       "1    2022 10  transaction.confirmation       392479\n",
       "2    2022 11       product.add_to_cart      1867632\n",
       "3    2022 11  transaction.confirmation       429698\n",
       "4    2022 12       product.add_to_cart      1569760"
      ]
     },
     "execution_count": 96,
     "metadata": {},
     "output_type": "execute_result"
    }
   ],
   "source": [
    "df_pa_group_visit = df_pa.groupby(['year_month', 'event_name'])['nb_visit_id'].sum().reset_index()\n",
    "df_pa_group_visit.head()"
   ]
  },
  {
   "cell_type": "code",
   "execution_count": 146,
   "metadata": {},
   "outputs": [],
   "source": [
    "# conversion rate of visit_id\n",
    "df_pa_group_visit = df_pa.pivot_table(index='year_month', columns = 'event_name', values='nb_visit_id', aggfunc='sum').reset_index()"
   ]
  },
  {
   "cell_type": "code",
   "execution_count": 147,
   "metadata": {},
   "outputs": [],
   "source": [
    "df_pa_group_visit['conversion_to_purchase_%'] = (df_pa_group_visit['transaction.confirmation']/\\\n",
    "                                               df_pa_group_visit['product.add_to_cart']*100).round(2)"
   ]
  },
  {
   "cell_type": "code",
   "execution_count": 148,
   "metadata": {},
   "outputs": [
    {
     "data": {
      "text/html": [
       "<div>\n",
       "<style scoped>\n",
       "    .dataframe tbody tr th:only-of-type {\n",
       "        vertical-align: middle;\n",
       "    }\n",
       "\n",
       "    .dataframe tbody tr th {\n",
       "        vertical-align: top;\n",
       "    }\n",
       "\n",
       "    .dataframe thead th {\n",
       "        text-align: right;\n",
       "    }\n",
       "</style>\n",
       "<table border=\"1\" class=\"dataframe\">\n",
       "  <thead>\n",
       "    <tr style=\"text-align: right;\">\n",
       "      <th>event_name</th>\n",
       "      <th>year_month</th>\n",
       "      <th>product.add_to_cart</th>\n",
       "      <th>transaction.confirmation</th>\n",
       "      <th>conversion_to_purchase_%</th>\n",
       "    </tr>\n",
       "  </thead>\n",
       "  <tbody>\n",
       "    <tr>\n",
       "      <th>0</th>\n",
       "      <td>2022 10</td>\n",
       "      <td>1797210</td>\n",
       "      <td>392479</td>\n",
       "      <td>21.84</td>\n",
       "    </tr>\n",
       "    <tr>\n",
       "      <th>1</th>\n",
       "      <td>2022 11</td>\n",
       "      <td>1867632</td>\n",
       "      <td>429698</td>\n",
       "      <td>23.01</td>\n",
       "    </tr>\n",
       "    <tr>\n",
       "      <th>2</th>\n",
       "      <td>2022 12</td>\n",
       "      <td>1569760</td>\n",
       "      <td>379608</td>\n",
       "      <td>24.18</td>\n",
       "    </tr>\n",
       "    <tr>\n",
       "      <th>3</th>\n",
       "      <td>2023 1</td>\n",
       "      <td>1841165</td>\n",
       "      <td>355648</td>\n",
       "      <td>19.32</td>\n",
       "    </tr>\n",
       "    <tr>\n",
       "      <th>4</th>\n",
       "      <td>2023 2</td>\n",
       "      <td>1690184</td>\n",
       "      <td>368769</td>\n",
       "      <td>21.82</td>\n",
       "    </tr>\n",
       "    <tr>\n",
       "      <th>5</th>\n",
       "      <td>2023 3</td>\n",
       "      <td>2286322</td>\n",
       "      <td>439618</td>\n",
       "      <td>19.23</td>\n",
       "    </tr>\n",
       "    <tr>\n",
       "      <th>6</th>\n",
       "      <td>2023 4</td>\n",
       "      <td>2050083</td>\n",
       "      <td>450564</td>\n",
       "      <td>21.98</td>\n",
       "    </tr>\n",
       "    <tr>\n",
       "      <th>7</th>\n",
       "      <td>2023 5</td>\n",
       "      <td>2387241</td>\n",
       "      <td>491854</td>\n",
       "      <td>20.6</td>\n",
       "    </tr>\n",
       "    <tr>\n",
       "      <th>8</th>\n",
       "      <td>2023 6</td>\n",
       "      <td>2173307</td>\n",
       "      <td>467304</td>\n",
       "      <td>21.5</td>\n",
       "    </tr>\n",
       "    <tr>\n",
       "      <th>9</th>\n",
       "      <td>2023 7</td>\n",
       "      <td>2317952</td>\n",
       "      <td>478136</td>\n",
       "      <td>20.63</td>\n",
       "    </tr>\n",
       "    <tr>\n",
       "      <th>10</th>\n",
       "      <td>2023 8</td>\n",
       "      <td>1764951</td>\n",
       "      <td>430784</td>\n",
       "      <td>24.41</td>\n",
       "    </tr>\n",
       "  </tbody>\n",
       "</table>\n",
       "</div>"
      ],
      "text/plain": [
       "event_name year_month  product.add_to_cart  transaction.confirmation  \\\n",
       "0             2022 10              1797210                    392479   \n",
       "1             2022 11              1867632                    429698   \n",
       "2             2022 12              1569760                    379608   \n",
       "3              2023 1              1841165                    355648   \n",
       "4              2023 2              1690184                    368769   \n",
       "5              2023 3              2286322                    439618   \n",
       "6              2023 4              2050083                    450564   \n",
       "7              2023 5              2387241                    491854   \n",
       "8              2023 6              2173307                    467304   \n",
       "9              2023 7              2317952                    478136   \n",
       "10             2023 8              1764951                    430784   \n",
       "\n",
       "event_name  conversion_to_purchase_%  \n",
       "0                              21.84  \n",
       "1                              23.01  \n",
       "2                              24.18  \n",
       "3                              19.32  \n",
       "4                              21.82  \n",
       "5                              19.23  \n",
       "6                              21.98  \n",
       "7                               20.6  \n",
       "8                               21.5  \n",
       "9                              20.63  \n",
       "10                             24.41  "
      ]
     },
     "execution_count": 148,
     "metadata": {},
     "output_type": "execute_result"
    }
   ],
   "source": [
    "df_pa_group_visit"
   ]
  },
  {
   "cell_type": "code",
   "execution_count": 139,
   "metadata": {},
   "outputs": [
    {
     "data": {
      "text/html": [
       "<div>\n",
       "<style scoped>\n",
       "    .dataframe tbody tr th:only-of-type {\n",
       "        vertical-align: middle;\n",
       "    }\n",
       "\n",
       "    .dataframe tbody tr th {\n",
       "        vertical-align: top;\n",
       "    }\n",
       "\n",
       "    .dataframe thead th {\n",
       "        text-align: right;\n",
       "    }\n",
       "</style>\n",
       "<table border=\"1\" class=\"dataframe\">\n",
       "  <thead>\n",
       "    <tr style=\"text-align: right;\">\n",
       "      <th></th>\n",
       "      <th>year_month</th>\n",
       "      <th>nb_visit_id</th>\n",
       "    </tr>\n",
       "  </thead>\n",
       "  <tbody>\n",
       "    <tr>\n",
       "      <th>0</th>\n",
       "      <td>2022 10</td>\n",
       "      <td>1797210</td>\n",
       "    </tr>\n",
       "    <tr>\n",
       "      <th>1</th>\n",
       "      <td>2022 11</td>\n",
       "      <td>1867632</td>\n",
       "    </tr>\n",
       "    <tr>\n",
       "      <th>2</th>\n",
       "      <td>2022 12</td>\n",
       "      <td>1569760</td>\n",
       "    </tr>\n",
       "    <tr>\n",
       "      <th>3</th>\n",
       "      <td>2023 1</td>\n",
       "      <td>1841165</td>\n",
       "    </tr>\n",
       "    <tr>\n",
       "      <th>4</th>\n",
       "      <td>2023 2</td>\n",
       "      <td>1690184</td>\n",
       "    </tr>\n",
       "    <tr>\n",
       "      <th>5</th>\n",
       "      <td>2023 3</td>\n",
       "      <td>2286322</td>\n",
       "    </tr>\n",
       "    <tr>\n",
       "      <th>6</th>\n",
       "      <td>2023 4</td>\n",
       "      <td>2050083</td>\n",
       "    </tr>\n",
       "    <tr>\n",
       "      <th>7</th>\n",
       "      <td>2023 5</td>\n",
       "      <td>2387241</td>\n",
       "    </tr>\n",
       "    <tr>\n",
       "      <th>8</th>\n",
       "      <td>2023 6</td>\n",
       "      <td>2173307</td>\n",
       "    </tr>\n",
       "    <tr>\n",
       "      <th>9</th>\n",
       "      <td>2023 7</td>\n",
       "      <td>2317952</td>\n",
       "    </tr>\n",
       "    <tr>\n",
       "      <th>10</th>\n",
       "      <td>2023 8</td>\n",
       "      <td>1764951</td>\n",
       "    </tr>\n",
       "  </tbody>\n",
       "</table>\n",
       "</div>"
      ],
      "text/plain": [
       "   year_month  nb_visit_id\n",
       "0     2022 10      1797210\n",
       "1     2022 11      1867632\n",
       "2     2022 12      1569760\n",
       "3      2023 1      1841165\n",
       "4      2023 2      1690184\n",
       "5      2023 3      2286322\n",
       "6      2023 4      2050083\n",
       "7      2023 5      2387241\n",
       "8      2023 6      2173307\n",
       "9      2023 7      2317952\n",
       "10     2023 8      1764951"
      ]
     },
     "execution_count": 139,
     "metadata": {},
     "output_type": "execute_result"
    }
   ],
   "source": [
    "df_pa_visit = df_pa[df_pa['event_name']=='product.add_to_cart'].groupby('year_month')['nb_visit_id'].sum().reset_index()\n",
    "df_pa_visit"
   ]
  },
  {
   "cell_type": "code",
   "execution_count": 140,
   "metadata": {},
   "outputs": [
    {
     "data": {
      "text/plain": [
       "<AxesSubplot: xlabel='year_month', ylabel='nb_visit_id'>"
      ]
     },
     "execution_count": 140,
     "metadata": {},
     "output_type": "execute_result"
    },
    {
     "data": {
      "image/png": "[encoded data removed]",
      "text/plain": [
       "<Figure size 1500x300 with 1 Axes>"
      ]
     },
     "metadata": {
      "image/png": {
       "height": 301,
       "width": 1225
      }
     },
     "output_type": "display_data"
    }
   ],
   "source": [
    "plt.figure(figsize=(15,3))\n",
    "sns.lineplot(data=df_pa_visit,  x=\"year_month\", y=\"nb_visit_id\")"
   ]
  },
  {
   "cell_type": "code",
   "execution_count": 142,
   "metadata": {},
   "outputs": [
    {
     "data": {
      "text/plain": [
       "<AxesSubplot: xlabel='year_month', ylabel='nb_visit_id'>"
      ]
     },
     "execution_count": 142,
     "metadata": {},
     "output_type": "execute_result"
    },
    {
     "data": {
      "image/png": "[encoded data removed]",
      "text/plain": [
       "<Figure size 1500x300 with 1 Axes>"
      ]
     },
     "metadata": {
      "image/png": {
       "height": 301,
       "width": 1225
      }
     },
     "output_type": "display_data"
    }
   ],
   "source": [
    "df_pa_visit_2 = df_pa.groupby(['year_month','event_name'])['nb_visit_id'].sum().reset_index()\n",
    "plt.figure(figsize=(15,3))\n",
    "sns.lineplot(data=df_pa_visit_2,  x=\"year_month\", y=\"nb_visit_id\", hue='event_name')"
   ]
  },
  {
   "cell_type": "code",
   "execution_count": 150,
   "metadata": {},
   "outputs": [
    {
     "data": {
      "text/plain": [
       "<AxesSubplot: xlabel='year_month', ylabel='conversion_to_purchase_%'>"
      ]
     },
     "execution_count": 150,
     "metadata": {},
     "output_type": "execute_result"
    },
    {
     "data": {
      "image/png": "[encoded data removed]",
      "text/plain": [
       "<Figure size 1500x300 with 1 Axes>"
      ]
     },
     "metadata": {
      "image/png": {
       "height": 287,
       "width": 1221
      }
     },
     "output_type": "display_data"
    }
   ],
   "source": [
    "plt.figure(figsize=(15,3))\n",
    "sns.lineplot(data=df_pa_group_visit,  x='year_month', y=\"conversion_to_purchase_%\")"
   ]
  },
  {
   "attachments": {},
   "cell_type": "markdown",
   "metadata": {},
   "source": [
    "Let's check the number of users in groups"
   ]
  },
  {
   "attachments": {},
   "cell_type": "markdown",
   "metadata": {},
   "source": [
    "### !!! read excel file"
   ]
  },
  {
   "cell_type": "raw",
   "metadata": {},
   "source": [
    "df_gr = pd.read_excel('df_gr.xlsx')"
   ]
  },
  {
   "cell_type": "code",
   "execution_count": 152,
   "metadata": {},
   "outputs": [],
   "source": [
    "# test for the query 2022-10\n",
    "query_1 = \"\"\"\n",
    "select\n",
    "SITE_ID as site_id, extract(year from VISIT_DATE) as year, extract(week from VISIT_DATE) AS week, event_name,\n",
    "count(distinct VISIT_ID) as nb_visit_id, \n",
    "count(distinct VISITOR_ID) as nb_visitors,\n",
    "count(distinct USER_ID) as nb_users\n",
    "from `dfdp-customer-experience-prod.PianoAnalytics_BU001.events`\n",
    "WHERE DATE(visit_date) between \"2022-10-01\" and \"2022-10-31\"\n",
    "and EVENT_NAME in ('transaction.confirmation', 'product.add_to_cart')\n",
    "group by site_id, year, week, event_name\n",
    "\"\"\"\n",
    "gr_22_10 = client_1.query(query=query_1)\n",
    "df_gr_22_10 = gr_22_10.to_dataframe()"
   ]
  },
  {
   "cell_type": "code",
   "execution_count": 153,
   "metadata": {},
   "outputs": [],
   "source": [
    "# test for the query 2022-11\n",
    "query_1 = \"\"\"\n",
    "select\n",
    "SITE_ID as site_id, extract(year from VISIT_DATE) as year, extract(week from VISIT_DATE) AS week, event_name,\n",
    "count(distinct VISIT_ID) as nb_visit_id, \n",
    "count(distinct VISITOR_ID) as nb_visitors,\n",
    "count(distinct USER_ID) as nb_users\n",
    "from `dfdp-customer-experience-prod.PianoAnalytics_BU001.events`\n",
    "WHERE DATE(visit_date) between \"2022-11-01\" and \"2022-11-30\"\n",
    "and EVENT_NAME in ('transaction.confirmation', 'product.add_to_cart')\n",
    "group by site_id, year, week, event_name\n",
    "\"\"\"\n",
    "gr_22_11 = client_1.query(query=query_1)\n",
    "df_gr_22_11 = gr_22_11.to_dataframe()"
   ]
  },
  {
   "cell_type": "code",
   "execution_count": 154,
   "metadata": {},
   "outputs": [],
   "source": [
    "# test for the query 2022-12\n",
    "query_1 = \"\"\"\n",
    "select\n",
    "SITE_ID as site_id, extract(year from VISIT_DATE) as year, extract(week from VISIT_DATE) AS week, event_name,\n",
    "count(distinct VISIT_ID) as nb_visit_id, \n",
    "count(distinct VISITOR_ID) as nb_visitors,\n",
    "count(distinct USER_ID) as nb_users\n",
    "from `dfdp-customer-experience-prod.PianoAnalytics_BU001.events`\n",
    "WHERE DATE(visit_date) between \"2022-12-01\" and \"2022-12-31\"\n",
    "and EVENT_NAME in ('transaction.confirmation', 'product.add_to_cart')\n",
    "group by site_id, year, week, event_name\n",
    "\"\"\"\n",
    "gr_22_12 = client_1.query(query=query_1)\n",
    "df_gr_22_12 = gr_22_12.to_dataframe()"
   ]
  },
  {
   "cell_type": "code",
   "execution_count": 155,
   "metadata": {},
   "outputs": [],
   "source": [
    "# test for the query 2023-01\n",
    "query_1 = \"\"\"\n",
    "select\n",
    "SITE_ID as site_id, extract(year from VISIT_DATE) as year, extract(week from VISIT_DATE) AS week, event_name,\n",
    "count(distinct VISIT_ID) as nb_visit_id, \n",
    "count(distinct VISITOR_ID) as nb_visitors,\n",
    "count(distinct USER_ID) as nb_users\n",
    "from `dfdp-customer-experience-prod.PianoAnalytics_BU001.events`\n",
    "WHERE DATE(visit_date) between \"2023-01-01\" and \"2023-01-31\"\n",
    "and EVENT_NAME in ('transaction.confirmation', 'product.add_to_cart')\n",
    "group by site_id, year, week, event_name\n",
    "\"\"\"\n",
    "gr_23_01 = client_1.query(query=query_1)\n",
    "df_gr_23_01 = gr_23_01.to_dataframe()"
   ]
  },
  {
   "cell_type": "code",
   "execution_count": 156,
   "metadata": {},
   "outputs": [],
   "source": [
    "# test for the query 2023-02\n",
    "query_1 = \"\"\"\n",
    "select\n",
    "SITE_ID as site_id, extract(year from VISIT_DATE) as year, extract(week from VISIT_DATE) AS week, event_name,\n",
    "count(distinct VISIT_ID) as nb_visit_id, \n",
    "count(distinct VISITOR_ID) as nb_visitors,\n",
    "count(distinct USER_ID) as nb_users\n",
    "from `dfdp-customer-experience-prod.PianoAnalytics_BU001.events`\n",
    "WHERE DATE(visit_date) between \"2023-02-01\" and \"2023-02-28\"\n",
    "and EVENT_NAME in ('transaction.confirmation', 'product.add_to_cart')\n",
    "group by site_id, year, week, event_name\n",
    "\"\"\"\n",
    "gr_23_02 = client_1.query(query=query_1)\n",
    "df_gr_23_02 = gr_23_02.to_dataframe()"
   ]
  },
  {
   "cell_type": "code",
   "execution_count": 157,
   "metadata": {},
   "outputs": [],
   "source": [
    "# test for the query 2023-03\n",
    "query_1 = \"\"\"\n",
    "select\n",
    "SITE_ID as site_id, extract(year from VISIT_DATE) as year, extract(week from VISIT_DATE) AS week, event_name,\n",
    "count(distinct VISIT_ID) as nb_visit_id, \n",
    "count(distinct VISITOR_ID) as nb_visitors,\n",
    "count(distinct USER_ID) as nb_users\n",
    "from `dfdp-customer-experience-prod.PianoAnalytics_BU001.events`\n",
    "WHERE DATE(visit_date) between \"2023-03-01\" and \"2023-03-31\"\n",
    "and EVENT_NAME in ('transaction.confirmation', 'product.add_to_cart')\n",
    "group by site_id, year, week, event_name\n",
    "\"\"\"\n",
    "gr_23_03 = client_1.query(query=query_1)\n",
    "df_gr_23_03 = gr_23_03.to_dataframe()"
   ]
  },
  {
   "cell_type": "code",
   "execution_count": 158,
   "metadata": {},
   "outputs": [],
   "source": [
    "# test for the query 2023-04\n",
    "query_1 = \"\"\"\n",
    "select\n",
    "SITE_ID as site_id, extract(year from VISIT_DATE) as year, extract(week from VISIT_DATE) AS week, event_name,\n",
    "count(distinct VISIT_ID) as nb_visit_id, \n",
    "count(distinct VISITOR_ID) as nb_visitors,\n",
    "count(distinct USER_ID) as nb_users\n",
    "from `dfdp-customer-experience-prod.PianoAnalytics_BU001.events`\n",
    "WHERE DATE(visit_date) between \"2023-04-01\" and \"2023-04-30\"\n",
    "and EVENT_NAME in ('transaction.confirmation', 'product.add_to_cart')\n",
    "group by site_id, year, week, event_name\n",
    "\"\"\"\n",
    "gr_23_04 = client_1.query(query=query_1)\n",
    "df_gr_23_04 = gr_23_04.to_dataframe()"
   ]
  },
  {
   "cell_type": "code",
   "execution_count": 159,
   "metadata": {},
   "outputs": [],
   "source": [
    "# test for the query 2023-05\n",
    "query_1 = \"\"\"\n",
    "select\n",
    "SITE_ID as site_id, extract(year from VISIT_DATE) as year, extract(week from VISIT_DATE) AS week, event_name,\n",
    "count(distinct VISIT_ID) as nb_visit_id, \n",
    "count(distinct VISITOR_ID) as nb_visitors,\n",
    "count(distinct USER_ID) as nb_users\n",
    "from `dfdp-customer-experience-prod.PianoAnalytics_BU001.events`\n",
    "WHERE DATE(visit_date) between \"2023-05-01\" and \"2023-05-31\"\n",
    "and EVENT_NAME in ('transaction.confirmation', 'product.add_to_cart')\n",
    "group by site_id, year, week, event_name\n",
    "\"\"\"\n",
    "gr_23_05 = client_1.query(query=query_1)\n",
    "df_gr_23_05 = gr_23_05.to_dataframe()"
   ]
  },
  {
   "cell_type": "code",
   "execution_count": 160,
   "metadata": {},
   "outputs": [],
   "source": [
    "# test for the query 2023-06\n",
    "query_1 = \"\"\"\n",
    "select\n",
    "SITE_ID as site_id, extract(year from VISIT_DATE) as year, extract(week from VISIT_DATE) AS week, event_name,\n",
    "count(distinct VISIT_ID) as nb_visit_id, \n",
    "count(distinct VISITOR_ID) as nb_visitors,\n",
    "count(distinct USER_ID) as nb_users\n",
    "from `dfdp-customer-experience-prod.PianoAnalytics_BU001.events`\n",
    "WHERE DATE(visit_date) between \"2023-06-01\" and \"2023-06-30\"\n",
    "and EVENT_NAME in ('transaction.confirmation', 'product.add_to_cart')\n",
    "group by site_id, year, week, event_name\n",
    "\"\"\"\n",
    "gr_23_06 = client_1.query(query=query_1)\n",
    "df_gr_23_06 = gr_23_06.to_dataframe()"
   ]
  },
  {
   "cell_type": "code",
   "execution_count": 161,
   "metadata": {},
   "outputs": [],
   "source": [
    "# test for the query 2023-07\n",
    "query_1 = \"\"\"\n",
    "select\n",
    "SITE_ID as site_id, extract(year from VISIT_DATE) as year, extract(week from VISIT_DATE) AS week, event_name,\n",
    "count(distinct VISIT_ID) as nb_visit_id, \n",
    "count(distinct VISITOR_ID) as nb_visitors,\n",
    "count(distinct USER_ID) as nb_users\n",
    "from `dfdp-customer-experience-prod.PianoAnalytics_BU001.events`\n",
    "WHERE DATE(visit_date) between \"2023-07-01\" and \"2023-07-31\"\n",
    "and EVENT_NAME in ('transaction.confirmation', 'product.add_to_cart')\n",
    "group by site_id, year, week, event_name\n",
    "\"\"\"\n",
    "gr_23_07 = client_1.query(query=query_1)\n",
    "df_gr_23_07 = gr_23_07.to_dataframe()"
   ]
  },
  {
   "cell_type": "code",
   "execution_count": 162,
   "metadata": {},
   "outputs": [],
   "source": [
    "# test for the query 2023-08\n",
    "query_1 = \"\"\"\n",
    "select\n",
    "SITE_ID as site_id, extract(year from VISIT_DATE) as year, extract(week from VISIT_DATE) AS week, event_name,\n",
    "count(distinct VISIT_ID) as nb_visit_id, \n",
    "count(distinct VISITOR_ID) as nb_visitors,\n",
    "count(distinct USER_ID) as nb_users\n",
    "from `dfdp-customer-experience-prod.PianoAnalytics_BU001.events`\n",
    "WHERE DATE(visit_date) between \"2023-08-01\" and \"2023-08-31\"\n",
    "and EVENT_NAME in ('transaction.confirmation', 'product.add_to_cart')\n",
    "group by site_id, year, week, event_name\n",
    "\"\"\"\n",
    "gr_23_08 = client_1.query(query=query_1)\n",
    "df_gr_23_08 = gr_23_08.to_dataframe()"
   ]
  },
  {
   "cell_type": "code",
   "execution_count": 164,
   "metadata": {},
   "outputs": [
    {
     "name": "stderr",
     "output_type": "stream",
     "text": [
      "/var/folders/t5/84slq0fn2gx51rghrcgxpjt80000gn/T/ipykernel_94170/1809959261.py:1: FutureWarning: The frame.append method is deprecated and will be removed from pandas in a future version. Use pandas.concat instead.\n",
      "  df_gr_1 = df_gr_22_10.append([df_gr_22_11, df_gr_22_12, df_gr_23_01])\n"
     ]
    }
   ],
   "source": [
    "df_gr_1 = df_gr_22_10.append([df_gr_22_11, df_gr_22_12, df_gr_23_01])"
   ]
  },
  {
   "cell_type": "code",
   "execution_count": 165,
   "metadata": {},
   "outputs": [
    {
     "name": "stderr",
     "output_type": "stream",
     "text": [
      "/var/folders/t5/84slq0fn2gx51rghrcgxpjt80000gn/T/ipykernel_94170/3431888248.py:1: FutureWarning: The frame.append method is deprecated and will be removed from pandas in a future version. Use pandas.concat instead.\n",
      "  df_gr_2 = df_gr_23_02.append([df_gr_23_03, df_gr_23_04])\n"
     ]
    }
   ],
   "source": [
    "df_gr_2 = df_gr_23_02.append([df_gr_23_03, df_gr_23_04])"
   ]
  },
  {
   "cell_type": "code",
   "execution_count": 166,
   "metadata": {},
   "outputs": [
    {
     "name": "stderr",
     "output_type": "stream",
     "text": [
      "/var/folders/t5/84slq0fn2gx51rghrcgxpjt80000gn/T/ipykernel_94170/1074496478.py:1: FutureWarning: The frame.append method is deprecated and will be removed from pandas in a future version. Use pandas.concat instead.\n",
      "  df_gr_3 = df_gr_23_05.append([df_gr_23_06, df_gr_23_07, df_gr_23_08])\n"
     ]
    }
   ],
   "source": [
    "df_gr_3 = df_gr_23_05.append([df_gr_23_06, df_gr_23_07, df_gr_23_08])"
   ]
  },
  {
   "cell_type": "code",
   "execution_count": 167,
   "metadata": {},
   "outputs": [
    {
     "name": "stderr",
     "output_type": "stream",
     "text": [
      "/var/folders/t5/84slq0fn2gx51rghrcgxpjt80000gn/T/ipykernel_94170/1493581757.py:1: FutureWarning: The frame.append method is deprecated and will be removed from pandas in a future version. Use pandas.concat instead.\n",
      "  df_gr = df_gr_1.append([df_gr_2, df_gr_3])\n"
     ]
    }
   ],
   "source": [
    "df_gr = df_gr_1.append([df_gr_2, df_gr_3])"
   ]
  },
  {
   "cell_type": "code",
   "execution_count": 168,
   "metadata": {},
   "outputs": [
    {
     "data": {
      "text/plain": [
       "232"
      ]
     },
     "execution_count": 168,
     "metadata": {},
     "output_type": "execute_result"
    }
   ],
   "source": [
    "df_gr.shape[0]"
   ]
  },
  {
   "cell_type": "raw",
   "metadata": {},
   "source": [
    "df_gr.to_excel(\"df_gr.xlsx\")"
   ]
  },
  {
   "cell_type": "code",
   "execution_count": 179,
   "metadata": {},
   "outputs": [],
   "source": [
    "df_gr = df_gr.sort_values(by=['year', 'week', 'site_id', 'event_name'])"
   ]
  },
  {
   "cell_type": "code",
   "execution_count": 184,
   "metadata": {},
   "outputs": [
    {
     "data": {
      "text/html": [
       "<div>\n",
       "<style scoped>\n",
       "    .dataframe tbody tr th:only-of-type {\n",
       "        vertical-align: middle;\n",
       "    }\n",
       "\n",
       "    .dataframe tbody tr th {\n",
       "        vertical-align: top;\n",
       "    }\n",
       "\n",
       "    .dataframe thead th {\n",
       "        text-align: right;\n",
       "    }\n",
       "</style>\n",
       "<table border=\"1\" class=\"dataframe\">\n",
       "  <thead>\n",
       "    <tr style=\"text-align: right;\">\n",
       "      <th></th>\n",
       "      <th>site_id</th>\n",
       "      <th>year</th>\n",
       "      <th>week</th>\n",
       "      <th>event_name</th>\n",
       "      <th>nb_visit_id</th>\n",
       "      <th>nb_visitors</th>\n",
       "      <th>nb_users</th>\n",
       "      <th>year_week</th>\n",
       "    </tr>\n",
       "  </thead>\n",
       "  <tbody>\n",
       "    <tr>\n",
       "      <th>20</th>\n",
       "      <td>629569</td>\n",
       "      <td>2022</td>\n",
       "      <td>39</td>\n",
       "      <td>product.add_to_cart</td>\n",
       "      <td>6953</td>\n",
       "      <td>6247</td>\n",
       "      <td>4241</td>\n",
       "      <td>2022_39</td>\n",
       "    </tr>\n",
       "    <tr>\n",
       "      <th>14</th>\n",
       "      <td>629569</td>\n",
       "      <td>2022</td>\n",
       "      <td>39</td>\n",
       "      <td>transaction.confirmation</td>\n",
       "      <td>1713</td>\n",
       "      <td>1682</td>\n",
       "      <td>0</td>\n",
       "      <td>2022_39</td>\n",
       "    </tr>\n",
       "    <tr>\n",
       "      <th>7</th>\n",
       "      <td>629890</td>\n",
       "      <td>2022</td>\n",
       "      <td>39</td>\n",
       "      <td>product.add_to_cart</td>\n",
       "      <td>52301</td>\n",
       "      <td>48956</td>\n",
       "      <td>13401</td>\n",
       "      <td>2022_39</td>\n",
       "    </tr>\n",
       "    <tr>\n",
       "      <th>22</th>\n",
       "      <td>629890</td>\n",
       "      <td>2022</td>\n",
       "      <td>39</td>\n",
       "      <td>transaction.confirmation</td>\n",
       "      <td>11122</td>\n",
       "      <td>11008</td>\n",
       "      <td>6987</td>\n",
       "      <td>2022_39</td>\n",
       "    </tr>\n",
       "    <tr>\n",
       "      <th>23</th>\n",
       "      <td>629569</td>\n",
       "      <td>2022</td>\n",
       "      <td>40</td>\n",
       "      <td>product.add_to_cart</td>\n",
       "      <td>41004</td>\n",
       "      <td>29881</td>\n",
       "      <td>20279</td>\n",
       "      <td>2022_40</td>\n",
       "    </tr>\n",
       "  </tbody>\n",
       "</table>\n",
       "</div>"
      ],
      "text/plain": [
       "    site_id  year  week                event_name  nb_visit_id  nb_visitors  \\\n",
       "20   629569  2022    39       product.add_to_cart         6953         6247   \n",
       "14   629569  2022    39  transaction.confirmation         1713         1682   \n",
       "7    629890  2022    39       product.add_to_cart        52301        48956   \n",
       "22   629890  2022    39  transaction.confirmation        11122        11008   \n",
       "23   629569  2022    40       product.add_to_cart        41004        29881   \n",
       "\n",
       "    nb_users year_week  \n",
       "20      4241   2022_39  \n",
       "14         0   2022_39  \n",
       "7      13401   2022_39  \n",
       "22      6987   2022_39  \n",
       "23     20279   2022_40  "
      ]
     },
     "execution_count": 184,
     "metadata": {},
     "output_type": "execute_result"
    }
   ],
   "source": [
    "df_gr.head()"
   ]
  },
  {
   "cell_type": "code",
   "execution_count": 177,
   "metadata": {},
   "outputs": [],
   "source": [
    "df_gr['site_id'] = df_gr['site_id'].astype('int')"
   ]
  },
  {
   "cell_type": "code",
   "execution_count": 183,
   "metadata": {},
   "outputs": [],
   "source": [
    "df_gr['year_week'] = df_gr['year'].astype('str') + \"_\" + df_gr['week'].astype('str')"
   ]
  },
  {
   "cell_type": "code",
   "execution_count": 194,
   "metadata": {},
   "outputs": [
    {
     "data": {
      "text/plain": [
       "<AxesSubplot: xlabel='year_week', ylabel='nb_visitors'>"
      ]
     },
     "execution_count": 194,
     "metadata": {},
     "output_type": "execute_result"
    },
    {
     "data": {
      "image/png": "[encoded data removed]",
      "text/plain": [
       "<Figure size 2000x300 with 1 Axes>"
      ]
     },
     "metadata": {
      "image/png": {
       "height": 291,
       "width": 1639
      }
     },
     "output_type": "display_data"
    }
   ],
   "source": [
    "df_gr_visitor = df_gr.groupby(['year', 'week','year_week', 'event_name'])['nb_visitors'].sum().reset_index()\n",
    "df_gr_visitor = df_gr_visitor.sort_values(by=['year', 'week'])\n",
    "plt.figure(figsize=(20,3))\n",
    "sns.lineplot(data=df_gr_visitor,  x='year_week', y=\"nb_visitors\", hue='event_name')"
   ]
  },
  {
   "cell_type": "code",
   "execution_count": 202,
   "metadata": {},
   "outputs": [
    {
     "data": {
      "text/html": [
       "<div>\n",
       "<style scoped>\n",
       "    .dataframe tbody tr th:only-of-type {\n",
       "        vertical-align: middle;\n",
       "    }\n",
       "\n",
       "    .dataframe tbody tr th {\n",
       "        vertical-align: top;\n",
       "    }\n",
       "\n",
       "    .dataframe thead th {\n",
       "        text-align: right;\n",
       "    }\n",
       "</style>\n",
       "<table border=\"1\" class=\"dataframe\">\n",
       "  <thead>\n",
       "    <tr style=\"text-align: right;\">\n",
       "      <th></th>\n",
       "      <th>year</th>\n",
       "      <th>week</th>\n",
       "      <th>year_week</th>\n",
       "      <th>event_name</th>\n",
       "      <th>nb_visitors</th>\n",
       "    </tr>\n",
       "  </thead>\n",
       "  <tbody>\n",
       "    <tr>\n",
       "      <th>0</th>\n",
       "      <td>2022</td>\n",
       "      <td>39</td>\n",
       "      <td>2022_39</td>\n",
       "      <td>product.add_to_cart</td>\n",
       "      <td>55203</td>\n",
       "    </tr>\n",
       "    <tr>\n",
       "      <th>1</th>\n",
       "      <td>2022</td>\n",
       "      <td>39</td>\n",
       "      <td>2022_39</td>\n",
       "      <td>transaction.confirmation</td>\n",
       "      <td>12690</td>\n",
       "    </tr>\n",
       "    <tr>\n",
       "      <th>2</th>\n",
       "      <td>2022</td>\n",
       "      <td>40</td>\n",
       "      <td>2022_40</td>\n",
       "      <td>product.add_to_cart</td>\n",
       "      <td>330319</td>\n",
       "    </tr>\n",
       "    <tr>\n",
       "      <th>3</th>\n",
       "      <td>2022</td>\n",
       "      <td>40</td>\n",
       "      <td>2022_40</td>\n",
       "      <td>transaction.confirmation</td>\n",
       "      <td>85667</td>\n",
       "    </tr>\n",
       "    <tr>\n",
       "      <th>4</th>\n",
       "      <td>2022</td>\n",
       "      <td>41</td>\n",
       "      <td>2022_41</td>\n",
       "      <td>product.add_to_cart</td>\n",
       "      <td>333007</td>\n",
       "    </tr>\n",
       "  </tbody>\n",
       "</table>\n",
       "</div>"
      ],
      "text/plain": [
       "   year  week year_week                event_name  nb_visitors\n",
       "0  2022    39   2022_39       product.add_to_cart        55203\n",
       "1  2022    39   2022_39  transaction.confirmation        12690\n",
       "2  2022    40   2022_40       product.add_to_cart       330319\n",
       "3  2022    40   2022_40  transaction.confirmation        85667\n",
       "4  2022    41   2022_41       product.add_to_cart       333007"
      ]
     },
     "execution_count": 202,
     "metadata": {},
     "output_type": "execute_result"
    }
   ],
   "source": [
    "df_gr_visitor.head()"
   ]
  },
  {
   "cell_type": "code",
   "execution_count": 203,
   "metadata": {},
   "outputs": [
    {
     "data": {
      "text/html": [
       "<div>\n",
       "<style scoped>\n",
       "    .dataframe tbody tr th:only-of-type {\n",
       "        vertical-align: middle;\n",
       "    }\n",
       "\n",
       "    .dataframe tbody tr th {\n",
       "        vertical-align: top;\n",
       "    }\n",
       "\n",
       "    .dataframe thead th {\n",
       "        text-align: right;\n",
       "    }\n",
       "</style>\n",
       "<table border=\"1\" class=\"dataframe\">\n",
       "  <thead>\n",
       "    <tr style=\"text-align: right;\">\n",
       "      <th></th>\n",
       "      <th>year</th>\n",
       "      <th>week</th>\n",
       "      <th>year_week</th>\n",
       "      <th>event_name</th>\n",
       "      <th>nb_visitors</th>\n",
       "    </tr>\n",
       "  </thead>\n",
       "  <tbody>\n",
       "    <tr>\n",
       "      <th>28</th>\n",
       "      <td>2023</td>\n",
       "      <td>1</td>\n",
       "      <td>2023_1</td>\n",
       "      <td>product.add_to_cart</td>\n",
       "      <td>281225</td>\n",
       "    </tr>\n",
       "    <tr>\n",
       "      <th>29</th>\n",
       "      <td>2023</td>\n",
       "      <td>1</td>\n",
       "      <td>2023_1</td>\n",
       "      <td>transaction.confirmation</td>\n",
       "      <td>48310</td>\n",
       "    </tr>\n",
       "    <tr>\n",
       "      <th>30</th>\n",
       "      <td>2023</td>\n",
       "      <td>2</td>\n",
       "      <td>2023_2</td>\n",
       "      <td>product.add_to_cart</td>\n",
       "      <td>340567</td>\n",
       "    </tr>\n",
       "    <tr>\n",
       "      <th>31</th>\n",
       "      <td>2023</td>\n",
       "      <td>2</td>\n",
       "      <td>2023_2</td>\n",
       "      <td>transaction.confirmation</td>\n",
       "      <td>79817</td>\n",
       "    </tr>\n",
       "    <tr>\n",
       "      <th>32</th>\n",
       "      <td>2023</td>\n",
       "      <td>3</td>\n",
       "      <td>2023_3</td>\n",
       "      <td>product.add_to_cart</td>\n",
       "      <td>370799</td>\n",
       "    </tr>\n",
       "    <tr>\n",
       "      <th>...</th>\n",
       "      <td>...</td>\n",
       "      <td>...</td>\n",
       "      <td>...</td>\n",
       "      <td>...</td>\n",
       "      <td>...</td>\n",
       "    </tr>\n",
       "    <tr>\n",
       "      <th>93</th>\n",
       "      <td>2023</td>\n",
       "      <td>33</td>\n",
       "      <td>2023_33</td>\n",
       "      <td>transaction.confirmation</td>\n",
       "      <td>88163</td>\n",
       "    </tr>\n",
       "    <tr>\n",
       "      <th>94</th>\n",
       "      <td>2023</td>\n",
       "      <td>34</td>\n",
       "      <td>2023_34</td>\n",
       "      <td>product.add_to_cart</td>\n",
       "      <td>309149</td>\n",
       "    </tr>\n",
       "    <tr>\n",
       "      <th>95</th>\n",
       "      <td>2023</td>\n",
       "      <td>34</td>\n",
       "      <td>2023_34</td>\n",
       "      <td>transaction.confirmation</td>\n",
       "      <td>85896</td>\n",
       "    </tr>\n",
       "    <tr>\n",
       "      <th>96</th>\n",
       "      <td>2023</td>\n",
       "      <td>35</td>\n",
       "      <td>2023_35</td>\n",
       "      <td>product.add_to_cart</td>\n",
       "      <td>242209</td>\n",
       "    </tr>\n",
       "    <tr>\n",
       "      <th>97</th>\n",
       "      <td>2023</td>\n",
       "      <td>35</td>\n",
       "      <td>2023_35</td>\n",
       "      <td>transaction.confirmation</td>\n",
       "      <td>67923</td>\n",
       "    </tr>\n",
       "  </tbody>\n",
       "</table>\n",
       "<p>70 rows × 5 columns</p>\n",
       "</div>"
      ],
      "text/plain": [
       "    year  week year_week                event_name  nb_visitors\n",
       "28  2023     1    2023_1       product.add_to_cart       281225\n",
       "29  2023     1    2023_1  transaction.confirmation        48310\n",
       "30  2023     2    2023_2       product.add_to_cart       340567\n",
       "31  2023     2    2023_2  transaction.confirmation        79817\n",
       "32  2023     3    2023_3       product.add_to_cart       370799\n",
       "..   ...   ...       ...                       ...          ...\n",
       "93  2023    33   2023_33  transaction.confirmation        88163\n",
       "94  2023    34   2023_34       product.add_to_cart       309149\n",
       "95  2023    34   2023_34  transaction.confirmation        85896\n",
       "96  2023    35   2023_35       product.add_to_cart       242209\n",
       "97  2023    35   2023_35  transaction.confirmation        67923\n",
       "\n",
       "[70 rows x 5 columns]"
      ]
     },
     "execution_count": 203,
     "metadata": {},
     "output_type": "execute_result"
    }
   ],
   "source": [
    "df_gr_visitor[df_gr_visitor['year']==2023]"
   ]
  },
  {
   "cell_type": "code",
   "execution_count": 206,
   "metadata": {},
   "outputs": [
    {
     "name": "stdout",
     "output_type": "stream",
     "text": [
      "<class 'pandas.core.frame.DataFrame'>\n",
      "Int64Index: 98 entries, 0 to 97\n",
      "Data columns (total 5 columns):\n",
      " #   Column       Non-Null Count  Dtype \n",
      "---  ------       --------------  ----- \n",
      " 0   year         98 non-null     Int64 \n",
      " 1   week         98 non-null     Int64 \n",
      " 2   year_week    98 non-null     object\n",
      " 3   event_name   98 non-null     object\n",
      " 4   nb_visitors  98 non-null     Int64 \n",
      "dtypes: Int64(3), object(2)\n",
      "memory usage: 4.9+ KB\n"
     ]
    }
   ],
   "source": [
    "df_gr_visitor.info()"
   ]
  },
  {
   "cell_type": "code",
   "execution_count": 207,
   "metadata": {},
   "outputs": [
    {
     "name": "stderr",
     "output_type": "stream",
     "text": [
      "/var/folders/t5/84slq0fn2gx51rghrcgxpjt80000gn/T/ipykernel_94170/927453365.py:2: SettingWithCopyWarning: \n",
      "A value is trying to be set on a copy of a slice from a DataFrame.\n",
      "Try using .loc[row_indexer,col_indexer] = value instead\n",
      "\n",
      "See the caveats in the documentation: https://pandas.pydata.org/pandas-docs/stable/user_guide/indexing.html#returning-a-view-versus-a-copy\n",
      "  visitors_2023['week'] = visitors_2023['week'].astype('str')\n"
     ]
    },
    {
     "data": {
      "text/plain": [
       "<AxesSubplot: xlabel='week', ylabel='nb_visitors'>"
      ]
     },
     "execution_count": 207,
     "metadata": {},
     "output_type": "execute_result"
    },
    {
     "data": {
      "image/png": "[encoded data removed]",
      "text/plain": [
       "<Figure size 2000x300 with 1 Axes>"
      ]
     },
     "metadata": {
      "image/png": {
       "height": 287,
       "width": 1639
      }
     },
     "output_type": "display_data"
    }
   ],
   "source": [
    "visitors_2023 = df_gr_visitor[df_gr_visitor['year']==2023]\n",
    "visitors_2023['week'] = visitors_2023['week'].astype('str')\n",
    "plt.figure(figsize=(20,3))\n",
    "sns.lineplot(data=visitors_2023,  x='week', y=\"nb_visitors\", hue='event_name')"
   ]
  },
  {
   "attachments": {},
   "cell_type": "markdown",
   "metadata": {},
   "source": [
    "Let's find first user session and the futurs"
   ]
  },
  {
   "attachments": {},
   "cell_type": "markdown",
   "metadata": {},
   "source": [
    "### !!! use parquet files !"
   ]
  },
  {
   "cell_type": "code",
   "execution_count": 214,
   "metadata": {},
   "outputs": [],
   "source": [
    "# test for the query 2022-10\n",
    "query_vis_1 = \"\"\"\n",
    "select\n",
    "VISITOR_ID as visitor_id, USER_ID as user_id, event_name, VISIT_DATE as visit_date\n",
    "from `dfdp-customer-experience-prod.PianoAnalytics_BU001.events`\n",
    "WHERE \n",
    "DATE(visit_date) between \"2022-10-01\" and \"2022-10-31\" and\n",
    "EVENT_NAME in ('transaction.confirmation', 'product.add_to_cart')\n",
    "\"\"\"\n",
    "vis_22_10 = client_1.query(query=query_vis_1)\n",
    "df_vis_22_10 = vis_22_10.to_dataframe()"
   ]
  },
  {
   "cell_type": "code",
   "execution_count": 215,
   "metadata": {},
   "outputs": [],
   "source": [
    "df_vis_22_10.to_parquet('df_vis_22_10.parquet.gzip', compression='gzip')"
   ]
  },
  {
   "cell_type": "code",
   "execution_count": 217,
   "metadata": {},
   "outputs": [],
   "source": [
    "# test for the query 2022-11\n",
    "query_vis_2 = \"\"\"\n",
    "select\n",
    "VISITOR_ID as visitor_id, USER_ID as user_id, event_name, VISIT_DATE as visit_date\n",
    "from `dfdp-customer-experience-prod.PianoAnalytics_BU001.events`\n",
    "WHERE \n",
    "DATE(visit_date) between \"2022-11-01\" and \"2022-11-30\" and\n",
    "EVENT_NAME in ('transaction.confirmation', 'product.add_to_cart')\n",
    "\"\"\"\n",
    "vis_22_11 = client_1.query(query=query_vis_2)\n",
    "df_vis_22_11 = vis_22_11.to_dataframe()\n",
    "df_vis_22_11.to_parquet('df_vis_22_11.parquet.gzip', compression='gzip')"
   ]
  },
  {
   "cell_type": "code",
   "execution_count": 218,
   "metadata": {},
   "outputs": [],
   "source": [
    "# test for the query 2022-12\n",
    "query_vis_3 = \"\"\"\n",
    "select\n",
    "VISITOR_ID as visitor_id, USER_ID as user_id, event_name, VISIT_DATE as visit_date\n",
    "from `dfdp-customer-experience-prod.PianoAnalytics_BU001.events`\n",
    "WHERE \n",
    "DATE(visit_date) between \"2022-12-01\" and \"2022-12-31\" and\n",
    "EVENT_NAME in ('transaction.confirmation', 'product.add_to_cart')\n",
    "\"\"\"\n",
    "vis_22_12 = client_1.query(query=query_vis_3)\n",
    "df_vis_22_12 = vis_22_12.to_dataframe()"
   ]
  },
  {
   "cell_type": "code",
   "execution_count": 219,
   "metadata": {},
   "outputs": [],
   "source": [
    "df_vis_22_12.to_parquet('df_vis_22_12.parquet.gzip', compression='gzip')"
   ]
  },
  {
   "cell_type": "code",
   "execution_count": 220,
   "metadata": {},
   "outputs": [],
   "source": [
    "# test for the query 2023-01\n",
    "query_vis_4 = \"\"\"\n",
    "select\n",
    "VISITOR_ID as visitor_id, USER_ID as user_id, event_name, VISIT_DATE as visit_date\n",
    "from `dfdp-customer-experience-prod.PianoAnalytics_BU001.events`\n",
    "WHERE \n",
    "DATE(visit_date) between \"2023-01-01\" and \"2023-01-31\" and\n",
    "EVENT_NAME in ('transaction.confirmation', 'product.add_to_cart')\n",
    "\"\"\"\n",
    "vis_23_01 = client_1.query(query=query_vis_4)\n",
    "df_vis_23_01 = vis_23_01.to_dataframe()"
   ]
  },
  {
   "cell_type": "code",
   "execution_count": 221,
   "metadata": {},
   "outputs": [],
   "source": [
    "df_vis_23_01.to_parquet('df_vis_23_01.parquet.gzip', compression='gzip')"
   ]
  },
  {
   "cell_type": "code",
   "execution_count": 222,
   "metadata": {},
   "outputs": [],
   "source": [
    "# test for the query 2023-02\n",
    "query_vis_5 = \"\"\"\n",
    "select\n",
    "VISITOR_ID as visitor_id, USER_ID as user_id, event_name, VISIT_DATE as visit_date\n",
    "from `dfdp-customer-experience-prod.PianoAnalytics_BU001.events`\n",
    "WHERE \n",
    "DATE(visit_date) between \"2023-02-01\" and \"2023-02-28\" and\n",
    "EVENT_NAME in ('transaction.confirmation', 'product.add_to_cart')\n",
    "\"\"\"\n",
    "vis_23_02 = client_1.query(query=query_vis_5)\n",
    "df_vis_23_02 = vis_23_02.to_dataframe()"
   ]
  },
  {
   "cell_type": "code",
   "execution_count": 223,
   "metadata": {},
   "outputs": [],
   "source": [
    "df_vis_23_02.to_parquet('df_vis_23_02.parquet.gzip', compression='gzip')"
   ]
  },
  {
   "cell_type": "code",
   "execution_count": 224,
   "metadata": {},
   "outputs": [],
   "source": [
    "# test for the query 2023-03\n",
    "query_vis_6 = \"\"\"\n",
    "select\n",
    "VISITOR_ID as visitor_id, USER_ID as user_id, event_name, VISIT_DATE as visit_date\n",
    "from `dfdp-customer-experience-prod.PianoAnalytics_BU001.events`\n",
    "WHERE \n",
    "DATE(visit_date) between \"2023-03-01\" and \"2023-03-31\" and\n",
    "EVENT_NAME in ('transaction.confirmation', 'product.add_to_cart')\n",
    "\"\"\"\n",
    "vis_23_03 = client_1.query(query=query_vis_6)\n",
    "df_vis_23_03 = vis_23_03.to_dataframe()"
   ]
  },
  {
   "cell_type": "code",
   "execution_count": 225,
   "metadata": {},
   "outputs": [],
   "source": [
    "df_vis_23_03.to_parquet('df_vis_23_03.parquet.gzip', compression='gzip')"
   ]
  },
  {
   "cell_type": "code",
   "execution_count": 226,
   "metadata": {},
   "outputs": [],
   "source": [
    "# test for the query 2023-04\n",
    "query_vis_7 = \"\"\"\n",
    "select\n",
    "VISITOR_ID as visitor_id, USER_ID as user_id, event_name, VISIT_DATE as visit_date\n",
    "from `dfdp-customer-experience-prod.PianoAnalytics_BU001.events`\n",
    "WHERE \n",
    "DATE(visit_date) between \"2023-04-01\" and \"2023-04-30\" and\n",
    "EVENT_NAME in ('transaction.confirmation', 'product.add_to_cart')\n",
    "\"\"\"\n",
    "vis_23_04 = client_1.query(query=query_vis_7)\n",
    "df_vis_23_04 = vis_23_04.to_dataframe()"
   ]
  },
  {
   "cell_type": "code",
   "execution_count": 227,
   "metadata": {},
   "outputs": [],
   "source": [
    "df_vis_23_04.to_parquet('df_vis_23_04.parquet.gzip', compression='gzip')"
   ]
  },
  {
   "cell_type": "code",
   "execution_count": 228,
   "metadata": {},
   "outputs": [],
   "source": [
    "# test for the query 2023-05\n",
    "query_vis_8 = \"\"\"\n",
    "select\n",
    "VISITOR_ID as visitor_id, USER_ID as user_id, event_name, VISIT_DATE as visit_date\n",
    "from `dfdp-customer-experience-prod.PianoAnalytics_BU001.events`\n",
    "WHERE \n",
    "DATE(visit_date) between \"2023-05-01\" and \"2023-05-31\" and\n",
    "EVENT_NAME in ('transaction.confirmation', 'product.add_to_cart')\n",
    "\"\"\"\n",
    "vis_23_05 = client_1.query(query=query_vis_8)\n",
    "df_vis_23_05 = vis_23_05.to_dataframe()"
   ]
  },
  {
   "cell_type": "code",
   "execution_count": 229,
   "metadata": {},
   "outputs": [],
   "source": [
    "df_vis_23_05.to_parquet('df_vis_23_05.parquet.gzip', compression='gzip')"
   ]
  },
  {
   "cell_type": "code",
   "execution_count": 230,
   "metadata": {},
   "outputs": [],
   "source": [
    "# test for the query 2023-06\n",
    "query_vis_9 = \"\"\"\n",
    "select\n",
    "VISITOR_ID as visitor_id, USER_ID as user_id, event_name, VISIT_DATE as visit_date\n",
    "from `dfdp-customer-experience-prod.PianoAnalytics_BU001.events`\n",
    "WHERE \n",
    "DATE(visit_date) between \"2023-06-01\" and \"2023-06-30\" and\n",
    "EVENT_NAME in ('transaction.confirmation', 'product.add_to_cart')\n",
    "\"\"\"\n",
    "vis_23_06 = client_1.query(query=query_vis_9)\n",
    "df_vis_23_06 = vis_23_06.to_dataframe()"
   ]
  },
  {
   "cell_type": "code",
   "execution_count": 231,
   "metadata": {},
   "outputs": [],
   "source": [
    "df_vis_23_06.to_parquet('df_vis_23_06.parquet.gzip', compression='gzip')"
   ]
  },
  {
   "cell_type": "code",
   "execution_count": 232,
   "metadata": {},
   "outputs": [],
   "source": [
    "# test for the query 2023-07\n",
    "query_vis_10 = \"\"\"\n",
    "select\n",
    "VISITOR_ID as visitor_id, USER_ID as user_id, event_name, VISIT_DATE as visit_date\n",
    "from `dfdp-customer-experience-prod.PianoAnalytics_BU001.events`\n",
    "WHERE \n",
    "DATE(visit_date) between \"2023-07-01\" and \"2023-07-31\" and\n",
    "EVENT_NAME in ('transaction.confirmation', 'product.add_to_cart')\n",
    "\"\"\"\n",
    "vis_23_07 = client_1.query(query=query_vis_10)\n",
    "df_vis_23_07 = vis_23_07.to_dataframe()"
   ]
  },
  {
   "cell_type": "code",
   "execution_count": 233,
   "metadata": {},
   "outputs": [],
   "source": [
    "df_vis_23_07.to_parquet('df_vis_23_07.parquet.gzip', compression='gzip')"
   ]
  },
  {
   "cell_type": "code",
   "execution_count": 234,
   "metadata": {},
   "outputs": [],
   "source": [
    "# test for the query 2023-08\n",
    "query_vis_11 = \"\"\"\n",
    "select\n",
    "VISITOR_ID as visitor_id, USER_ID as user_id, event_name, VISIT_DATE as visit_date\n",
    "from `dfdp-customer-experience-prod.PianoAnalytics_BU001.events`\n",
    "WHERE \n",
    "DATE(visit_date) between \"2023-08-01\" and \"2023-08-31\" and\n",
    "EVENT_NAME in ('transaction.confirmation', 'product.add_to_cart')\n",
    "\"\"\"\n",
    "vis_23_08 = client_1.query(query=query_vis_11)\n",
    "df_vis_23_08 = vis_23_08.to_dataframe()"
   ]
  },
  {
   "cell_type": "code",
   "execution_count": 235,
   "metadata": {},
   "outputs": [],
   "source": [
    "df_vis_23_08.to_parquet('df_vis_23_08.parquet.gzip', compression='gzip')"
   ]
  },
  {
   "cell_type": "code",
   "execution_count": 236,
   "metadata": {},
   "outputs": [
    {
     "data": {
      "text/html": [
       "<div>\n",
       "<style scoped>\n",
       "    .dataframe tbody tr th:only-of-type {\n",
       "        vertical-align: middle;\n",
       "    }\n",
       "\n",
       "    .dataframe tbody tr th {\n",
       "        vertical-align: top;\n",
       "    }\n",
       "\n",
       "    .dataframe thead th {\n",
       "        text-align: right;\n",
       "    }\n",
       "</style>\n",
       "<table border=\"1\" class=\"dataframe\">\n",
       "  <thead>\n",
       "    <tr style=\"text-align: right;\">\n",
       "      <th></th>\n",
       "      <th>visitor_id</th>\n",
       "      <th>user_id</th>\n",
       "      <th>event_name</th>\n",
       "      <th>visit_date</th>\n",
       "    </tr>\n",
       "  </thead>\n",
       "  <tbody>\n",
       "    <tr>\n",
       "      <th>0</th>\n",
       "      <td>3BB99AAA03E4D94D54247C12E03F62FFE8A78D95</td>\n",
       "      <td>78880531</td>\n",
       "      <td>product.add_to_cart</td>\n",
       "      <td>2023-08-07</td>\n",
       "    </tr>\n",
       "    <tr>\n",
       "      <th>1</th>\n",
       "      <td>20C26879F8615191DF8C79FB173EEEB656DC7882</td>\n",
       "      <td>None</td>\n",
       "      <td>product.add_to_cart</td>\n",
       "      <td>2023-08-07</td>\n",
       "    </tr>\n",
       "    <tr>\n",
       "      <th>2</th>\n",
       "      <td>DBE4E27B49F09BF383D8270DA57258ADC11B2338</td>\n",
       "      <td>58182359</td>\n",
       "      <td>product.add_to_cart</td>\n",
       "      <td>2023-08-07</td>\n",
       "    </tr>\n",
       "    <tr>\n",
       "      <th>3</th>\n",
       "      <td>9F49BE6393B9E7855FE54E6579C1BF8DF8C44494</td>\n",
       "      <td>None</td>\n",
       "      <td>product.add_to_cart</td>\n",
       "      <td>2023-08-07</td>\n",
       "    </tr>\n",
       "    <tr>\n",
       "      <th>4</th>\n",
       "      <td>3EB1EB5CD562C17728CCBBE524DDB65699B8F130</td>\n",
       "      <td>68330166</td>\n",
       "      <td>product.add_to_cart</td>\n",
       "      <td>2023-08-07</td>\n",
       "    </tr>\n",
       "    <tr>\n",
       "      <th>...</th>\n",
       "      <td>...</td>\n",
       "      <td>...</td>\n",
       "      <td>...</td>\n",
       "      <td>...</td>\n",
       "    </tr>\n",
       "    <tr>\n",
       "      <th>4669236</th>\n",
       "      <td>94E98157B8CEB5242D0EEFEA3BAD11695475F255</td>\n",
       "      <td>None</td>\n",
       "      <td>transaction.confirmation</td>\n",
       "      <td>2023-08-10</td>\n",
       "    </tr>\n",
       "    <tr>\n",
       "      <th>4669237</th>\n",
       "      <td>140495DAD5CD3FD9253EA73B5E9CD7A503010BD0</td>\n",
       "      <td>96550143</td>\n",
       "      <td>transaction.confirmation</td>\n",
       "      <td>2023-08-10</td>\n",
       "    </tr>\n",
       "    <tr>\n",
       "      <th>4669238</th>\n",
       "      <td>C153D2B5BAA67C9BB161EA6D3BDA5FE52E0AC939</td>\n",
       "      <td>None</td>\n",
       "      <td>transaction.confirmation</td>\n",
       "      <td>2023-08-10</td>\n",
       "    </tr>\n",
       "    <tr>\n",
       "      <th>4669239</th>\n",
       "      <td>C01C8783EDDF53C90922DE920C64308F0F7327D7</td>\n",
       "      <td>73223949</td>\n",
       "      <td>transaction.confirmation</td>\n",
       "      <td>2023-08-10</td>\n",
       "    </tr>\n",
       "    <tr>\n",
       "      <th>4669240</th>\n",
       "      <td>CBD60283D7C7088D2EC48E7CC87DB93C157F3FC0</td>\n",
       "      <td>None</td>\n",
       "      <td>transaction.confirmation</td>\n",
       "      <td>2023-08-10</td>\n",
       "    </tr>\n",
       "  </tbody>\n",
       "</table>\n",
       "<p>4669241 rows × 4 columns</p>\n",
       "</div>"
      ],
      "text/plain": [
       "                                       visitor_id   user_id  \\\n",
       "0        3BB99AAA03E4D94D54247C12E03F62FFE8A78D95  78880531   \n",
       "1        20C26879F8615191DF8C79FB173EEEB656DC7882      None   \n",
       "2        DBE4E27B49F09BF383D8270DA57258ADC11B2338  58182359   \n",
       "3        9F49BE6393B9E7855FE54E6579C1BF8DF8C44494      None   \n",
       "4        3EB1EB5CD562C17728CCBBE524DDB65699B8F130  68330166   \n",
       "...                                           ...       ...   \n",
       "4669236  94E98157B8CEB5242D0EEFEA3BAD11695475F255      None   \n",
       "4669237  140495DAD5CD3FD9253EA73B5E9CD7A503010BD0  96550143   \n",
       "4669238  C153D2B5BAA67C9BB161EA6D3BDA5FE52E0AC939      None   \n",
       "4669239  C01C8783EDDF53C90922DE920C64308F0F7327D7  73223949   \n",
       "4669240  CBD60283D7C7088D2EC48E7CC87DB93C157F3FC0      None   \n",
       "\n",
       "                       event_name  visit_date  \n",
       "0             product.add_to_cart  2023-08-07  \n",
       "1             product.add_to_cart  2023-08-07  \n",
       "2             product.add_to_cart  2023-08-07  \n",
       "3             product.add_to_cart  2023-08-07  \n",
       "4             product.add_to_cart  2023-08-07  \n",
       "...                           ...         ...  \n",
       "4669236  transaction.confirmation  2023-08-10  \n",
       "4669237  transaction.confirmation  2023-08-10  \n",
       "4669238  transaction.confirmation  2023-08-10  \n",
       "4669239  transaction.confirmation  2023-08-10  \n",
       "4669240  transaction.confirmation  2023-08-10  \n",
       "\n",
       "[4669241 rows x 4 columns]"
      ]
     },
     "execution_count": 236,
     "metadata": {},
     "output_type": "execute_result"
    }
   ],
   "source": [
    "df_vis_23_08"
   ]
  },
  {
   "cell_type": "code",
   "execution_count": null,
   "metadata": {},
   "outputs": [],
   "source": []
  },
  {
   "cell_type": "code",
   "execution_count": null,
   "metadata": {},
   "outputs": [],
   "source": []
  },
  {
   "cell_type": "code",
   "execution_count": null,
   "metadata": {},
   "outputs": [],
   "source": []
  },
  {
   "cell_type": "code",
   "execution_count": null,
   "metadata": {},
   "outputs": [],
   "source": []
  },
  {
   "cell_type": "code",
   "execution_count": null,
   "metadata": {},
   "outputs": [],
   "source": []
  },
  {
   "cell_type": "code",
   "execution_count": null,
   "metadata": {},
   "outputs": [],
   "source": []
  },
  {
   "cell_type": "code",
   "execution_count": null,
   "metadata": {},
   "outputs": [],
   "source": []
  },
  {
   "cell_type": "code",
   "execution_count": null,
   "metadata": {},
   "outputs": [],
   "source": []
  },
  {
   "cell_type": "code",
   "execution_count": null,
   "metadata": {},
   "outputs": [],
   "source": []
  },
  {
   "cell_type": "code",
   "execution_count": null,
   "metadata": {},
   "outputs": [],
   "source": []
  },
  {
   "cell_type": "code",
   "execution_count": null,
   "metadata": {},
   "outputs": [],
   "source": []
  },
  {
   "cell_type": "code",
   "execution_count": null,
   "metadata": {},
   "outputs": [],
   "source": []
  },
  {
   "cell_type": "code",
   "execution_count": null,
   "metadata": {},
   "outputs": [],
   "source": []
  },
  {
   "cell_type": "code",
   "execution_count": null,
   "metadata": {},
   "outputs": [],
   "source": []
  },
  {
   "cell_type": "code",
   "execution_count": null,
   "metadata": {},
   "outputs": [],
   "source": []
  }
 ],
 "metadata": {
  "kernelspec": {
   "display_name": "cashing-scoring-env",
   "language": "python",
   "name": "python3"
  },
  "language_info": {
   "codemirror_mode": {
    "name": "ipython",
    "version": 3
   },
   "file_extension": ".py",
   "mimetype": "text/x-python",
   "name": "python",
   "nbconvert_exporter": "python",
   "pygments_lexer": "ipython3",
   "version": "3.10.9 (main, Jan 26 2023, 14:03:48) [Clang 14.0.0 (clang-1400.0.29.202)]"
  },
  "orig_nbformat": 4,
  "vscode": {
   "interpreter": {
    "hash": "5932c71fae83f54b051fd5cdef704798997082f1902f53297518df8c2923f49d"
   }
  }
 },
 "nbformat": 4,
 "nbformat_minor": 2
}
