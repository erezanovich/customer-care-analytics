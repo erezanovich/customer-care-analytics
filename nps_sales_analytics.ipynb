{
 "cells": [
  {
   "cell_type": "code",
   "execution_count": null,
   "metadata": {},
   "outputs": [
    {
     "name": "stderr",
     "output_type": "stream",
     "text": [
      "/var/folders/t5/84slq0fn2gx51rghrcgxpjt80000gn/T/ipykernel_76169/2875002457.py:15: MatplotlibDeprecationWarning: The seaborn styles shipped by Matplotlib are deprecated since 3.6, as they no longer correspond to the styles shipped by seaborn. However, they will remain available as 'seaborn-v0_8-<style>'. Alternatively, directly use the seaborn API instead.\n",
      "  plt.style.use('seaborn-pastel')\n",
      "/var/folders/t5/84slq0fn2gx51rghrcgxpjt80000gn/T/ipykernel_76169/2875002457.py:16: MatplotlibDeprecationWarning: The seaborn styles shipped by Matplotlib are deprecated since 3.6, as they no longer correspond to the styles shipped by seaborn. However, they will remain available as 'seaborn-v0_8-<style>'. Alternatively, directly use the seaborn API instead.\n",
      "  plt.style.use('seaborn-dark')\n"
     ]
    }
   ],
   "source": [
    "import pandas as pd\n",
    "import numpy as np\n",
    "import matplotlib.pyplot as plt\n",
    "import seaborn as sns\n",
    "import datetime as dt\n",
    "import itertools\n",
    "import re\n",
    "from itertools import product\n",
    "import operator\n",
    "from functools import reduce\n",
    "import polars as pl\n",
    "#from pandas import option_context\n",
    "#%pip install openpyxl\n",
    "%config InlineBackend.figure_format = 'retina'\n",
    "plt.style.use('seaborn-pastel')\n",
    "plt.style.use('seaborn-dark')"
   ]
  },
  {
   "cell_type": "code",
   "execution_count": 1,
   "metadata": {},
   "outputs": [],
   "source": [
    "import matplotlib\n",
    "from matplotlib.colors import ListedColormap\n",
    "from matplotlib.colors import LinearSegmentedColormap\n",
    "matplotlib.style.use('dark_background')\n",
    "color_list = ['white','skyblue','pink', 'tomato', 'slateblue', 'wheat', 'lightgrey', 'limegreen', 'royalblue', 'yellowgreen', 'lightseagreen', 'orchid', 'orange']\n",
    "cmap = LinearSegmentedColormap.from_list(\"\",color_list)"
   ]
  },
  {
   "cell_type": "code",
   "execution_count": 2,
   "metadata": {},
   "outputs": [],
   "source": [
    "# Import all the google connexion packages\n",
    "import os\n",
    "import google.auth\n",
    "from google.cloud import bigquery\n",
    "from google.auth import impersonated_credentials\n",
    "\n",
    "os.environ['GOOGLE_APPLICATION_CREDENTIALS'] = \"/Users/a20015173/.config/gcloud/legacy_credentials/ekaterina.rezanovich@adeo.com/adc.json\"\n",
    "client_1 = bigquery.Client(project = 'ccdp-transverse-data-dev')"
   ]
  },
  {
   "cell_type": "code",
   "execution_count": 3,
   "metadata": {},
   "outputs": [],
   "source": [
    "# 22_2_1P\n",
    "df_s_22_1_1p = pd.read_parquet('./datasets/sales_2022_1_1P.parquet')"
   ]
  },
  {
   "cell_type": "code",
   "execution_count": 4,
   "metadata": {},
   "outputs": [],
   "source": [
    "df_s_22_1_1p['amount_to'] = df_s_22_1_1p['amount_to'].astype('float').round(2)\n",
    "df_s_22_1_1p['qty'] = df_s_22_1_1p['qty'].astype('int').round(2)"
   ]
  },
  {
   "cell_type": "code",
   "execution_count": 5,
   "metadata": {},
   "outputs": [
    {
     "data": {
      "text/html": [
       "<div>\n",
       "<style scoped>\n",
       "    .dataframe tbody tr th:only-of-type {\n",
       "        vertical-align: middle;\n",
       "    }\n",
       "\n",
       "    .dataframe tbody tr th {\n",
       "        vertical-align: top;\n",
       "    }\n",
       "\n",
       "    .dataframe thead th {\n",
       "        text-align: right;\n",
       "    }\n",
       "</style>\n",
       "<table border=\"1\" class=\"dataframe\">\n",
       "  <thead>\n",
       "    <tr style=\"text-align: right;\">\n",
       "      <th></th>\n",
       "      <th>store_id</th>\n",
       "      <th>cart_date</th>\n",
       "      <th>item_id</th>\n",
       "      <th>cart_id</th>\n",
       "      <th>nb_checkouts</th>\n",
       "      <th>sale_channel_id</th>\n",
       "      <th>delivery_channel_id</th>\n",
       "      <th>amount_to</th>\n",
       "      <th>qty</th>\n",
       "      <th>top_l_c</th>\n",
       "      <th>user_id</th>\n",
       "      <th>gmv_type</th>\n",
       "      <th>sales_channel</th>\n",
       "      <th>delivery_channel</th>\n",
       "    </tr>\n",
       "  </thead>\n",
       "  <tbody>\n",
       "    <tr>\n",
       "      <th>0</th>\n",
       "      <td>158</td>\n",
       "      <td>2022-01-11</td>\n",
       "      <td>84338558</td>\n",
       "      <td>158#7#3648#2022-01-11</td>\n",
       "      <td>1</td>\n",
       "      <td>1</td>\n",
       "      <td>1</td>\n",
       "      <td>13.77</td>\n",
       "      <td>3</td>\n",
       "      <td>1</td>\n",
       "      <td>77370668</td>\n",
       "      <td>1P</td>\n",
       "      <td>Store</td>\n",
       "      <td>Pickup</td>\n",
       "    </tr>\n",
       "    <tr>\n",
       "      <th>1</th>\n",
       "      <td>173</td>\n",
       "      <td>2022-01-11</td>\n",
       "      <td>82272860</td>\n",
       "      <td>173#3#7304#2022-01-11</td>\n",
       "      <td>1</td>\n",
       "      <td>1</td>\n",
       "      <td>0</td>\n",
       "      <td>109.89</td>\n",
       "      <td>1</td>\n",
       "      <td>1</td>\n",
       "      <td>16325071</td>\n",
       "      <td>1P</td>\n",
       "      <td>Store</td>\n",
       "      <td>Self-service</td>\n",
       "    </tr>\n",
       "  </tbody>\n",
       "</table>\n",
       "</div>"
      ],
      "text/plain": [
       "   store_id   cart_date   item_id                cart_id  nb_checkouts  \\\n",
       "0       158  2022-01-11  84338558  158#7#3648#2022-01-11             1   \n",
       "1       173  2022-01-11  82272860  173#3#7304#2022-01-11             1   \n",
       "\n",
       "   sale_channel_id  delivery_channel_id  amount_to  qty  top_l_c   user_id  \\\n",
       "0                1                    1      13.77    3        1  77370668   \n",
       "1                1                    0     109.89    1        1  16325071   \n",
       "\n",
       "  gmv_type sales_channel delivery_channel  \n",
       "0       1P         Store           Pickup  \n",
       "1       1P         Store     Self-service  "
      ]
     },
     "execution_count": 5,
     "metadata": {},
     "output_type": "execute_result"
    }
   ],
   "source": [
    "df_s_22_1_1p.head(2)"
   ]
  },
  {
   "cell_type": "code",
   "execution_count": 6,
   "metadata": {},
   "outputs": [],
   "source": [
    "df_s_22_1_1p_gr = df_s_22_1_1p.groupby(['store_id', 'cart_date', 'cart_id', 'user_id',\\\n",
    "                                         'top_l_c', 'sales_channel', 'delivery_channel'])\\\n",
    "                                         [['amount_to', 'qty']].sum().reset_index()"
   ]
  },
  {
   "cell_type": "code",
   "execution_count": 7,
   "metadata": {},
   "outputs": [
    {
     "data": {
      "text/html": [
       "<div>\n",
       "<style scoped>\n",
       "    .dataframe tbody tr th:only-of-type {\n",
       "        vertical-align: middle;\n",
       "    }\n",
       "\n",
       "    .dataframe tbody tr th {\n",
       "        vertical-align: top;\n",
       "    }\n",
       "\n",
       "    .dataframe thead th {\n",
       "        text-align: right;\n",
       "    }\n",
       "</style>\n",
       "<table border=\"1\" class=\"dataframe\">\n",
       "  <thead>\n",
       "    <tr style=\"text-align: right;\">\n",
       "      <th></th>\n",
       "      <th>store_id</th>\n",
       "      <th>cart_date</th>\n",
       "      <th>cart_id</th>\n",
       "      <th>user_id</th>\n",
       "      <th>top_l_c</th>\n",
       "      <th>sales_channel</th>\n",
       "      <th>delivery_channel</th>\n",
       "      <th>amount_to</th>\n",
       "      <th>qty</th>\n",
       "    </tr>\n",
       "  </thead>\n",
       "  <tbody>\n",
       "    <tr>\n",
       "      <th>0</th>\n",
       "      <td>3</td>\n",
       "      <td>2022-01-02</td>\n",
       "      <td>3#13#1880#2022-01-02</td>\n",
       "      <td>16511808</td>\n",
       "      <td>1</td>\n",
       "      <td>Website</td>\n",
       "      <td>Pickup</td>\n",
       "      <td>493.7</td>\n",
       "      <td>5</td>\n",
       "    </tr>\n",
       "    <tr>\n",
       "      <th>1</th>\n",
       "      <td>3</td>\n",
       "      <td>2022-01-02</td>\n",
       "      <td>3#13#1881#2022-01-02</td>\n",
       "      <td>52445590</td>\n",
       "      <td>0</td>\n",
       "      <td>Website</td>\n",
       "      <td>Pickup</td>\n",
       "      <td>78.4</td>\n",
       "      <td>1</td>\n",
       "    </tr>\n",
       "  </tbody>\n",
       "</table>\n",
       "</div>"
      ],
      "text/plain": [
       "   store_id   cart_date               cart_id   user_id  top_l_c  \\\n",
       "0         3  2022-01-02  3#13#1880#2022-01-02  16511808        1   \n",
       "1         3  2022-01-02  3#13#1881#2022-01-02  52445590        0   \n",
       "\n",
       "  sales_channel delivery_channel  amount_to  qty  \n",
       "0       Website           Pickup      493.7    5  \n",
       "1       Website           Pickup       78.4    1  "
      ]
     },
     "execution_count": 7,
     "metadata": {},
     "output_type": "execute_result"
    }
   ],
   "source": [
    "df_s_22_1_1p_gr.head(2)"
   ]
  },
  {
   "cell_type": "code",
   "execution_count": 9,
   "metadata": {},
   "outputs": [],
   "source": [
    "df_s_22_1_1p_gr.to_parquet('./datasets/sales_gr/df_s_22_1_1p.parquet')"
   ]
  },
  {
   "cell_type": "code",
   "execution_count": 8,
   "metadata": {},
   "outputs": [],
   "source": [
    "# 22_2_1P\n",
    "df_s_22_2_1p = pd.read_parquet('./datasets/sales_2022_2_1P.parquet')\n",
    "df_s_22_2_1p['amount_to'] = df_s_22_2_1p['amount_to'].astype('float').round(2)\n",
    "df_s_22_2_1p['qty'] = df_s_22_2_1p['qty'].astype('int').round(2)"
   ]
  },
  {
   "cell_type": "code",
   "execution_count": null,
   "metadata": {},
   "outputs": [],
   "source": [
    "df_s_22_2_1p = pd.read_parquet('./datasets/sales_2022_2_1P.parquet')\n",
    "df_s_22_2_1p['user_id'].nunique()"
   ]
  },
  {
   "cell_type": "code",
   "execution_count": 10,
   "metadata": {},
   "outputs": [],
   "source": [
    "df_s_22_2_1p_gr = df_s_22_2_1p.groupby(['store_id', 'cart_date', 'cart_id', 'user_id',\\\n",
    "                                         'top_l_c', 'sales_channel', 'delivery_channel'])\\\n",
    "                                         [['amount_to', 'qty']].sum().reset_index()\n",
    "df_s_22_2_1p_gr.to_parquet('./datasets/sales_gr/df_s_22_2_1p.parquet')"
   ]
  },
  {
   "cell_type": "code",
   "execution_count": 11,
   "metadata": {},
   "outputs": [],
   "source": [
    "# 22_3_1P\n",
    "df_s_22_3_1p = pd.read_parquet('./datasets/sales_2022_3_1P.parquet')\n",
    "df_s_22_3_1p['amount_to'] = df_s_22_3_1p['amount_to'].astype('float').round(2)\n",
    "df_s_22_3_1p['qty'] = df_s_22_3_1p['qty'].astype('int').round(2)"
   ]
  },
  {
   "cell_type": "code",
   "execution_count": 12,
   "metadata": {},
   "outputs": [],
   "source": [
    "df_s_22_3_1p_gr = df_s_22_3_1p.groupby(['store_id', 'cart_date', 'cart_id', 'user_id',\\\n",
    "                                         'top_l_c', 'sales_channel', 'delivery_channel'])\\\n",
    "                                         [['amount_to', 'qty']].sum().reset_index()\n",
    "df_s_22_3_1p_gr.to_parquet('./datasets/sales_gr/df_s_22_3_1p.parquet')"
   ]
  },
  {
   "cell_type": "code",
   "execution_count": 6,
   "metadata": {},
   "outputs": [],
   "source": [
    "# 22_4_1P\n",
    "df_s_22_4_1p = pd.read_parquet('./datasets/sales_2022_4_1P.parquet')\n",
    "df_s_22_4_1p['amount_to'] = df_s_22_4_1p['amount_to'].astype('float').round(2)\n",
    "df_s_22_4_1p['qty'] = df_s_22_4_1p['qty'].astype('int').round(2)"
   ]
  },
  {
   "cell_type": "code",
   "execution_count": 9,
   "metadata": {},
   "outputs": [],
   "source": [
    "df_s_22_4_1p_gr = df_s_22_4_1p.groupby(['store_id', 'cart_date', 'cart_id', 'user_id',\\\n",
    "                                         'top_l_c', 'sales_channel', 'delivery_channel'])\\\n",
    "                                         [['amount_to', 'qty']].sum().reset_index()\n",
    "df_s_22_4_1p_gr.to_parquet('./datasets/sales_gr/df_s_22_4_1p.parquet')"
   ]
  },
  {
   "cell_type": "code",
   "execution_count": 6,
   "metadata": {},
   "outputs": [],
   "source": [
    "# 22_23_3P\n",
    "df_s_3p = pd.read_parquet('./datasets/sales_2022_2023_3P.parquet')\n",
    "df_s_3p['amount_to'] = df_s_3p['amount_to'].astype('float').round(2)\n",
    "df_s_3p['qty'] = df_s_3p['qty'].astype('int').round(2)"
   ]
  },
  {
   "cell_type": "code",
   "execution_count": 14,
   "metadata": {},
   "outputs": [],
   "source": [
    "df_s_3p['store_id'] = df_s_3p['store_id'].fillna(380)\n",
    "df_s_3p['top_l_c'] = df_s_3p['top_l_c'].fillna(0)"
   ]
  },
  {
   "cell_type": "code",
   "execution_count": 17,
   "metadata": {},
   "outputs": [],
   "source": [
    "df_s_3p_gr = df_s_3p.groupby(['store_id', 'cart_date', 'cart_id', 'user_id',\\\n",
    "                                         'top_l_c', 'sales_channel', 'delivery_channel'])\\\n",
    "                                         [['amount_to', 'qty']].sum().reset_index()"
   ]
  },
  {
   "cell_type": "code",
   "execution_count": 19,
   "metadata": {},
   "outputs": [],
   "source": [
    "df_s_3p_gr.to_parquet('./datasets/sales_gr/df_s_3p.parquet')"
   ]
  },
  {
   "cell_type": "code",
   "execution_count": 18,
   "metadata": {},
   "outputs": [],
   "source": [
    "# 23_1_1P\n",
    "df_s_23_1_1p = pd.read_parquet('./datasets/sales_2023_1_1P.parquet')\n",
    "df_s_23_1_1p['amount_to'] = df_s_23_1_1p['amount_to'].astype('float').round(2)\n",
    "df_s_23_1_1p['qty'] = df_s_23_1_1p['qty'].astype('int').round(2)"
   ]
  },
  {
   "cell_type": "code",
   "execution_count": 19,
   "metadata": {},
   "outputs": [],
   "source": [
    "df_s_23_1_1p_gr = df_s_23_1_1p.groupby(['store_id', 'cart_date', 'cart_id', 'user_id',\\\n",
    "                                         'top_l_c', 'sales_channel', 'delivery_channel'])\\\n",
    "                                         [['amount_to', 'qty']].sum().reset_index()\n",
    "df_s_23_1_1p_gr.to_parquet('./datasets/sales_gr/df_s_23_1_1p.parquet')"
   ]
  },
  {
   "cell_type": "code",
   "execution_count": 20,
   "metadata": {},
   "outputs": [],
   "source": [
    "# 23_2_1P\n",
    "df_s_23_2_1p = pd.read_parquet('./datasets/sales_2023_2_1P.parquet')\n",
    "df_s_23_2_1p['amount_to'] = df_s_23_2_1p['amount_to'].astype('float').round(2)\n",
    "df_s_23_2_1p['qty'] = df_s_23_2_1p['qty'].astype('int').round(2)"
   ]
  },
  {
   "cell_type": "code",
   "execution_count": 21,
   "metadata": {},
   "outputs": [],
   "source": [
    "df_s_23_2_1p_gr = df_s_23_2_1p.groupby(['store_id', 'cart_date', 'cart_id', 'user_id',\\\n",
    "                                         'top_l_c', 'sales_channel', 'delivery_channel'])\\\n",
    "                                         [['amount_to', 'qty']].sum().reset_index()\n",
    "df_s_23_2_1p_gr.to_parquet('./datasets/sales_gr/df_s_23_2_1p.parquet')"
   ]
  },
  {
   "cell_type": "code",
   "execution_count": 22,
   "metadata": {},
   "outputs": [],
   "source": [
    "# 23_3_1P\n",
    "df_s_23_3_1p = pd.read_parquet('./datasets/sales_2023_3_1P.parquet')\n",
    "df_s_23_3_1p['amount_to'] = df_s_23_3_1p['amount_to'].astype('float').round(2)\n",
    "df_s_23_3_1p['qty'] = df_s_23_3_1p['qty'].astype('int').round(2)"
   ]
  },
  {
   "cell_type": "code",
   "execution_count": 23,
   "metadata": {},
   "outputs": [],
   "source": [
    "df_s_23_3_1p_gr = df_s_23_3_1p.groupby(['store_id', 'cart_date', 'cart_id', 'user_id',\\\n",
    "                                         'top_l_c', 'sales_channel', 'delivery_channel'])\\\n",
    "                                         [['amount_to', 'qty']].sum().reset_index()\n",
    "df_s_23_3_1p_gr.to_parquet('./datasets/sales_gr/df_s_23_3_1p.parquet')"
   ]
  },
  {
   "cell_type": "code",
   "execution_count": 26,
   "metadata": {},
   "outputs": [
    {
     "name": "stderr",
     "output_type": "stream",
     "text": [
      "/var/folders/t5/84slq0fn2gx51rghrcgxpjt80000gn/T/ipykernel_19912/2160959265.py:1: FutureWarning: The frame.append method is deprecated and will be removed from pandas in a future version. Use pandas.concat instead.\n",
      "  df_s_1 = df_s_22_1_1p_gr.append([df_s_22_2_1p_gr, df_s_22_3_1p_gr, df_s_22_4_1p_gr])\n"
     ]
    }
   ],
   "source": [
    "df_s_1 = df_s_22_1_1p_gr.append([df_s_22_2_1p_gr, df_s_22_3_1p_gr, df_s_22_4_1p_gr])"
   ]
  },
  {
   "cell_type": "code",
   "execution_count": 27,
   "metadata": {},
   "outputs": [
    {
     "name": "stderr",
     "output_type": "stream",
     "text": [
      "/var/folders/t5/84slq0fn2gx51rghrcgxpjt80000gn/T/ipykernel_19912/3837966009.py:1: FutureWarning: The frame.append method is deprecated and will be removed from pandas in a future version. Use pandas.concat instead.\n",
      "  df_s_2 = df_s_23_1_1p_gr.append([df_s_23_2_1p_gr, df_s_23_3_1p_gr, df_s_3p_gr])\n"
     ]
    }
   ],
   "source": [
    "df_s_2 = df_s_23_1_1p_gr.append([df_s_23_2_1p_gr, df_s_23_3_1p_gr, df_s_3p_gr])"
   ]
  },
  {
   "cell_type": "code",
   "execution_count": 29,
   "metadata": {},
   "outputs": [
    {
     "name": "stdout",
     "output_type": "stream",
     "text": [
      "59874300\n",
      "59346089\n"
     ]
    }
   ],
   "source": [
    "print(df_s_1.shape[0])\n",
    "print(df_s_2.shape[0])"
   ]
  }
 ],
 "metadata": {
  "kernelspec": {
   "display_name": "cashing-scoring-env",
   "language": "python",
   "name": "python3"
  },
  "language_info": {
   "codemirror_mode": {
    "name": "ipython",
    "version": 3
   },
   "file_extension": ".py",
   "mimetype": "text/x-python",
   "name": "python",
   "nbconvert_exporter": "python",
   "pygments_lexer": "ipython3",
   "version": "3.10.9 (main, Jan 26 2023, 14:03:48) [Clang 14.0.0 (clang-1400.0.29.202)]"
  },
  "orig_nbformat": 4,
  "vscode": {
   "interpreter": {
    "hash": "5932c71fae83f54b051fd5cdef704798997082f1902f53297518df8c2923f49d"
   }
  }
 },
 "nbformat": 4,
 "nbformat_minor": 2
}
