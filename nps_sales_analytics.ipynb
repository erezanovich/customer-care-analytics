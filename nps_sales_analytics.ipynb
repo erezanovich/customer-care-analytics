{
 "cells": [
  {
   "cell_type": "code",
   "execution_count": null,
   "metadata": {},
   "outputs": [
    {
     "name": "stderr",
     "output_type": "stream",
     "text": [
      "/var/folders/t5/84slq0fn2gx51rghrcgxpjt80000gn/T/ipykernel_19912/2875002457.py:15: MatplotlibDeprecationWarning: The seaborn styles shipped by Matplotlib are deprecated since 3.6, as they no longer correspond to the styles shipped by seaborn. However, they will remain available as 'seaborn-v0_8-<style>'. Alternatively, directly use the seaborn API instead.\n",
      "  plt.style.use('seaborn-pastel')\n",
      "/var/folders/t5/84slq0fn2gx51rghrcgxpjt80000gn/T/ipykernel_19912/2875002457.py:16: MatplotlibDeprecationWarning: The seaborn styles shipped by Matplotlib are deprecated since 3.6, as they no longer correspond to the styles shipped by seaborn. However, they will remain available as 'seaborn-v0_8-<style>'. Alternatively, directly use the seaborn API instead.\n",
      "  plt.style.use('seaborn-dark')\n"
     ]
    }
   ],
   "source": [
    "import pandas as pd\n",
    "import numpy as np\n",
    "import matplotlib.pyplot as plt\n",
    "import seaborn as sns\n",
    "import datetime as dt\n",
    "import itertools\n",
    "import re\n",
    "from itertools import product\n",
    "import operator\n",
    "from functools import reduce\n",
    "import polars as pl\n",
    "#from pandas import option_context\n",
    "#%pip install openpyxl\n",
    "%config InlineBackend.figure_format = 'retina'\n",
    "plt.style.use('seaborn-pastel')\n",
    "plt.style.use('seaborn-dark')"
   ]
  },
  {
   "cell_type": "code",
   "execution_count": 1,
   "metadata": {},
   "outputs": [],
   "source": [
    "import matplotlib\n",
    "from matplotlib.colors import ListedColormap\n",
    "from matplotlib.colors import LinearSegmentedColormap\n",
    "matplotlib.style.use('dark_background')\n",
    "color_list = ['white','skyblue','pink', 'tomato', 'slateblue', 'wheat', 'lightgrey', 'limegreen', 'royalblue', 'yellowgreen', 'lightseagreen', 'orchid', 'orange']\n",
    "cmap = LinearSegmentedColormap.from_list(\"\",color_list)"
   ]
  },
  {
   "cell_type": "code",
   "execution_count": 2,
   "metadata": {},
   "outputs": [],
   "source": [
    "# Import all the google connexion packages\n",
    "import os\n",
    "import google.auth\n",
    "from google.cloud import bigquery\n",
    "from google.auth import impersonated_credentials\n",
    "\n",
    "os.environ['GOOGLE_APPLICATION_CREDENTIALS'] = \"/Users/a20015173/.config/gcloud/legacy_credentials/ekaterina.rezanovich@adeo.com/adc.json\"\n",
    "client_1 = bigquery.Client(project = 'ccdp-transverse-data-dev')"
   ]
  },
  {
   "cell_type": "code",
   "execution_count": 3,
   "metadata": {},
   "outputs": [],
   "source": [
    "# 22_2_1P\n",
    "df_s_22_1_1p = pd.read_parquet('./datasets/sales_2022_1_1P.parquet')"
   ]
  },
  {
   "cell_type": "code",
   "execution_count": 4,
   "metadata": {},
   "outputs": [],
   "source": [
    "df_s_22_1_1p['amount_to'] = df_s_22_1_1p['amount_to'].astype('float').round(2)\n",
    "df_s_22_1_1p['qty'] = df_s_22_1_1p['qty'].astype('int').round(2)"
   ]
  },
  {
   "cell_type": "code",
   "execution_count": 5,
   "metadata": {},
   "outputs": [
    {
     "data": {
      "text/html": [
       "<div>\n",
       "<style scoped>\n",
       "    .dataframe tbody tr th:only-of-type {\n",
       "        vertical-align: middle;\n",
       "    }\n",
       "\n",
       "    .dataframe tbody tr th {\n",
       "        vertical-align: top;\n",
       "    }\n",
       "\n",
       "    .dataframe thead th {\n",
       "        text-align: right;\n",
       "    }\n",
       "</style>\n",
       "<table border=\"1\" class=\"dataframe\">\n",
       "  <thead>\n",
       "    <tr style=\"text-align: right;\">\n",
       "      <th></th>\n",
       "      <th>store_id</th>\n",
       "      <th>cart_date</th>\n",
       "      <th>item_id</th>\n",
       "      <th>cart_id</th>\n",
       "      <th>nb_checkouts</th>\n",
       "      <th>sale_channel_id</th>\n",
       "      <th>delivery_channel_id</th>\n",
       "      <th>amount_to</th>\n",
       "      <th>qty</th>\n",
       "      <th>top_l_c</th>\n",
       "      <th>user_id</th>\n",
       "      <th>gmv_type</th>\n",
       "      <th>sales_channel</th>\n",
       "      <th>delivery_channel</th>\n",
       "    </tr>\n",
       "  </thead>\n",
       "  <tbody>\n",
       "    <tr>\n",
       "      <th>0</th>\n",
       "      <td>158</td>\n",
       "      <td>2022-01-11</td>\n",
       "      <td>84338558</td>\n",
       "      <td>158#7#3648#2022-01-11</td>\n",
       "      <td>1</td>\n",
       "      <td>1</td>\n",
       "      <td>1</td>\n",
       "      <td>13.77</td>\n",
       "      <td>3</td>\n",
       "      <td>1</td>\n",
       "      <td>77370668</td>\n",
       "      <td>1P</td>\n",
       "      <td>Store</td>\n",
       "      <td>Pickup</td>\n",
       "    </tr>\n",
       "    <tr>\n",
       "      <th>1</th>\n",
       "      <td>173</td>\n",
       "      <td>2022-01-11</td>\n",
       "      <td>82272860</td>\n",
       "      <td>173#3#7304#2022-01-11</td>\n",
       "      <td>1</td>\n",
       "      <td>1</td>\n",
       "      <td>0</td>\n",
       "      <td>109.89</td>\n",
       "      <td>1</td>\n",
       "      <td>1</td>\n",
       "      <td>16325071</td>\n",
       "      <td>1P</td>\n",
       "      <td>Store</td>\n",
       "      <td>Self-service</td>\n",
       "    </tr>\n",
       "  </tbody>\n",
       "</table>\n",
       "</div>"
      ],
      "text/plain": [
       "   store_id   cart_date   item_id                cart_id  nb_checkouts  \\\n",
       "0       158  2022-01-11  84338558  158#7#3648#2022-01-11             1   \n",
       "1       173  2022-01-11  82272860  173#3#7304#2022-01-11             1   \n",
       "\n",
       "   sale_channel_id  delivery_channel_id  amount_to  qty  top_l_c   user_id  \\\n",
       "0                1                    1      13.77    3        1  77370668   \n",
       "1                1                    0     109.89    1        1  16325071   \n",
       "\n",
       "  gmv_type sales_channel delivery_channel  \n",
       "0       1P         Store           Pickup  \n",
       "1       1P         Store     Self-service  "
      ]
     },
     "execution_count": 5,
     "metadata": {},
     "output_type": "execute_result"
    }
   ],
   "source": [
    "df_s_22_1_1p.head(2)"
   ]
  },
  {
   "cell_type": "code",
   "execution_count": 6,
   "metadata": {},
   "outputs": [],
   "source": [
    "df_s_22_1_1p_gr = df_s_22_1_1p.groupby(['store_id', 'cart_date', 'cart_id', 'user_id',\\\n",
    "                                         'top_l_c', 'sales_channel', 'delivery_channel'])\\\n",
    "                                         [['amount_to', 'qty']].sum().reset_index()"
   ]
  },
  {
   "cell_type": "code",
   "execution_count": 7,
   "metadata": {},
   "outputs": [
    {
     "data": {
      "text/html": [
       "<div>\n",
       "<style scoped>\n",
       "    .dataframe tbody tr th:only-of-type {\n",
       "        vertical-align: middle;\n",
       "    }\n",
       "\n",
       "    .dataframe tbody tr th {\n",
       "        vertical-align: top;\n",
       "    }\n",
       "\n",
       "    .dataframe thead th {\n",
       "        text-align: right;\n",
       "    }\n",
       "</style>\n",
       "<table border=\"1\" class=\"dataframe\">\n",
       "  <thead>\n",
       "    <tr style=\"text-align: right;\">\n",
       "      <th></th>\n",
       "      <th>store_id</th>\n",
       "      <th>cart_date</th>\n",
       "      <th>cart_id</th>\n",
       "      <th>user_id</th>\n",
       "      <th>top_l_c</th>\n",
       "      <th>sales_channel</th>\n",
       "      <th>delivery_channel</th>\n",
       "      <th>amount_to</th>\n",
       "      <th>qty</th>\n",
       "    </tr>\n",
       "  </thead>\n",
       "  <tbody>\n",
       "    <tr>\n",
       "      <th>0</th>\n",
       "      <td>3</td>\n",
       "      <td>2022-01-02</td>\n",
       "      <td>3#13#1880#2022-01-02</td>\n",
       "      <td>16511808</td>\n",
       "      <td>1</td>\n",
       "      <td>Website</td>\n",
       "      <td>Pickup</td>\n",
       "      <td>493.7</td>\n",
       "      <td>5</td>\n",
       "    </tr>\n",
       "    <tr>\n",
       "      <th>1</th>\n",
       "      <td>3</td>\n",
       "      <td>2022-01-02</td>\n",
       "      <td>3#13#1881#2022-01-02</td>\n",
       "      <td>52445590</td>\n",
       "      <td>0</td>\n",
       "      <td>Website</td>\n",
       "      <td>Pickup</td>\n",
       "      <td>78.4</td>\n",
       "      <td>1</td>\n",
       "    </tr>\n",
       "  </tbody>\n",
       "</table>\n",
       "</div>"
      ],
      "text/plain": [
       "   store_id   cart_date               cart_id   user_id  top_l_c  \\\n",
       "0         3  2022-01-02  3#13#1880#2022-01-02  16511808        1   \n",
       "1         3  2022-01-02  3#13#1881#2022-01-02  52445590        0   \n",
       "\n",
       "  sales_channel delivery_channel  amount_to  qty  \n",
       "0       Website           Pickup      493.7    5  \n",
       "1       Website           Pickup       78.4    1  "
      ]
     },
     "execution_count": 7,
     "metadata": {},
     "output_type": "execute_result"
    }
   ],
   "source": [
    "df_s_22_1_1p_gr.head(2)"
   ]
  },
  {
   "cell_type": "code",
   "execution_count": 9,
   "metadata": {},
   "outputs": [],
   "source": [
    "df_s_22_1_1p_gr.to_parquet('./datasets/sales_gr/df_s_22_1_1p.parquet')"
   ]
  },
  {
   "cell_type": "code",
   "execution_count": 8,
   "metadata": {},
   "outputs": [],
   "source": [
    "# 22_2_1P\n",
    "df_s_22_2_1p = pd.read_parquet('./datasets/sales_2022_2_1P.parquet')\n",
    "df_s_22_2_1p['amount_to'] = df_s_22_2_1p['amount_to'].astype('float').round(2)\n",
    "df_s_22_2_1p['qty'] = df_s_22_2_1p['qty'].astype('int').round(2)"
   ]
  },
  {
   "cell_type": "code",
   "execution_count": 10,
   "metadata": {},
   "outputs": [],
   "source": [
    "df_s_22_2_1p_gr = df_s_22_2_1p.groupby(['store_id', 'cart_date', 'cart_id', 'user_id',\\\n",
    "                                         'top_l_c', 'sales_channel', 'delivery_channel'])\\\n",
    "                                         [['amount_to', 'qty']].sum().reset_index()\n",
    "df_s_22_2_1p_gr.to_parquet('./datasets/sales_gr/df_s_22_2_1p.parquet')"
   ]
  },
  {
   "cell_type": "code",
   "execution_count": 11,
   "metadata": {},
   "outputs": [],
   "source": [
    "# 22_3_1P\n",
    "df_s_22_3_1p = pd.read_parquet('./datasets/sales_2022_3_1P.parquet')\n",
    "df_s_22_3_1p['amount_to'] = df_s_22_3_1p['amount_to'].astype('float').round(2)\n",
    "df_s_22_3_1p['qty'] = df_s_22_3_1p['qty'].astype('int').round(2)"
   ]
  },
  {
   "cell_type": "code",
   "execution_count": 12,
   "metadata": {},
   "outputs": [],
   "source": [
    "df_s_22_3_1p_gr = df_s_22_3_1p.groupby(['store_id', 'cart_date', 'cart_id', 'user_id',\\\n",
    "                                         'top_l_c', 'sales_channel', 'delivery_channel'])\\\n",
    "                                         [['amount_to', 'qty']].sum().reset_index()\n",
    "df_s_22_3_1p_gr.to_parquet('./datasets/sales_gr/df_s_22_3_1p.parquet')"
   ]
  },
  {
   "cell_type": "code",
   "execution_count": 13,
   "metadata": {},
   "outputs": [],
   "source": [
    "# 22_4_1P\n",
    "df_s_22_4_1p = pd.read_parquet('./datasets/sales_2022_3_1P.parquet')\n",
    "df_s_22_4_1p['amount_to'] = df_s_22_4_1p['amount_to'].astype('float').round(2)\n",
    "df_s_22_4_1p['qty'] = df_s_22_4_1p['qty'].astype('int').round(2)"
   ]
  },
  {
   "cell_type": "code",
   "execution_count": 14,
   "metadata": {},
   "outputs": [],
   "source": [
    "df_s_22_4_1p_gr = df_s_22_4_1p.groupby(['store_id', 'cart_date', 'cart_id', 'user_id',\\\n",
    "                                         'top_l_c', 'sales_channel', 'delivery_channel'])\\\n",
    "                                         [['amount_to', 'qty']].sum().reset_index()\n",
    "df_s_22_4_1p_gr.to_parquet('./datasets/sales_gr/df_s_22_4_1p.parquet')"
   ]
  },
  {
   "cell_type": "code",
   "execution_count": 15,
   "metadata": {},
   "outputs": [],
   "source": [
    "# 22_23_3P\n",
    "df_s_3p = pd.read_parquet('./datasets/sales_2022_2023_3P.parquet')\n",
    "df_s_3p['amount_to'] = df_s_3p['amount_to'].astype('float').round(2)\n",
    "df_s_3p['qty'] = df_s_3p['qty'].astype('int').round(2)"
   ]
  },
  {
   "cell_type": "code",
   "execution_count": 16,
   "metadata": {},
   "outputs": [],
   "source": [
    "df_s_3p_gr = df_s_3p.groupby(['store_id', 'cart_date', 'cart_id', 'user_id',\\\n",
    "                                         'top_l_c', 'sales_channel', 'delivery_channel'])\\\n",
    "                                         [['amount_to', 'qty']].sum().reset_index()"
   ]
  },
  {
   "cell_type": "code",
   "execution_count": 17,
   "metadata": {},
   "outputs": [],
   "source": [
    "df_s_3p_gr.to_parquet('./datasets/sales_gr/df_s_3p.parquet')"
   ]
  },
  {
   "cell_type": "code",
   "execution_count": 18,
   "metadata": {},
   "outputs": [],
   "source": [
    "# 23_1_1P\n",
    "df_s_23_1_1p = pd.read_parquet('./datasets/sales_2023_1_1P.parquet')\n",
    "df_s_23_1_1p['amount_to'] = df_s_23_1_1p['amount_to'].astype('float').round(2)\n",
    "df_s_23_1_1p['qty'] = df_s_23_1_1p['qty'].astype('int').round(2)"
   ]
  },
  {
   "cell_type": "code",
   "execution_count": 19,
   "metadata": {},
   "outputs": [],
   "source": [
    "df_s_23_1_1p_gr = df_s_23_1_1p.groupby(['store_id', 'cart_date', 'cart_id', 'user_id',\\\n",
    "                                         'top_l_c', 'sales_channel', 'delivery_channel'])\\\n",
    "                                         [['amount_to', 'qty']].sum().reset_index()\n",
    "df_s_23_1_1p_gr.to_parquet('./datasets/sales_gr/df_s_23_1_1p.parquet')"
   ]
  },
  {
   "cell_type": "code",
   "execution_count": 20,
   "metadata": {},
   "outputs": [],
   "source": [
    "# 23_2_1P\n",
    "df_s_23_2_1p = pd.read_parquet('./datasets/sales_2023_2_1P.parquet')\n",
    "df_s_23_2_1p['amount_to'] = df_s_23_2_1p['amount_to'].astype('float').round(2)\n",
    "df_s_23_2_1p['qty'] = df_s_23_2_1p['qty'].astype('int').round(2)"
   ]
  },
  {
   "cell_type": "code",
   "execution_count": 21,
   "metadata": {},
   "outputs": [],
   "source": [
    "df_s_23_2_1p_gr = df_s_23_2_1p.groupby(['store_id', 'cart_date', 'cart_id', 'user_id',\\\n",
    "                                         'top_l_c', 'sales_channel', 'delivery_channel'])\\\n",
    "                                         [['amount_to', 'qty']].sum().reset_index()\n",
    "df_s_23_2_1p_gr.to_parquet('./datasets/sales_gr/df_s_23_2_1p.parquet')"
   ]
  },
  {
   "cell_type": "code",
   "execution_count": 22,
   "metadata": {},
   "outputs": [],
   "source": [
    "# 23_3_1P\n",
    "df_s_23_3_1p = pd.read_parquet('./datasets/sales_2023_3_1P.parquet')\n",
    "df_s_23_3_1p['amount_to'] = df_s_23_3_1p['amount_to'].astype('float').round(2)\n",
    "df_s_23_3_1p['qty'] = df_s_23_3_1p['qty'].astype('int').round(2)"
   ]
  },
  {
   "cell_type": "code",
   "execution_count": 23,
   "metadata": {},
   "outputs": [],
   "source": [
    "df_s_23_3_1p_gr = df_s_23_3_1p.groupby(['store_id', 'cart_date', 'cart_id', 'user_id',\\\n",
    "                                         'top_l_c', 'sales_channel', 'delivery_channel'])\\\n",
    "                                         [['amount_to', 'qty']].sum().reset_index()\n",
    "df_s_23_3_1p_gr.to_parquet('./datasets/sales_gr/df_s_23_3_1p.parquet')"
   ]
  },
  {
   "cell_type": "code",
   "execution_count": 26,
   "metadata": {},
   "outputs": [
    {
     "name": "stderr",
     "output_type": "stream",
     "text": [
      "/var/folders/t5/84slq0fn2gx51rghrcgxpjt80000gn/T/ipykernel_19912/2160959265.py:1: FutureWarning: The frame.append method is deprecated and will be removed from pandas in a future version. Use pandas.concat instead.\n",
      "  df_s_1 = df_s_22_1_1p_gr.append([df_s_22_2_1p_gr, df_s_22_3_1p_gr, df_s_22_4_1p_gr])\n"
     ]
    }
   ],
   "source": [
    "df_s_1 = df_s_22_1_1p_gr.append([df_s_22_2_1p_gr, df_s_22_3_1p_gr, df_s_22_4_1p_gr])"
   ]
  },
  {
   "cell_type": "code",
   "execution_count": 27,
   "metadata": {},
   "outputs": [
    {
     "name": "stderr",
     "output_type": "stream",
     "text": [
      "/var/folders/t5/84slq0fn2gx51rghrcgxpjt80000gn/T/ipykernel_19912/3837966009.py:1: FutureWarning: The frame.append method is deprecated and will be removed from pandas in a future version. Use pandas.concat instead.\n",
      "  df_s_2 = df_s_23_1_1p_gr.append([df_s_23_2_1p_gr, df_s_23_3_1p_gr, df_s_3p_gr])\n"
     ]
    }
   ],
   "source": [
    "df_s_2 = df_s_23_1_1p_gr.append([df_s_23_2_1p_gr, df_s_23_3_1p_gr, df_s_3p_gr])"
   ]
  },
  {
   "cell_type": "code",
   "execution_count": 29,
   "metadata": {},
   "outputs": [
    {
     "name": "stdout",
     "output_type": "stream",
     "text": [
      "59874300\n",
      "59346089\n"
     ]
    }
   ],
   "source": [
    "print(df_s_1.shape[0])\n",
    "print(df_s_2.shape[0])"
   ]
  },
  {
   "cell_type": "code",
   "execution_count": 30,
   "metadata": {},
   "outputs": [
    {
     "name": "stderr",
     "output_type": "stream",
     "text": [
      "/var/folders/t5/84slq0fn2gx51rghrcgxpjt80000gn/T/ipykernel_19912/716206102.py:1: FutureWarning: The frame.append method is deprecated and will be removed from pandas in a future version. Use pandas.concat instead.\n",
      "  df_s = df_s_1.append(df_s_2)\n"
     ]
    }
   ],
   "source": [
    "df_s = df_s_1.append(df_s_2)"
   ]
  },
  {
   "attachments": {},
   "cell_type": "markdown",
   "metadata": {},
   "source": [
    "NPS DATA"
   ]
  },
  {
   "cell_type": "code",
   "execution_count": 34,
   "metadata": {},
   "outputs": [],
   "source": [
    "# questions data\n",
    "filepath_1 = \"./datasets/questions.parquet\"\n",
    "if not os.path.isfile(filepath_1):\n",
    "\n",
    "    query = \"\"\"\n",
    "    select t1.survey_id, t1.name , t2.question_id, t2.name, t2.content\n",
    "    from `dfdp-customer-exp-mt-prod.customer_experience_measure_bu001.client_experience_survey` as t1\n",
    "    left join `dfdp-customer-exp-mt-prod.customer_experience_measure_bu001.client_experience_question` as t2 on t2.survey_id = t1.survey_id\n",
    "    where t2.question_id in ('SV_81jKyfOtepO6Weq__QID1_NPS_GROUP', 'SV_4OUB8z9FwEgBiU6__QID1_NPS_GROUP', 'SV_5nFeSHRTsx1yxWC__QID1_NPS_GROUP', 'SV_77FLHcnyIyMM07Q__QID1_NPS_GROUP', 'SV_bj9J6UgbM2yIATQ__QID13_NPS_GROUP',\n",
    "    'SV_2fA21joHLvPEZoi__QID1_NPS_GROUP', 'SV_5nVqXD824PZXj14__QID1_NPS_GROUP')\"\"\"\n",
    "\n",
    "    dl_data = pd.read_gbq(query=query, project_id=\"ccdp-transverse-data-dev\")\n",
    "    dl_data.to_parquet(filepath_1)\n",
    "\n",
    "df_q = pd.read_parquet(filepath_1)"
   ]
  },
  {
   "cell_type": "code",
   "execution_count": 35,
   "metadata": {},
   "outputs": [
    {
     "ename": "",
     "evalue": "",
     "output_type": "error",
     "traceback": [
      "\u001b[1;31mThe Kernel crashed while executing code in the the current cell or a previous cell. Please review the code in the cell(s) to identify a possible cause of the failure. Click <a href='https://aka.ms/vscodeJupyterKernelCrash'>here</a> for more info. View Jupyter <a href='command:jupyter.viewOutput'>log</a> for further details."
     ]
    },
    {
     "ename": "",
     "evalue": "",
     "output_type": "error",
     "traceback": [
      "\u001b[1;31mCanceled future for execute_request message before replies were done"
     ]
    }
   ],
   "source": [
    "# answers data\n",
    "filepath_2 = \"./datasets/answers.parquet\"\n",
    "if not os.path.isfile(filepath_2):\n",
    "\n",
    "    query = \"\"\"\n",
    "select t3.answer_id, t3.feedback_id, t3.question_id, t3.score, t3.score_category, t3.comment,\n",
    "t4.touchpoint_id, t4.store_code, t4.user_id, t4.user_id_type, cast(t4.date as date) as answer_date\n",
    "from `dfdp-customer-exp-mt-prod.customer_experience_measure_bu001.client_experience_answer` as t3\n",
    "left join `dfdp-customer-exp-mt-prod.customer_experience_measure_bu001.client_experience_feedback` as t4 on t4.feedback_id = t3.feedback_id\n",
    "where t3.question_id in ('SV_81jKyfOtepO6Weq__QID1_NPS_GROUP', 'SV_4OUB8z9FwEgBiU6__QID1_NPS_GROUP', 'SV_5nFeSHRTsx1yxWC__QID1_NPS_GROUP', 'SV_77FLHcnyIyMM07Q__QID1_NPS_GROUP', 'SV_bj9J6UgbM2yIATQ__QID13_NPS_GROUP',\n",
    "'SV_2fA21joHLvPEZoi__QID1_NPS_GROUP', 'SV_5nVqXD824PZXj14__QID1_NPS_GROUP')\n",
    "    \"\"\"\n",
    "\n",
    "    dl_data = pd.read_gbq(query=query, project_id=\"ccdp-transverse-data-dev\")\n",
    "    dl_data.to_parquet(filepath_2)\n",
    "\n",
    "df_a = pd.read_parquet(filepath_2)"
   ]
  },
  {
   "cell_type": "code",
   "execution_count": null,
   "metadata": {},
   "outputs": [],
   "source": [
    "df_nps_all = df_a.merge(df_q, left_on = 'question_id', right_on = 'question_id', how='left')"
   ]
  },
  {
   "cell_type": "code",
   "execution_count": null,
   "metadata": {},
   "outputs": [],
   "source": [
    "del df_nps_all['name_1'], df_nps_all['user_id_type'],  df_nps_all['content']"
   ]
  },
  {
   "cell_type": "code",
   "execution_count": null,
   "metadata": {},
   "outputs": [],
   "source": [
    "# filter only nps with user_id\n",
    "df_nps = df_nps_all[df_nps_all['user_id'].notna()]"
   ]
  },
  {
   "cell_type": "code",
   "execution_count": null,
   "metadata": {},
   "outputs": [
    {
     "data": {
      "text/html": [
       "<div>\n",
       "<style scoped>\n",
       "    .dataframe tbody tr th:only-of-type {\n",
       "        vertical-align: middle;\n",
       "    }\n",
       "\n",
       "    .dataframe tbody tr th {\n",
       "        vertical-align: top;\n",
       "    }\n",
       "\n",
       "    .dataframe thead th {\n",
       "        text-align: right;\n",
       "    }\n",
       "</style>\n",
       "<table border=\"1\" class=\"dataframe\">\n",
       "  <thead>\n",
       "    <tr style=\"text-align: right;\">\n",
       "      <th></th>\n",
       "      <th>user_id</th>\n",
       "      <th>min</th>\n",
       "      <th>max</th>\n",
       "    </tr>\n",
       "  </thead>\n",
       "  <tbody>\n",
       "    <tr>\n",
       "      <th>0</th>\n",
       "      <td>1000000</td>\n",
       "      <td>2023-03-15</td>\n",
       "      <td>2023-06-18</td>\n",
       "    </tr>\n",
       "    <tr>\n",
       "      <th>1</th>\n",
       "      <td>10000024</td>\n",
       "      <td>2022-04-09</td>\n",
       "      <td>2022-04-09</td>\n",
       "    </tr>\n",
       "    <tr>\n",
       "      <th>2</th>\n",
       "      <td>1000004</td>\n",
       "      <td>2022-11-13</td>\n",
       "      <td>2022-11-13</td>\n",
       "    </tr>\n",
       "    <tr>\n",
       "      <th>3</th>\n",
       "      <td>1000011</td>\n",
       "      <td>2022-07-11</td>\n",
       "      <td>2023-03-10</td>\n",
       "    </tr>\n",
       "    <tr>\n",
       "      <th>4</th>\n",
       "      <td>10000188</td>\n",
       "      <td>2023-05-30</td>\n",
       "      <td>2023-05-30</td>\n",
       "    </tr>\n",
       "  </tbody>\n",
       "</table>\n",
       "</div>"
      ],
      "text/plain": [
       "    user_id         min         max\n",
       "0   1000000  2023-03-15  2023-06-18\n",
       "1  10000024  2022-04-09  2022-04-09\n",
       "2   1000004  2022-11-13  2022-11-13\n",
       "3   1000011  2022-07-11  2023-03-10\n",
       "4  10000188  2023-05-30  2023-05-30"
      ]
     },
     "metadata": {},
     "output_type": "display_data"
    }
   ],
   "source": [
    "# first and last TP of the customer\n",
    "df_nps_dates = df_nps.groupby('user_id')['answer_date'].agg(['min', 'max']).reset_index()\n",
    "df_nps_dates.columns = ['uid', 'first_nps_date', 'last_nps_date']"
   ]
  },
  {
   "cell_type": "code",
   "execution_count": null,
   "metadata": {},
   "outputs": [
    {
     "data": {
      "text/html": [
       "<div>\n",
       "<style scoped>\n",
       "    .dataframe tbody tr th:only-of-type {\n",
       "        vertical-align: middle;\n",
       "    }\n",
       "\n",
       "    .dataframe tbody tr th {\n",
       "        vertical-align: top;\n",
       "    }\n",
       "\n",
       "    .dataframe thead th {\n",
       "        text-align: right;\n",
       "    }\n",
       "</style>\n",
       "<table border=\"1\" class=\"dataframe\">\n",
       "  <thead>\n",
       "    <tr style=\"text-align: right;\">\n",
       "      <th></th>\n",
       "      <th>answer_id</th>\n",
       "      <th>feedback_id</th>\n",
       "      <th>question_id</th>\n",
       "      <th>score</th>\n",
       "      <th>score_category</th>\n",
       "      <th>comment</th>\n",
       "      <th>touchpoint_id</th>\n",
       "      <th>store_code</th>\n",
       "      <th>user_id</th>\n",
       "      <th>answer_date</th>\n",
       "      <th>survey_id</th>\n",
       "      <th>name</th>\n",
       "      <th>uid</th>\n",
       "      <th>first_nps_date</th>\n",
       "      <th>last_nps_date</th>\n",
       "    </tr>\n",
       "  </thead>\n",
       "  <tbody>\n",
       "    <tr>\n",
       "      <th>0</th>\n",
       "      <td>R_111w3BVzUYwknmY__QID1_NPS_GROUP</td>\n",
       "      <td>R_111w3BVzUYwknmY</td>\n",
       "      <td>SV_81jKyfOtepO6Weq__QID1_NPS_GROUP</td>\n",
       "      <td>8</td>\n",
       "      <td>Passif</td>\n",
       "      <td>Bonjour, \\nJe suis entièrement satisfait de ...</td>\n",
       "      <td>SV_81jKyfOtepO6Weq</td>\n",
       "      <td>&lt;NA&gt;</td>\n",
       "      <td>10217876</td>\n",
       "      <td>2023-08-20</td>\n",
       "      <td>SV_81jKyfOtepO6Weq</td>\n",
       "      <td>LMFR - Client SAV - PROD</td>\n",
       "      <td>10217876</td>\n",
       "      <td>2022-04-09</td>\n",
       "      <td>2023-08-20</td>\n",
       "    </tr>\n",
       "    <tr>\n",
       "      <th>1</th>\n",
       "      <td>R_3htf0IgZ0ecDb8u__QID1_NPS_GROUP</td>\n",
       "      <td>R_3htf0IgZ0ecDb8u</td>\n",
       "      <td>SV_81jKyfOtepO6Weq__QID1_NPS_GROUP</td>\n",
       "      <td>10</td>\n",
       "      <td>Promoteur</td>\n",
       "      <td>None</td>\n",
       "      <td>SV_81jKyfOtepO6Weq</td>\n",
       "      <td>&lt;NA&gt;</td>\n",
       "      <td>54974624</td>\n",
       "      <td>2023-08-16</td>\n",
       "      <td>SV_81jKyfOtepO6Weq</td>\n",
       "      <td>LMFR - Client SAV - PROD</td>\n",
       "      <td>54974624</td>\n",
       "      <td>2023-08-16</td>\n",
       "      <td>2023-08-16</td>\n",
       "    </tr>\n",
       "  </tbody>\n",
       "</table>\n",
       "</div>"
      ],
      "text/plain": [
       "                           answer_id        feedback_id  \\\n",
       "0  R_111w3BVzUYwknmY__QID1_NPS_GROUP  R_111w3BVzUYwknmY   \n",
       "1  R_3htf0IgZ0ecDb8u__QID1_NPS_GROUP  R_3htf0IgZ0ecDb8u   \n",
       "\n",
       "                          question_id  score score_category  \\\n",
       "0  SV_81jKyfOtepO6Weq__QID1_NPS_GROUP      8         Passif   \n",
       "1  SV_81jKyfOtepO6Weq__QID1_NPS_GROUP     10      Promoteur   \n",
       "\n",
       "                                             comment       touchpoint_id  \\\n",
       "0    Bonjour, \\nJe suis entièrement satisfait de ...  SV_81jKyfOtepO6Weq   \n",
       "1                                               None  SV_81jKyfOtepO6Weq   \n",
       "\n",
       "   store_code   user_id answer_date           survey_id  \\\n",
       "0        <NA>  10217876  2023-08-20  SV_81jKyfOtepO6Weq   \n",
       "1        <NA>  54974624  2023-08-16  SV_81jKyfOtepO6Weq   \n",
       "\n",
       "                       name       uid first_nps_date last_nps_date  \n",
       "0  LMFR - Client SAV - PROD  10217876     2022-04-09    2023-08-20  \n",
       "1  LMFR - Client SAV - PROD  54974624     2023-08-16    2023-08-16  "
      ]
     },
     "metadata": {},
     "output_type": "display_data"
    }
   ],
   "source": [
    "df_nps_1 = df_nps.merge(df_nps_dates, left_on='user_id', right_on='uid', how='left')\n",
    "del df_nps_1['uid']"
   ]
  },
  {
   "cell_type": "code",
   "execution_count": null,
   "metadata": {},
   "outputs": [
    {
     "data": {
      "text/html": [
       "<div>\n",
       "<style scoped>\n",
       "    .dataframe tbody tr th:only-of-type {\n",
       "        vertical-align: middle;\n",
       "    }\n",
       "\n",
       "    .dataframe tbody tr th {\n",
       "        vertical-align: top;\n",
       "    }\n",
       "\n",
       "    .dataframe thead th {\n",
       "        text-align: right;\n",
       "    }\n",
       "</style>\n",
       "<table border=\"1\" class=\"dataframe\">\n",
       "  <thead>\n",
       "    <tr style=\"text-align: right;\">\n",
       "      <th></th>\n",
       "      <th>uid</th>\n",
       "      <th>nb_fb</th>\n",
       "    </tr>\n",
       "  </thead>\n",
       "  <tbody>\n",
       "    <tr>\n",
       "      <th>0</th>\n",
       "      <td>1000000</td>\n",
       "      <td>2</td>\n",
       "    </tr>\n",
       "    <tr>\n",
       "      <th>1</th>\n",
       "      <td>10000024</td>\n",
       "      <td>1</td>\n",
       "    </tr>\n",
       "    <tr>\n",
       "      <th>2</th>\n",
       "      <td>1000004</td>\n",
       "      <td>1</td>\n",
       "    </tr>\n",
       "    <tr>\n",
       "      <th>3</th>\n",
       "      <td>1000011</td>\n",
       "      <td>2</td>\n",
       "    </tr>\n",
       "    <tr>\n",
       "      <th>4</th>\n",
       "      <td>10000188</td>\n",
       "      <td>1</td>\n",
       "    </tr>\n",
       "  </tbody>\n",
       "</table>\n",
       "</div>"
      ],
      "text/plain": [
       "        uid  nb_fb\n",
       "0   1000000      2\n",
       "1  10000024      1\n",
       "2   1000004      1\n",
       "3   1000011      2\n",
       "4  10000188      1"
      ]
     },
     "metadata": {},
     "output_type": "display_data"
    }
   ],
   "source": [
    "# nb FB of the customer\n",
    "df_nps_nb_fb = df_nps.groupby('user_id')['feedback_id'].nunique().reset_index()\n",
    "df_nps_nb_fb.columns = ['uid', 'nb_fb']"
   ]
  },
  {
   "cell_type": "code",
   "execution_count": null,
   "metadata": {},
   "outputs": [
    {
     "data": {
      "text/html": [
       "<div>\n",
       "<style scoped>\n",
       "    .dataframe tbody tr th:only-of-type {\n",
       "        vertical-align: middle;\n",
       "    }\n",
       "\n",
       "    .dataframe tbody tr th {\n",
       "        vertical-align: top;\n",
       "    }\n",
       "\n",
       "    .dataframe thead th {\n",
       "        text-align: right;\n",
       "    }\n",
       "</style>\n",
       "<table border=\"1\" class=\"dataframe\">\n",
       "  <thead>\n",
       "    <tr style=\"text-align: right;\">\n",
       "      <th></th>\n",
       "      <th>answer_id</th>\n",
       "      <th>feedback_id</th>\n",
       "      <th>question_id</th>\n",
       "      <th>score</th>\n",
       "      <th>score_category</th>\n",
       "      <th>comment</th>\n",
       "      <th>touchpoint_id</th>\n",
       "      <th>store_code</th>\n",
       "      <th>user_id</th>\n",
       "      <th>answer_date</th>\n",
       "      <th>survey_id</th>\n",
       "      <th>name</th>\n",
       "      <th>first_nps_date</th>\n",
       "      <th>last_nps_date</th>\n",
       "      <th>nb_fb</th>\n",
       "    </tr>\n",
       "  </thead>\n",
       "  <tbody>\n",
       "    <tr>\n",
       "      <th>0</th>\n",
       "      <td>R_111w3BVzUYwknmY__QID1_NPS_GROUP</td>\n",
       "      <td>R_111w3BVzUYwknmY</td>\n",
       "      <td>SV_81jKyfOtepO6Weq__QID1_NPS_GROUP</td>\n",
       "      <td>8</td>\n",
       "      <td>Passif</td>\n",
       "      <td>Bonjour, \\nJe suis entièrement satisfait de ...</td>\n",
       "      <td>SV_81jKyfOtepO6Weq</td>\n",
       "      <td>&lt;NA&gt;</td>\n",
       "      <td>10217876</td>\n",
       "      <td>2023-08-20</td>\n",
       "      <td>SV_81jKyfOtepO6Weq</td>\n",
       "      <td>LMFR - Client SAV - PROD</td>\n",
       "      <td>2022-04-09</td>\n",
       "      <td>2023-08-20</td>\n",
       "      <td>14</td>\n",
       "    </tr>\n",
       "    <tr>\n",
       "      <th>1</th>\n",
       "      <td>R_3htf0IgZ0ecDb8u__QID1_NPS_GROUP</td>\n",
       "      <td>R_3htf0IgZ0ecDb8u</td>\n",
       "      <td>SV_81jKyfOtepO6Weq__QID1_NPS_GROUP</td>\n",
       "      <td>10</td>\n",
       "      <td>Promoteur</td>\n",
       "      <td>None</td>\n",
       "      <td>SV_81jKyfOtepO6Weq</td>\n",
       "      <td>&lt;NA&gt;</td>\n",
       "      <td>54974624</td>\n",
       "      <td>2023-08-16</td>\n",
       "      <td>SV_81jKyfOtepO6Weq</td>\n",
       "      <td>LMFR - Client SAV - PROD</td>\n",
       "      <td>2023-08-16</td>\n",
       "      <td>2023-08-16</td>\n",
       "      <td>1</td>\n",
       "    </tr>\n",
       "  </tbody>\n",
       "</table>\n",
       "</div>"
      ],
      "text/plain": [
       "                           answer_id        feedback_id  \\\n",
       "0  R_111w3BVzUYwknmY__QID1_NPS_GROUP  R_111w3BVzUYwknmY   \n",
       "1  R_3htf0IgZ0ecDb8u__QID1_NPS_GROUP  R_3htf0IgZ0ecDb8u   \n",
       "\n",
       "                          question_id  score score_category  \\\n",
       "0  SV_81jKyfOtepO6Weq__QID1_NPS_GROUP      8         Passif   \n",
       "1  SV_81jKyfOtepO6Weq__QID1_NPS_GROUP     10      Promoteur   \n",
       "\n",
       "                                             comment       touchpoint_id  \\\n",
       "0    Bonjour, \\nJe suis entièrement satisfait de ...  SV_81jKyfOtepO6Weq   \n",
       "1                                               None  SV_81jKyfOtepO6Weq   \n",
       "\n",
       "   store_code   user_id answer_date           survey_id  \\\n",
       "0        <NA>  10217876  2023-08-20  SV_81jKyfOtepO6Weq   \n",
       "1        <NA>  54974624  2023-08-16  SV_81jKyfOtepO6Weq   \n",
       "\n",
       "                       name first_nps_date last_nps_date  nb_fb  \n",
       "0  LMFR - Client SAV - PROD     2022-04-09    2023-08-20     14  \n",
       "1  LMFR - Client SAV - PROD     2023-08-16    2023-08-16      1  "
      ]
     },
     "metadata": {},
     "output_type": "display_data"
    }
   ],
   "source": [
    "df_nps_2 = df_nps_1.merge(df_nps_nb_fb, left_on='user_id', right_on='uid', how='left')\n",
    "del df_nps_2['uid']"
   ]
  },
  {
   "cell_type": "code",
   "execution_count": null,
   "metadata": {},
   "outputs": [],
   "source": [
    "# 0 for detractor, 1 for passive, 2 for promotor\n",
    "def fb_type(df):\n",
    "    if df['score'] <= 6 :\n",
    "        return 0\n",
    "    elif df['score'] >= 9:\n",
    "        return 2\n",
    "    else:\n",
    "        return 1"
   ]
  },
  {
   "cell_type": "code",
   "execution_count": null,
   "metadata": {},
   "outputs": [
    {
     "data": {
      "text/plain": [
       "<IntegerArray>\n",
       "[8, 10, 9, 4, 0, 3, 6, 5, 1, 7, 2, <NA>]\n",
       "Length: 12, dtype: Int64"
      ]
     },
     "metadata": {},
     "output_type": "display_data"
    }
   ],
   "source": [
    "df_nps_2['score'].unique()"
   ]
  },
  {
   "cell_type": "code",
   "execution_count": null,
   "metadata": {},
   "outputs": [],
   "source": [
    "df_nps_3 = df_nps_2[df_nps_2['score'].notna()]"
   ]
  },
  {
   "cell_type": "code",
   "execution_count": null,
   "metadata": {},
   "outputs": [
    {
     "name": "stderr",
     "output_type": "stream",
     "text": [
      "/var/folders/t5/84slq0fn2gx51rghrcgxpjt80000gn/T/ipykernel_46488/3604727486.py:1: SettingWithCopyWarning: \n",
      "A value is trying to be set on a copy of a slice from a DataFrame.\n",
      "Try using .loc[row_indexer,col_indexer] = value instead\n",
      "\n",
      "See the caveats in the documentation: https://pandas.pydata.org/pandas-docs/stable/user_guide/indexing.html#returning-a-view-versus-a-copy\n",
      "  df_nps_3['fb_type'] = df_nps_3.apply(fb_type, axis=1)\n"
     ]
    },
    {
     "data": {
      "text/html": [
       "<div>\n",
       "<style scoped>\n",
       "    .dataframe tbody tr th:only-of-type {\n",
       "        vertical-align: middle;\n",
       "    }\n",
       "\n",
       "    .dataframe tbody tr th {\n",
       "        vertical-align: top;\n",
       "    }\n",
       "\n",
       "    .dataframe thead th {\n",
       "        text-align: right;\n",
       "    }\n",
       "</style>\n",
       "<table border=\"1\" class=\"dataframe\">\n",
       "  <thead>\n",
       "    <tr style=\"text-align: right;\">\n",
       "      <th></th>\n",
       "      <th>answer_id</th>\n",
       "      <th>feedback_id</th>\n",
       "      <th>question_id</th>\n",
       "      <th>score</th>\n",
       "      <th>score_category</th>\n",
       "      <th>comment</th>\n",
       "      <th>touchpoint_id</th>\n",
       "      <th>store_code</th>\n",
       "      <th>user_id</th>\n",
       "      <th>answer_date</th>\n",
       "      <th>survey_id</th>\n",
       "      <th>name</th>\n",
       "      <th>first_nps_date</th>\n",
       "      <th>last_nps_date</th>\n",
       "      <th>nb_fb</th>\n",
       "      <th>fb_type</th>\n",
       "    </tr>\n",
       "  </thead>\n",
       "  <tbody>\n",
       "    <tr>\n",
       "      <th>0</th>\n",
       "      <td>R_111w3BVzUYwknmY__QID1_NPS_GROUP</td>\n",
       "      <td>R_111w3BVzUYwknmY</td>\n",
       "      <td>SV_81jKyfOtepO6Weq__QID1_NPS_GROUP</td>\n",
       "      <td>8</td>\n",
       "      <td>Passif</td>\n",
       "      <td>Bonjour, \\nJe suis entièrement satisfait de ...</td>\n",
       "      <td>SV_81jKyfOtepO6Weq</td>\n",
       "      <td>&lt;NA&gt;</td>\n",
       "      <td>10217876</td>\n",
       "      <td>2023-08-20</td>\n",
       "      <td>SV_81jKyfOtepO6Weq</td>\n",
       "      <td>LMFR - Client SAV - PROD</td>\n",
       "      <td>2022-04-09</td>\n",
       "      <td>2023-08-20</td>\n",
       "      <td>14</td>\n",
       "      <td>1</td>\n",
       "    </tr>\n",
       "    <tr>\n",
       "      <th>1</th>\n",
       "      <td>R_3htf0IgZ0ecDb8u__QID1_NPS_GROUP</td>\n",
       "      <td>R_3htf0IgZ0ecDb8u</td>\n",
       "      <td>SV_81jKyfOtepO6Weq__QID1_NPS_GROUP</td>\n",
       "      <td>10</td>\n",
       "      <td>Promoteur</td>\n",
       "      <td>None</td>\n",
       "      <td>SV_81jKyfOtepO6Weq</td>\n",
       "      <td>&lt;NA&gt;</td>\n",
       "      <td>54974624</td>\n",
       "      <td>2023-08-16</td>\n",
       "      <td>SV_81jKyfOtepO6Weq</td>\n",
       "      <td>LMFR - Client SAV - PROD</td>\n",
       "      <td>2023-08-16</td>\n",
       "      <td>2023-08-16</td>\n",
       "      <td>1</td>\n",
       "      <td>2</td>\n",
       "    </tr>\n",
       "  </tbody>\n",
       "</table>\n",
       "</div>"
      ],
      "text/plain": [
       "                           answer_id        feedback_id  \\\n",
       "0  R_111w3BVzUYwknmY__QID1_NPS_GROUP  R_111w3BVzUYwknmY   \n",
       "1  R_3htf0IgZ0ecDb8u__QID1_NPS_GROUP  R_3htf0IgZ0ecDb8u   \n",
       "\n",
       "                          question_id  score score_category  \\\n",
       "0  SV_81jKyfOtepO6Weq__QID1_NPS_GROUP      8         Passif   \n",
       "1  SV_81jKyfOtepO6Weq__QID1_NPS_GROUP     10      Promoteur   \n",
       "\n",
       "                                             comment       touchpoint_id  \\\n",
       "0    Bonjour, \\nJe suis entièrement satisfait de ...  SV_81jKyfOtepO6Weq   \n",
       "1                                               None  SV_81jKyfOtepO6Weq   \n",
       "\n",
       "   store_code   user_id answer_date           survey_id  \\\n",
       "0        <NA>  10217876  2023-08-20  SV_81jKyfOtepO6Weq   \n",
       "1        <NA>  54974624  2023-08-16  SV_81jKyfOtepO6Weq   \n",
       "\n",
       "                       name first_nps_date last_nps_date  nb_fb  fb_type  \n",
       "0  LMFR - Client SAV - PROD     2022-04-09    2023-08-20     14        1  \n",
       "1  LMFR - Client SAV - PROD     2023-08-16    2023-08-16      1        2  "
      ]
     },
     "metadata": {},
     "output_type": "display_data"
    }
   ],
   "source": [
    "df_nps_3['fb_type'] = df_nps_3.apply(fb_type, axis=1)"
   ]
  },
  {
   "cell_type": "code",
   "execution_count": null,
   "metadata": {},
   "outputs": [],
   "source": [
    "# types of the customer fb\n",
    "df_nps_fb_typ = df_nps_3.pivot_table(index='user_id', columns='fb_type', values='feedback_id', aggfunc='nunique').reset_index()\n",
    "df_nps_fb_typ.columns = ['uid', '0', '1', '2']\n",
    "df_nps_fb_typ = df_nps_fb_typ.fillna(0)\n",
    "df_nps_fb_typ.head()"
   ]
  },
  {
   "cell_type": "code",
   "execution_count": null,
   "metadata": {},
   "outputs": [],
   "source": [
    "def fb_type_res(df):\n",
    "    if df['0']==0 and df['1']==0:\n",
    "        return \"only positive\"\n",
    "    elif df['0']==0 and df['2']==0:\n",
    "        return \"only passive\"\n",
    "    elif df['1']==0 and df['2']==0:\n",
    "        return \"only negative\"\n",
    "    elif df['0']==0:\n",
    "        return \"passive and positive\"\n",
    "    elif df['1']==0:\n",
    "        return \"negative and positive\"  \n",
    "    elif df['2']==0:\n",
    "        return \"negative and passive\"  \n",
    "    else:\n",
    "        return \"negative, passive, positive\""
   ]
  },
  {
   "cell_type": "code",
   "execution_count": null,
   "metadata": {},
   "outputs": [],
   "source": [
    "df_nps_fb_typ['fb_type'] = df_nps_fb_typ.apply(fb_type_res, axis=1)"
   ]
  },
  {
   "cell_type": "code",
   "execution_count": null,
   "metadata": {},
   "outputs": [],
   "source": [
    "def fb_type_res_nb(df):\n",
    "    if (df['0']+df['1']+df['2']) > 1:\n",
    "        return \"mutli\"\n",
    "    else:\n",
    "        return \"mono\""
   ]
  },
  {
   "cell_type": "code",
   "execution_count": null,
   "metadata": {},
   "outputs": [],
   "source": [
    "df_nps_fb_typ['fb_nb_type'] = df_nps_fb_typ.apply(fb_type_res_nb, axis=1)"
   ]
  },
  {
   "cell_type": "code",
   "execution_count": null,
   "metadata": {},
   "outputs": [
    {
     "data": {
      "text/html": [
       "<div>\n",
       "<style scoped>\n",
       "    .dataframe tbody tr th:only-of-type {\n",
       "        vertical-align: middle;\n",
       "    }\n",
       "\n",
       "    .dataframe tbody tr th {\n",
       "        vertical-align: top;\n",
       "    }\n",
       "\n",
       "    .dataframe thead th {\n",
       "        text-align: right;\n",
       "    }\n",
       "</style>\n",
       "<table border=\"1\" class=\"dataframe\">\n",
       "  <thead>\n",
       "    <tr style=\"text-align: right;\">\n",
       "      <th></th>\n",
       "      <th>uid</th>\n",
       "      <th>nb_fb_neg</th>\n",
       "      <th>nb_fb_pas</th>\n",
       "      <th>nb_fb_pos</th>\n",
       "      <th>fb_group</th>\n",
       "      <th>fb_nb_type</th>\n",
       "    </tr>\n",
       "  </thead>\n",
       "  <tbody>\n",
       "    <tr>\n",
       "      <th>0</th>\n",
       "      <td>1000000</td>\n",
       "      <td>0.0</td>\n",
       "      <td>0.0</td>\n",
       "      <td>2.0</td>\n",
       "      <td>only positive</td>\n",
       "      <td>mutli</td>\n",
       "    </tr>\n",
       "    <tr>\n",
       "      <th>1</th>\n",
       "      <td>10000024</td>\n",
       "      <td>1.0</td>\n",
       "      <td>0.0</td>\n",
       "      <td>0.0</td>\n",
       "      <td>only negative</td>\n",
       "      <td>mono</td>\n",
       "    </tr>\n",
       "  </tbody>\n",
       "</table>\n",
       "</div>"
      ],
      "text/plain": [
       "        uid  nb_fb_neg  nb_fb_pas  nb_fb_pos       fb_group fb_nb_type\n",
       "0   1000000        0.0        0.0        2.0  only positive      mutli\n",
       "1  10000024        1.0        0.0        0.0  only negative       mono"
      ]
     },
     "metadata": {},
     "output_type": "display_data"
    }
   ],
   "source": [
    "df_nps_fb_typ.columns = ['uid', 'nb_fb_neg', 'nb_fb_pas', 'nb_fb_pos', 'fb_group', 'fb_nb_type']"
   ]
  },
  {
   "cell_type": "code",
   "execution_count": null,
   "metadata": {},
   "outputs": [
    {
     "data": {
      "text/html": [
       "<div>\n",
       "<style scoped>\n",
       "    .dataframe tbody tr th:only-of-type {\n",
       "        vertical-align: middle;\n",
       "    }\n",
       "\n",
       "    .dataframe tbody tr th {\n",
       "        vertical-align: top;\n",
       "    }\n",
       "\n",
       "    .dataframe thead th {\n",
       "        text-align: right;\n",
       "    }\n",
       "</style>\n",
       "<table border=\"1\" class=\"dataframe\">\n",
       "  <thead>\n",
       "    <tr style=\"text-align: right;\">\n",
       "      <th></th>\n",
       "      <th>answer_id</th>\n",
       "      <th>feedback_id</th>\n",
       "      <th>question_id</th>\n",
       "      <th>score</th>\n",
       "      <th>score_category</th>\n",
       "      <th>comment</th>\n",
       "      <th>touchpoint_id</th>\n",
       "      <th>store_code</th>\n",
       "      <th>user_id</th>\n",
       "      <th>answer_date</th>\n",
       "      <th>...</th>\n",
       "      <th>name</th>\n",
       "      <th>first_nps_date</th>\n",
       "      <th>last_nps_date</th>\n",
       "      <th>nb_fb</th>\n",
       "      <th>fb_type</th>\n",
       "      <th>nb_fb_neg</th>\n",
       "      <th>nb_fb_pas</th>\n",
       "      <th>nb_fb_pos</th>\n",
       "      <th>fb_group</th>\n",
       "      <th>fb_nb_type</th>\n",
       "    </tr>\n",
       "  </thead>\n",
       "  <tbody>\n",
       "    <tr>\n",
       "      <th>0</th>\n",
       "      <td>R_111w3BVzUYwknmY__QID1_NPS_GROUP</td>\n",
       "      <td>R_111w3BVzUYwknmY</td>\n",
       "      <td>SV_81jKyfOtepO6Weq__QID1_NPS_GROUP</td>\n",
       "      <td>8</td>\n",
       "      <td>Passif</td>\n",
       "      <td>Bonjour, \\nJe suis entièrement satisfait de ...</td>\n",
       "      <td>SV_81jKyfOtepO6Weq</td>\n",
       "      <td>&lt;NA&gt;</td>\n",
       "      <td>10217876</td>\n",
       "      <td>2023-08-20</td>\n",
       "      <td>...</td>\n",
       "      <td>LMFR - Client SAV - PROD</td>\n",
       "      <td>2022-04-09</td>\n",
       "      <td>2023-08-20</td>\n",
       "      <td>14</td>\n",
       "      <td>1</td>\n",
       "      <td>0.0</td>\n",
       "      <td>1.0</td>\n",
       "      <td>13.0</td>\n",
       "      <td>passive and positive</td>\n",
       "      <td>mutli</td>\n",
       "    </tr>\n",
       "    <tr>\n",
       "      <th>1</th>\n",
       "      <td>R_3htf0IgZ0ecDb8u__QID1_NPS_GROUP</td>\n",
       "      <td>R_3htf0IgZ0ecDb8u</td>\n",
       "      <td>SV_81jKyfOtepO6Weq__QID1_NPS_GROUP</td>\n",
       "      <td>10</td>\n",
       "      <td>Promoteur</td>\n",
       "      <td>None</td>\n",
       "      <td>SV_81jKyfOtepO6Weq</td>\n",
       "      <td>&lt;NA&gt;</td>\n",
       "      <td>54974624</td>\n",
       "      <td>2023-08-16</td>\n",
       "      <td>...</td>\n",
       "      <td>LMFR - Client SAV - PROD</td>\n",
       "      <td>2023-08-16</td>\n",
       "      <td>2023-08-16</td>\n",
       "      <td>1</td>\n",
       "      <td>2</td>\n",
       "      <td>0.0</td>\n",
       "      <td>0.0</td>\n",
       "      <td>1.0</td>\n",
       "      <td>only positive</td>\n",
       "      <td>mono</td>\n",
       "    </tr>\n",
       "  </tbody>\n",
       "</table>\n",
       "<p>2 rows × 21 columns</p>\n",
       "</div>"
      ],
      "text/plain": [
       "                           answer_id        feedback_id  \\\n",
       "0  R_111w3BVzUYwknmY__QID1_NPS_GROUP  R_111w3BVzUYwknmY   \n",
       "1  R_3htf0IgZ0ecDb8u__QID1_NPS_GROUP  R_3htf0IgZ0ecDb8u   \n",
       "\n",
       "                          question_id  score score_category  \\\n",
       "0  SV_81jKyfOtepO6Weq__QID1_NPS_GROUP      8         Passif   \n",
       "1  SV_81jKyfOtepO6Weq__QID1_NPS_GROUP     10      Promoteur   \n",
       "\n",
       "                                             comment       touchpoint_id  \\\n",
       "0    Bonjour, \\nJe suis entièrement satisfait de ...  SV_81jKyfOtepO6Weq   \n",
       "1                                               None  SV_81jKyfOtepO6Weq   \n",
       "\n",
       "   store_code   user_id answer_date  ...                      name  \\\n",
       "0        <NA>  10217876  2023-08-20  ...  LMFR - Client SAV - PROD   \n",
       "1        <NA>  54974624  2023-08-16  ...  LMFR - Client SAV - PROD   \n",
       "\n",
       "  first_nps_date last_nps_date nb_fb  fb_type  nb_fb_neg  nb_fb_pas  \\\n",
       "0     2022-04-09    2023-08-20    14        1        0.0        1.0   \n",
       "1     2023-08-16    2023-08-16     1        2        0.0        0.0   \n",
       "\n",
       "   nb_fb_pos              fb_group fb_nb_type  \n",
       "0       13.0  passive and positive      mutli  \n",
       "1        1.0         only positive       mono  \n",
       "\n",
       "[2 rows x 21 columns]"
      ]
     },
     "metadata": {},
     "output_type": "display_data"
    }
   ],
   "source": [
    "df_nps_4 = df_nps_3.merge(df_nps_fb_typ, left_on='user_id', right_on='uid', how='left')\n",
    "del df_nps_4['uid']"
   ]
  },
  {
   "cell_type": "code",
   "execution_count": null,
   "metadata": {},
   "outputs": [
    {
     "data": {
      "text/html": [
       "<div>\n",
       "<style scoped>\n",
       "    .dataframe tbody tr th:only-of-type {\n",
       "        vertical-align: middle;\n",
       "    }\n",
       "\n",
       "    .dataframe tbody tr th {\n",
       "        vertical-align: top;\n",
       "    }\n",
       "\n",
       "    .dataframe thead th {\n",
       "        text-align: right;\n",
       "    }\n",
       "</style>\n",
       "<table border=\"1\" class=\"dataframe\">\n",
       "  <thead>\n",
       "    <tr style=\"text-align: right;\">\n",
       "      <th></th>\n",
       "      <th>fb_nb_type</th>\n",
       "      <th>user_id</th>\n",
       "      <th>share_%</th>\n",
       "    </tr>\n",
       "  </thead>\n",
       "  <tbody>\n",
       "    <tr>\n",
       "      <th>0</th>\n",
       "      <td>mono</td>\n",
       "      <td>889117</td>\n",
       "      <td>72.614886</td>\n",
       "    </tr>\n",
       "    <tr>\n",
       "      <th>1</th>\n",
       "      <td>mutli</td>\n",
       "      <td>335311</td>\n",
       "      <td>27.385114</td>\n",
       "    </tr>\n",
       "  </tbody>\n",
       "</table>\n",
       "</div>"
      ],
      "text/plain": [
       "  fb_nb_type  user_id    share_%\n",
       "0       mono   889117  72.614886\n",
       "1      mutli   335311  27.385114"
      ]
     },
     "metadata": {},
     "output_type": "display_data"
    }
   ],
   "source": [
    "df_nps_summary_type = df_nps_4.groupby('fb_nb_type')['user_id'].nunique().reset_index()\n",
    "df_nps_summary_type['share_%'] = (df_nps_summary_type['user_id'] / df_nps_summary_type['user_id'].sum())*100\n",
    "df_nps_summary_type"
   ]
  },
  {
   "cell_type": "code",
   "execution_count": null,
   "metadata": {},
   "outputs": [
    {
     "data": {
      "text/html": [
       "<div>\n",
       "<style scoped>\n",
       "    .dataframe tbody tr th:only-of-type {\n",
       "        vertical-align: middle;\n",
       "    }\n",
       "\n",
       "    .dataframe tbody tr th {\n",
       "        vertical-align: top;\n",
       "    }\n",
       "\n",
       "    .dataframe thead th {\n",
       "        text-align: right;\n",
       "    }\n",
       "</style>\n",
       "<table border=\"1\" class=\"dataframe\">\n",
       "  <thead>\n",
       "    <tr style=\"text-align: right;\">\n",
       "      <th></th>\n",
       "      <th>fb_group</th>\n",
       "      <th>user_id</th>\n",
       "      <th>share_%</th>\n",
       "    </tr>\n",
       "  </thead>\n",
       "  <tbody>\n",
       "    <tr>\n",
       "      <th>5</th>\n",
       "      <td>only positive</td>\n",
       "      <td>680303</td>\n",
       "      <td>55.560882</td>\n",
       "    </tr>\n",
       "    <tr>\n",
       "      <th>4</th>\n",
       "      <td>only passive</td>\n",
       "      <td>277548</td>\n",
       "      <td>22.667564</td>\n",
       "    </tr>\n",
       "    <tr>\n",
       "      <th>3</th>\n",
       "      <td>only negative</td>\n",
       "      <td>129318</td>\n",
       "      <td>10.561503</td>\n",
       "    </tr>\n",
       "    <tr>\n",
       "      <th>6</th>\n",
       "      <td>passive and positive</td>\n",
       "      <td>77828</td>\n",
       "      <td>6.356274</td>\n",
       "    </tr>\n",
       "    <tr>\n",
       "      <th>1</th>\n",
       "      <td>negative and positive</td>\n",
       "      <td>26855</td>\n",
       "      <td>2.193269</td>\n",
       "    </tr>\n",
       "    <tr>\n",
       "      <th>0</th>\n",
       "      <td>negative and passive</td>\n",
       "      <td>21942</td>\n",
       "      <td>1.792020</td>\n",
       "    </tr>\n",
       "    <tr>\n",
       "      <th>2</th>\n",
       "      <td>negative, passive, positive</td>\n",
       "      <td>10634</td>\n",
       "      <td>0.868487</td>\n",
       "    </tr>\n",
       "  </tbody>\n",
       "</table>\n",
       "</div>"
      ],
      "text/plain": [
       "                      fb_group  user_id    share_%\n",
       "5                only positive   680303  55.560882\n",
       "4                 only passive   277548  22.667564\n",
       "3                only negative   129318  10.561503\n",
       "6         passive and positive    77828   6.356274\n",
       "1        negative and positive    26855   2.193269\n",
       "0         negative and passive    21942   1.792020\n",
       "2  negative, passive, positive    10634   0.868487"
      ]
     },
     "metadata": {},
     "output_type": "display_data"
    }
   ],
   "source": [
    "df_nps_summary_group = df_nps_4.groupby('fb_group')['user_id'].nunique().reset_index()\n",
    "df_nps_summary_group['share_%'] = (df_nps_summary_group['user_id'] / df_nps_summary_group['user_id'].sum())*100\n",
    "df_nps_summary_group = df_nps_summary_group.sort_values(by='share_%', ascending=False)\n",
    "df_nps_summary_group"
   ]
  },
  {
   "cell_type": "code",
   "execution_count": null,
   "metadata": {},
   "outputs": [
    {
     "data": {
      "text/html": [
       "<div>\n",
       "<style scoped>\n",
       "    .dataframe tbody tr th:only-of-type {\n",
       "        vertical-align: middle;\n",
       "    }\n",
       "\n",
       "    .dataframe tbody tr th {\n",
       "        vertical-align: top;\n",
       "    }\n",
       "\n",
       "    .dataframe thead th {\n",
       "        text-align: right;\n",
       "    }\n",
       "</style>\n",
       "<table border=\"1\" class=\"dataframe\">\n",
       "  <thead>\n",
       "    <tr style=\"text-align: right;\">\n",
       "      <th></th>\n",
       "      <th>fb_nb_type</th>\n",
       "      <th>fb_group</th>\n",
       "      <th>user_id</th>\n",
       "      <th>share_%</th>\n",
       "    </tr>\n",
       "  </thead>\n",
       "  <tbody>\n",
       "    <tr>\n",
       "      <th>2</th>\n",
       "      <td>mono</td>\n",
       "      <td>only positive</td>\n",
       "      <td>524428</td>\n",
       "      <td>42.830448</td>\n",
       "    </tr>\n",
       "    <tr>\n",
       "      <th>1</th>\n",
       "      <td>mono</td>\n",
       "      <td>only passive</td>\n",
       "      <td>246769</td>\n",
       "      <td>20.153819</td>\n",
       "    </tr>\n",
       "    <tr>\n",
       "      <th>0</th>\n",
       "      <td>mono</td>\n",
       "      <td>only negative</td>\n",
       "      <td>117920</td>\n",
       "      <td>9.630619</td>\n",
       "    </tr>\n",
       "    <tr>\n",
       "      <th>8</th>\n",
       "      <td>mutli</td>\n",
       "      <td>only positive</td>\n",
       "      <td>155875</td>\n",
       "      <td>12.730434</td>\n",
       "    </tr>\n",
       "    <tr>\n",
       "      <th>9</th>\n",
       "      <td>mutli</td>\n",
       "      <td>passive and positive</td>\n",
       "      <td>77828</td>\n",
       "      <td>6.356274</td>\n",
       "    </tr>\n",
       "    <tr>\n",
       "      <th>7</th>\n",
       "      <td>mutli</td>\n",
       "      <td>only passive</td>\n",
       "      <td>30779</td>\n",
       "      <td>2.513745</td>\n",
       "    </tr>\n",
       "    <tr>\n",
       "      <th>4</th>\n",
       "      <td>mutli</td>\n",
       "      <td>negative and positive</td>\n",
       "      <td>26855</td>\n",
       "      <td>2.193269</td>\n",
       "    </tr>\n",
       "    <tr>\n",
       "      <th>3</th>\n",
       "      <td>mutli</td>\n",
       "      <td>negative and passive</td>\n",
       "      <td>21942</td>\n",
       "      <td>1.792020</td>\n",
       "    </tr>\n",
       "    <tr>\n",
       "      <th>6</th>\n",
       "      <td>mutli</td>\n",
       "      <td>only negative</td>\n",
       "      <td>11398</td>\n",
       "      <td>0.930884</td>\n",
       "    </tr>\n",
       "    <tr>\n",
       "      <th>5</th>\n",
       "      <td>mutli</td>\n",
       "      <td>negative, passive, positive</td>\n",
       "      <td>10634</td>\n",
       "      <td>0.868487</td>\n",
       "    </tr>\n",
       "  </tbody>\n",
       "</table>\n",
       "</div>"
      ],
      "text/plain": [
       "  fb_nb_type                     fb_group  user_id    share_%\n",
       "2       mono                only positive   524428  42.830448\n",
       "1       mono                 only passive   246769  20.153819\n",
       "0       mono                only negative   117920   9.630619\n",
       "8      mutli                only positive   155875  12.730434\n",
       "9      mutli         passive and positive    77828   6.356274\n",
       "7      mutli                 only passive    30779   2.513745\n",
       "4      mutli        negative and positive    26855   2.193269\n",
       "3      mutli         negative and passive    21942   1.792020\n",
       "6      mutli                only negative    11398   0.930884\n",
       "5      mutli  negative, passive, positive    10634   0.868487"
      ]
     },
     "metadata": {},
     "output_type": "display_data"
    }
   ],
   "source": [
    "df_nps_summary = df_nps_4.groupby(['fb_nb_type', 'fb_group'])['user_id'].nunique().reset_index()\n",
    "df_nps_summary['share_%'] = (df_nps_summary['user_id'] / df_nps_summary['user_id'].sum())*100\n",
    "df_nps_summary = df_nps_summary.sort_values(by=['fb_nb_type','share_%'], ascending=[True, False])\n",
    "df_nps_summary"
   ]
  },
  {
   "cell_type": "code",
   "execution_count": null,
   "metadata": {},
   "outputs": [],
   "source": []
  },
  {
   "cell_type": "code",
   "execution_count": null,
   "metadata": {},
   "outputs": [],
   "source": []
  },
  {
   "cell_type": "code",
   "execution_count": null,
   "metadata": {},
   "outputs": [],
   "source": []
  },
  {
   "cell_type": "code",
   "execution_count": null,
   "metadata": {},
   "outputs": [],
   "source": []
  }
 ],
 "metadata": {
  "kernelspec": {
   "display_name": "cashing-scoring-env",
   "language": "python",
   "name": "python3"
  },
  "language_info": {
   "codemirror_mode": {
    "name": "ipython",
    "version": 3
   },
   "file_extension": ".py",
   "mimetype": "text/x-python",
   "name": "python",
   "nbconvert_exporter": "python",
   "pygments_lexer": "ipython3",
   "version": "3.10.9 (main, Jan 26 2023, 14:03:48) [Clang 14.0.0 (clang-1400.0.29.202)]"
  },
  "orig_nbformat": 4,
  "vscode": {
   "interpreter": {
    "hash": "5932c71fae83f54b051fd5cdef704798997082f1902f53297518df8c2923f49d"
   }
  }
 },
 "nbformat": 4,
 "nbformat_minor": 2
}
